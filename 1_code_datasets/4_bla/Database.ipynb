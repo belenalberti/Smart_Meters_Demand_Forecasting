{
 "cells": [
  {
   "cell_type": "markdown",
   "metadata": {},
   "source": [
    "Data preparation"
   ]
  },
  {
   "cell_type": "code",
   "execution_count": 2,
   "metadata": {},
   "outputs": [
    {
     "data": {
      "text/html": [
       "        <script type=\"text/javascript\">\n",
       "        window.PlotlyConfig = {MathJaxConfig: 'local'};\n",
       "        if (window.MathJax) {MathJax.Hub.Config({SVG: {font: \"STIX-Web\"}});}\n",
       "        if (typeof require !== 'undefined') {\n",
       "        require.undef(\"plotly\");\n",
       "        requirejs.config({\n",
       "            paths: {\n",
       "                'plotly': ['https://cdn.plot.ly/plotly-latest.min']\n",
       "            }\n",
       "        });\n",
       "        require(['plotly'], function(Plotly) {\n",
       "            window._Plotly = Plotly;\n",
       "        });\n",
       "        }\n",
       "        </script>\n",
       "        "
      ]
     },
     "metadata": {},
     "output_type": "display_data"
    }
   ],
   "source": [
    "import os\n",
    "import sys\n",
    "#from tqdm import tqdm\n",
    "from tqdm import tqdm_notebook as tqdm\n",
    "import datetime\n",
    "\n",
    "import pandas as pd\n",
    "import numpy as np\n",
    "import scipy\n",
    "\n",
    "import matplotlib.pyplot as plt\n",
    "import seaborn as sns\n",
    "sns.set(color_codes=True)\n",
    "\n",
    "import plotly.graph_objs as go\n",
    "import plotly.figure_factory as ff\n",
    "from plotly.offline import download_plotlyjs, init_notebook_mode, plot, iplot\n",
    "\n",
    "init_notebook_mode(connected=True)\n",
    "\n",
    "from datetime import datetime\n",
    "import numpy "
   ]
  },
  {
   "cell_type": "code",
   "execution_count": 2,
   "metadata": {},
   "outputs": [],
   "source": [
    "folder = \"/Users/mariabelenalberti/Downloads/smart-meters-in-london/\""
   ]
  },
  {
   "cell_type": "code",
   "execution_count": 3,
   "metadata": {},
   "outputs": [],
   "source": [
    "# Weather\n",
    "filename = \"weather_half_hourly.csv\"\n",
    "weather = pd.read_csv(folder + filename)\n",
    "weather[\"tstp\"] = weather[\"timestamp\"]"
   ]
  },
  {
   "cell_type": "code",
   "execution_count": 4,
   "metadata": {},
   "outputs": [
    {
     "data": {
      "text/html": [
       "<div>\n",
       "<style scoped>\n",
       "    .dataframe tbody tr th:only-of-type {\n",
       "        vertical-align: middle;\n",
       "    }\n",
       "\n",
       "    .dataframe tbody tr th {\n",
       "        vertical-align: top;\n",
       "    }\n",
       "\n",
       "    .dataframe thead th {\n",
       "        text-align: right;\n",
       "    }\n",
       "</style>\n",
       "<table border=\"1\" class=\"dataframe\">\n",
       "  <thead>\n",
       "    <tr style=\"text-align: right;\">\n",
       "      <th></th>\n",
       "      <th>timestamp</th>\n",
       "      <th>temperature</th>\n",
       "      <th>apparent_temperature</th>\n",
       "      <th>pressure</th>\n",
       "      <th>wind_speed</th>\n",
       "      <th>humidity</th>\n",
       "      <th>tstp</th>\n",
       "    </tr>\n",
       "  </thead>\n",
       "  <tbody>\n",
       "    <tr>\n",
       "      <th>0</th>\n",
       "      <td>01/01/2012 00:00</td>\n",
       "      <td>13.49</td>\n",
       "      <td>13.49</td>\n",
       "      <td>1008.14</td>\n",
       "      <td>3.11</td>\n",
       "      <td>0.88</td>\n",
       "      <td>01/01/2012 00:00</td>\n",
       "    </tr>\n",
       "    <tr>\n",
       "      <th>1</th>\n",
       "      <td>01/01/2012 00:30</td>\n",
       "      <td>13.49</td>\n",
       "      <td>13.49</td>\n",
       "      <td>1008.14</td>\n",
       "      <td>3.11</td>\n",
       "      <td>0.88</td>\n",
       "      <td>01/01/2012 00:30</td>\n",
       "    </tr>\n",
       "    <tr>\n",
       "      <th>2</th>\n",
       "      <td>01/01/2012 01:00</td>\n",
       "      <td>12.73</td>\n",
       "      <td>12.73</td>\n",
       "      <td>1007.88</td>\n",
       "      <td>3.08</td>\n",
       "      <td>0.93</td>\n",
       "      <td>01/01/2012 01:00</td>\n",
       "    </tr>\n",
       "    <tr>\n",
       "      <th>3</th>\n",
       "      <td>01/01/2012 01:30</td>\n",
       "      <td>12.73</td>\n",
       "      <td>12.73</td>\n",
       "      <td>1007.88</td>\n",
       "      <td>3.08</td>\n",
       "      <td>0.93</td>\n",
       "      <td>01/01/2012 01:30</td>\n",
       "    </tr>\n",
       "    <tr>\n",
       "      <th>4</th>\n",
       "      <td>01/01/2012 02:00</td>\n",
       "      <td>13.65</td>\n",
       "      <td>13.65</td>\n",
       "      <td>1007.09</td>\n",
       "      <td>3.71</td>\n",
       "      <td>0.91</td>\n",
       "      <td>01/01/2012 02:00</td>\n",
       "    </tr>\n",
       "  </tbody>\n",
       "</table>\n",
       "</div>"
      ],
      "text/plain": [
       "          timestamp  temperature  apparent_temperature  pressure  wind_speed  \\\n",
       "0  01/01/2012 00:00        13.49                 13.49   1008.14        3.11   \n",
       "1  01/01/2012 00:30        13.49                 13.49   1008.14        3.11   \n",
       "2  01/01/2012 01:00        12.73                 12.73   1007.88        3.08   \n",
       "3  01/01/2012 01:30        12.73                 12.73   1007.88        3.08   \n",
       "4  01/01/2012 02:00        13.65                 13.65   1007.09        3.71   \n",
       "\n",
       "   humidity              tstp  \n",
       "0      0.88  01/01/2012 00:00  \n",
       "1      0.88  01/01/2012 00:30  \n",
       "2      0.93  01/01/2012 01:00  \n",
       "3      0.93  01/01/2012 01:30  \n",
       "4      0.91  01/01/2012 02:00  "
      ]
     },
     "execution_count": 4,
     "metadata": {},
     "output_type": "execute_result"
    }
   ],
   "source": [
    "weather.head()"
   ]
  },
  {
   "cell_type": "code",
   "execution_count": 5,
   "metadata": {},
   "outputs": [],
   "source": [
    "# Energy\n",
    "\n",
    "dataset_folder=\"halfhourly_dataset/\"\n",
    "\n",
    "import glob\n",
    "import pandas as pd\n",
    "\n",
    "path = \"/Users/mariabelenalberti/Downloads/smart-meters-in-london/halfhourly_dataset\"\n",
    "filenames = glob.glob(path + \"/*.csv\")\n",
    "\n",
    "dfs = []\n",
    "for filename in filenames:\n",
    "    dfs.append(pd.read_csv(filename,low_memory= False))"
   ]
  },
  {
   "cell_type": "code",
   "execution_count": 6,
   "metadata": {},
   "outputs": [
    {
     "data": {
      "text/plain": [
       "167817021"
      ]
     },
     "execution_count": 6,
     "metadata": {},
     "output_type": "execute_result"
    }
   ],
   "source": [
    "# Concateno todos los bloques de datos\n",
    "half_hourly_complete = pd.concat(dfs, ignore_index=True)\n",
    "len(half_hourly_complete)"
   ]
  },
  {
   "cell_type": "code",
   "execution_count": 7,
   "metadata": {},
   "outputs": [
    {
     "data": {
      "text/plain": [
       "5566"
      ]
     },
     "execution_count": 7,
     "metadata": {},
     "output_type": "execute_result"
    }
   ],
   "source": [
    "# Acorn\n",
    "filename = \"informations_households.csv\"\n",
    "households = pd.read_csv(folder + filename)\n",
    "len(households)"
   ]
  },
  {
   "cell_type": "code",
   "execution_count": 8,
   "metadata": {},
   "outputs": [],
   "source": [
    "# Energy + Acron\n",
    "energy_acorn = pd.merge(half_hourly_complete,households, on='LCLid')"
   ]
  },
  {
   "cell_type": "code",
   "execution_count": 9,
   "metadata": {},
   "outputs": [
    {
     "data": {
      "text/plain": [
       "0       2012-01-01 00:00:00\n",
       "1       2012-01-01 00:30:00\n",
       "2       2012-01-01 01:00:00\n",
       "3       2012-01-01 01:30:00\n",
       "4       2012-01-01 02:00:00\n",
       "5       2012-01-01 02:30:00\n",
       "6       2012-01-01 03:00:00\n",
       "7       2012-01-01 03:30:00\n",
       "8       2012-01-01 04:00:00\n",
       "9       2012-01-01 04:30:00\n",
       "10      2012-01-01 05:00:00\n",
       "11      2012-01-01 05:30:00\n",
       "12      2012-01-01 06:00:00\n",
       "13      2012-01-01 06:30:00\n",
       "14      2012-01-01 07:00:00\n",
       "15      2012-01-01 07:30:00\n",
       "16      2012-01-01 08:00:00\n",
       "17      2012-01-01 08:30:00\n",
       "18      2012-01-01 09:00:00\n",
       "19      2012-01-01 09:30:00\n",
       "20      2012-01-01 10:00:00\n",
       "21      2012-01-01 10:30:00\n",
       "22      2012-01-01 11:00:00\n",
       "23      2012-01-01 11:30:00\n",
       "24      2012-01-01 12:00:00\n",
       "25      2012-01-01 12:30:00\n",
       "26      2012-01-01 13:00:00\n",
       "27      2012-01-01 13:30:00\n",
       "28      2012-01-01 14:00:00\n",
       "29      2012-01-01 14:30:00\n",
       "                ...        \n",
       "35054   2013-12-31 09:00:00\n",
       "35055   2013-12-31 09:30:00\n",
       "35056   2013-12-31 10:00:00\n",
       "35057   2013-12-31 10:30:00\n",
       "35058   2013-12-31 11:00:00\n",
       "35059   2013-12-31 11:30:00\n",
       "35060   2013-12-31 12:00:00\n",
       "35061   2013-12-31 12:30:00\n",
       "35062   2013-12-31 13:00:00\n",
       "35063   2013-12-31 13:30:00\n",
       "35064   2013-12-31 14:00:00\n",
       "35065   2013-12-31 14:30:00\n",
       "35066   2013-12-31 15:00:00\n",
       "35067   2013-12-31 15:30:00\n",
       "35068   2013-12-31 16:00:00\n",
       "35069   2013-12-31 16:30:00\n",
       "35070   2013-12-31 17:00:00\n",
       "35071   2013-12-31 17:30:00\n",
       "35072   2013-12-31 18:00:00\n",
       "35073   2013-12-31 18:30:00\n",
       "35074   2013-12-31 19:00:00\n",
       "35075   2013-12-31 19:30:00\n",
       "35076   2013-12-31 20:00:00\n",
       "35077   2013-12-31 20:30:00\n",
       "35078   2013-12-31 21:00:00\n",
       "35079   2013-12-31 21:30:00\n",
       "35080   2013-12-31 22:00:00\n",
       "35081   2013-12-31 22:30:00\n",
       "35082   2013-12-31 23:00:00\n",
       "35083   2013-12-31 23:30:00\n",
       "Name: tstp, Length: 35084, dtype: datetime64[ns]"
      ]
     },
     "execution_count": 9,
     "metadata": {},
     "output_type": "execute_result"
    }
   ],
   "source": [
    "pd.to_datetime(weather.tstp)"
   ]
  },
  {
   "cell_type": "code",
   "execution_count": 10,
   "metadata": {},
   "outputs": [],
   "source": [
    "weather['tstp']= pd.to_datetime(weather['tstp'],format = '%d/%m/%Y %H:%M')"
   ]
  },
  {
   "cell_type": "code",
   "execution_count": 11,
   "metadata": {},
   "outputs": [
    {
     "data": {
      "text/plain": [
       "0           2011-12-07 11:30:00\n",
       "1           2011-12-07 12:00:00\n",
       "2           2011-12-07 12:30:00\n",
       "3           2011-12-07 13:00:00\n",
       "4           2011-12-07 13:30:00\n",
       "5           2011-12-07 14:00:00\n",
       "6           2011-12-07 14:30:00\n",
       "7           2011-12-07 15:00:00\n",
       "8           2011-12-07 15:30:00\n",
       "9           2011-12-07 16:00:00\n",
       "10          2011-12-07 16:30:00\n",
       "11          2011-12-07 17:00:00\n",
       "12          2011-12-07 17:30:00\n",
       "13          2011-12-07 18:00:00\n",
       "14          2011-12-07 18:30:00\n",
       "15          2011-12-07 19:00:00\n",
       "16          2011-12-07 19:30:00\n",
       "17          2011-12-07 20:00:00\n",
       "18          2011-12-07 20:30:00\n",
       "19          2011-12-07 21:00:00\n",
       "20          2011-12-07 21:30:00\n",
       "21          2011-12-07 22:00:00\n",
       "22          2011-12-07 22:30:00\n",
       "23          2011-12-07 23:00:00\n",
       "24          2011-12-07 23:30:00\n",
       "25          2011-12-08 00:00:00\n",
       "26          2011-12-08 00:30:00\n",
       "27          2011-12-08 01:00:00\n",
       "28          2011-12-08 01:30:00\n",
       "29          2011-12-08 02:00:00\n",
       "                    ...        \n",
       "167816991   2013-05-15 09:00:00\n",
       "167816992   2013-05-15 09:30:00\n",
       "167816993   2013-05-15 10:00:00\n",
       "167816994   2013-05-15 10:30:00\n",
       "167816995   2013-05-15 11:00:00\n",
       "167816996   2013-05-15 11:30:00\n",
       "167816997   2013-05-15 12:00:00\n",
       "167816998   2013-05-15 12:30:00\n",
       "167816999   2013-05-15 13:00:00\n",
       "167817000   2013-05-15 13:30:00\n",
       "167817001   2013-05-15 14:00:00\n",
       "167817002   2013-05-15 14:30:00\n",
       "167817003   2013-05-15 15:00:00\n",
       "167817004   2013-05-15 15:30:00\n",
       "167817005   2013-05-15 16:00:00\n",
       "167817006   2013-05-15 16:30:00\n",
       "167817007   2013-05-15 17:00:00\n",
       "167817008   2013-05-15 17:30:00\n",
       "167817009   2013-05-15 18:00:00\n",
       "167817010   2013-05-15 18:30:00\n",
       "167817011   2013-05-15 19:00:00\n",
       "167817012   2013-05-15 19:30:00\n",
       "167817013   2013-05-15 20:00:00\n",
       "167817014   2013-05-15 20:30:00\n",
       "167817015   2013-05-15 21:00:00\n",
       "167817016   2013-05-15 21:30:00\n",
       "167817017   2013-05-15 22:00:00\n",
       "167817018   2013-05-15 22:30:00\n",
       "167817019   2013-05-15 23:00:00\n",
       "167817020   2013-05-15 23:30:00\n",
       "Name: tstp, Length: 167817021, dtype: datetime64[ns]"
      ]
     },
     "execution_count": 11,
     "metadata": {},
     "output_type": "execute_result"
    }
   ],
   "source": [
    "pd.to_datetime(energy_acorn.tstp)"
   ]
  },
  {
   "cell_type": "code",
   "execution_count": 14,
   "metadata": {},
   "outputs": [],
   "source": [
    "energy_acorn['tstp']= pd.to_datetime(energy_acorn['tstp'],format = '%Y/%m/%d %H:%M:%S.%f')"
   ]
  },
  {
   "cell_type": "code",
   "execution_count": null,
   "metadata": {},
   "outputs": [],
   "source": []
  },
  {
   "cell_type": "code",
   "execution_count": 15,
   "metadata": {},
   "outputs": [],
   "source": [
    "# energy + acorn + weather\n",
    "\n",
    "energy_acorn_weather = pd.merge(energy_acorn,weather, on='tstp')"
   ]
  },
  {
   "cell_type": "code",
   "execution_count": 16,
   "metadata": {},
   "outputs": [],
   "source": [
    "energy_acorn_weather[\"weeknumber\"]=energy_acorn_weather[\"tstp\"].dt.day_name()"
   ]
  },
  {
   "cell_type": "code",
   "execution_count": 17,
   "metadata": {},
   "outputs": [
    {
     "data": {
      "text/html": [
       "<div>\n",
       "<style scoped>\n",
       "    .dataframe tbody tr th:only-of-type {\n",
       "        vertical-align: middle;\n",
       "    }\n",
       "\n",
       "    .dataframe tbody tr th {\n",
       "        vertical-align: top;\n",
       "    }\n",
       "\n",
       "    .dataframe thead th {\n",
       "        text-align: right;\n",
       "    }\n",
       "</style>\n",
       "<table border=\"1\" class=\"dataframe\">\n",
       "  <thead>\n",
       "    <tr style=\"text-align: right;\">\n",
       "      <th></th>\n",
       "      <th>LCLid</th>\n",
       "      <th>tstp</th>\n",
       "      <th>energy(kWh/hh)</th>\n",
       "      <th>stdorToU</th>\n",
       "      <th>Acorn</th>\n",
       "      <th>Acorn_grouped</th>\n",
       "      <th>file</th>\n",
       "      <th>timestamp</th>\n",
       "      <th>temperature</th>\n",
       "      <th>apparent_temperature</th>\n",
       "      <th>pressure</th>\n",
       "      <th>wind_speed</th>\n",
       "      <th>humidity</th>\n",
       "      <th>weeknumber</th>\n",
       "    </tr>\n",
       "  </thead>\n",
       "  <tbody>\n",
       "    <tr>\n",
       "      <th>0</th>\n",
       "      <td>MAC000027</td>\n",
       "      <td>2012-01-01</td>\n",
       "      <td>0.125</td>\n",
       "      <td>Std</td>\n",
       "      <td>ACORN-J</td>\n",
       "      <td>Comfortable</td>\n",
       "      <td>block_71</td>\n",
       "      <td>01/01/2012 00:00</td>\n",
       "      <td>13.49</td>\n",
       "      <td>13.49</td>\n",
       "      <td>1008.14</td>\n",
       "      <td>3.11</td>\n",
       "      <td>0.88</td>\n",
       "      <td>Sunday</td>\n",
       "    </tr>\n",
       "    <tr>\n",
       "      <th>1</th>\n",
       "      <td>MAC000069</td>\n",
       "      <td>2012-01-01</td>\n",
       "      <td>0.243</td>\n",
       "      <td>Std</td>\n",
       "      <td>ACORN-G</td>\n",
       "      <td>Comfortable</td>\n",
       "      <td>block_59</td>\n",
       "      <td>01/01/2012 00:00</td>\n",
       "      <td>13.49</td>\n",
       "      <td>13.49</td>\n",
       "      <td>1008.14</td>\n",
       "      <td>3.11</td>\n",
       "      <td>0.88</td>\n",
       "      <td>Sunday</td>\n",
       "    </tr>\n",
       "    <tr>\n",
       "      <th>2</th>\n",
       "      <td>MAC000241</td>\n",
       "      <td>2012-01-01</td>\n",
       "      <td>0.314</td>\n",
       "      <td>Std</td>\n",
       "      <td>ACORN-G</td>\n",
       "      <td>Comfortable</td>\n",
       "      <td>block_59</td>\n",
       "      <td>01/01/2012 00:00</td>\n",
       "      <td>13.49</td>\n",
       "      <td>13.49</td>\n",
       "      <td>1008.14</td>\n",
       "      <td>3.11</td>\n",
       "      <td>0.88</td>\n",
       "      <td>Sunday</td>\n",
       "    </tr>\n",
       "    <tr>\n",
       "      <th>3</th>\n",
       "      <td>MAC000250</td>\n",
       "      <td>2012-01-01</td>\n",
       "      <td>0.056</td>\n",
       "      <td>Std</td>\n",
       "      <td>ACORN-G</td>\n",
       "      <td>Comfortable</td>\n",
       "      <td>block_59</td>\n",
       "      <td>01/01/2012 00:00</td>\n",
       "      <td>13.49</td>\n",
       "      <td>13.49</td>\n",
       "      <td>1008.14</td>\n",
       "      <td>3.11</td>\n",
       "      <td>0.88</td>\n",
       "      <td>Sunday</td>\n",
       "    </tr>\n",
       "    <tr>\n",
       "      <th>4</th>\n",
       "      <td>MAC004485</td>\n",
       "      <td>2012-01-01</td>\n",
       "      <td>0.077</td>\n",
       "      <td>ToU</td>\n",
       "      <td>ACORN-G</td>\n",
       "      <td>Comfortable</td>\n",
       "      <td>block_59</td>\n",
       "      <td>01/01/2012 00:00</td>\n",
       "      <td>13.49</td>\n",
       "      <td>13.49</td>\n",
       "      <td>1008.14</td>\n",
       "      <td>3.11</td>\n",
       "      <td>0.88</td>\n",
       "      <td>Sunday</td>\n",
       "    </tr>\n",
       "  </tbody>\n",
       "</table>\n",
       "</div>"
      ],
      "text/plain": [
       "       LCLid       tstp energy(kWh/hh) stdorToU    Acorn Acorn_grouped  \\\n",
       "0  MAC000027 2012-01-01         0.125       Std  ACORN-J   Comfortable   \n",
       "1  MAC000069 2012-01-01         0.243       Std  ACORN-G   Comfortable   \n",
       "2  MAC000241 2012-01-01         0.314       Std  ACORN-G   Comfortable   \n",
       "3  MAC000250 2012-01-01         0.056       Std  ACORN-G   Comfortable   \n",
       "4  MAC004485 2012-01-01         0.077       ToU  ACORN-G   Comfortable   \n",
       "\n",
       "       file         timestamp  temperature  apparent_temperature  pressure  \\\n",
       "0  block_71  01/01/2012 00:00        13.49                 13.49   1008.14   \n",
       "1  block_59  01/01/2012 00:00        13.49                 13.49   1008.14   \n",
       "2  block_59  01/01/2012 00:00        13.49                 13.49   1008.14   \n",
       "3  block_59  01/01/2012 00:00        13.49                 13.49   1008.14   \n",
       "4  block_59  01/01/2012 00:00        13.49                 13.49   1008.14   \n",
       "\n",
       "   wind_speed  humidity weeknumber  \n",
       "0        3.11      0.88     Sunday  \n",
       "1        3.11      0.88     Sunday  \n",
       "2        3.11      0.88     Sunday  \n",
       "3        3.11      0.88     Sunday  \n",
       "4        3.11      0.88     Sunday  "
      ]
     },
     "execution_count": 17,
     "metadata": {},
     "output_type": "execute_result"
    }
   ],
   "source": [
    "energy_acorn_weather.head()"
   ]
  },
  {
   "cell_type": "code",
   "execution_count": 18,
   "metadata": {},
   "outputs": [],
   "source": [
    "week_name = energy_acorn_weather[\"weeknumber\"].tolist()"
   ]
  },
  {
   "cell_type": "code",
   "execution_count": 19,
   "metadata": {},
   "outputs": [],
   "source": [
    "week_number = []"
   ]
  },
  {
   "cell_type": "code",
   "execution_count": 20,
   "metadata": {},
   "outputs": [],
   "source": [
    "for row in week_name:\n",
    "    if row == \"Saturday\" or row == \"Sunday\":\n",
    "        week_number.append(1)\n",
    "    else:\n",
    "        week_number.append(0)"
   ]
  },
  {
   "cell_type": "code",
   "execution_count": 21,
   "metadata": {},
   "outputs": [],
   "source": [
    "energy_acorn_weather['weekend'] = np.array(week_number)"
   ]
  },
  {
   "cell_type": "code",
   "execution_count": 22,
   "metadata": {},
   "outputs": [
    {
     "data": {
      "text/html": [
       "<div>\n",
       "<style scoped>\n",
       "    .dataframe tbody tr th:only-of-type {\n",
       "        vertical-align: middle;\n",
       "    }\n",
       "\n",
       "    .dataframe tbody tr th {\n",
       "        vertical-align: top;\n",
       "    }\n",
       "\n",
       "    .dataframe thead th {\n",
       "        text-align: right;\n",
       "    }\n",
       "</style>\n",
       "<table border=\"1\" class=\"dataframe\">\n",
       "  <thead>\n",
       "    <tr style=\"text-align: right;\">\n",
       "      <th></th>\n",
       "      <th>LCLid</th>\n",
       "      <th>tstp</th>\n",
       "      <th>energy(kWh/hh)</th>\n",
       "      <th>stdorToU</th>\n",
       "      <th>Acorn</th>\n",
       "      <th>Acorn_grouped</th>\n",
       "      <th>file</th>\n",
       "      <th>timestamp</th>\n",
       "      <th>temperature</th>\n",
       "      <th>apparent_temperature</th>\n",
       "      <th>pressure</th>\n",
       "      <th>wind_speed</th>\n",
       "      <th>humidity</th>\n",
       "      <th>weeknumber</th>\n",
       "      <th>weekend</th>\n",
       "    </tr>\n",
       "  </thead>\n",
       "  <tbody>\n",
       "    <tr>\n",
       "      <th>0</th>\n",
       "      <td>MAC000027</td>\n",
       "      <td>2012-01-01</td>\n",
       "      <td>0.125</td>\n",
       "      <td>Std</td>\n",
       "      <td>ACORN-J</td>\n",
       "      <td>Comfortable</td>\n",
       "      <td>block_71</td>\n",
       "      <td>01/01/2012 00:00</td>\n",
       "      <td>13.49</td>\n",
       "      <td>13.49</td>\n",
       "      <td>1008.14</td>\n",
       "      <td>3.11</td>\n",
       "      <td>0.88</td>\n",
       "      <td>Sunday</td>\n",
       "      <td>1</td>\n",
       "    </tr>\n",
       "    <tr>\n",
       "      <th>1</th>\n",
       "      <td>MAC000069</td>\n",
       "      <td>2012-01-01</td>\n",
       "      <td>0.243</td>\n",
       "      <td>Std</td>\n",
       "      <td>ACORN-G</td>\n",
       "      <td>Comfortable</td>\n",
       "      <td>block_59</td>\n",
       "      <td>01/01/2012 00:00</td>\n",
       "      <td>13.49</td>\n",
       "      <td>13.49</td>\n",
       "      <td>1008.14</td>\n",
       "      <td>3.11</td>\n",
       "      <td>0.88</td>\n",
       "      <td>Sunday</td>\n",
       "      <td>1</td>\n",
       "    </tr>\n",
       "    <tr>\n",
       "      <th>2</th>\n",
       "      <td>MAC000241</td>\n",
       "      <td>2012-01-01</td>\n",
       "      <td>0.314</td>\n",
       "      <td>Std</td>\n",
       "      <td>ACORN-G</td>\n",
       "      <td>Comfortable</td>\n",
       "      <td>block_59</td>\n",
       "      <td>01/01/2012 00:00</td>\n",
       "      <td>13.49</td>\n",
       "      <td>13.49</td>\n",
       "      <td>1008.14</td>\n",
       "      <td>3.11</td>\n",
       "      <td>0.88</td>\n",
       "      <td>Sunday</td>\n",
       "      <td>1</td>\n",
       "    </tr>\n",
       "    <tr>\n",
       "      <th>3</th>\n",
       "      <td>MAC000250</td>\n",
       "      <td>2012-01-01</td>\n",
       "      <td>0.056</td>\n",
       "      <td>Std</td>\n",
       "      <td>ACORN-G</td>\n",
       "      <td>Comfortable</td>\n",
       "      <td>block_59</td>\n",
       "      <td>01/01/2012 00:00</td>\n",
       "      <td>13.49</td>\n",
       "      <td>13.49</td>\n",
       "      <td>1008.14</td>\n",
       "      <td>3.11</td>\n",
       "      <td>0.88</td>\n",
       "      <td>Sunday</td>\n",
       "      <td>1</td>\n",
       "    </tr>\n",
       "    <tr>\n",
       "      <th>4</th>\n",
       "      <td>MAC004485</td>\n",
       "      <td>2012-01-01</td>\n",
       "      <td>0.077</td>\n",
       "      <td>ToU</td>\n",
       "      <td>ACORN-G</td>\n",
       "      <td>Comfortable</td>\n",
       "      <td>block_59</td>\n",
       "      <td>01/01/2012 00:00</td>\n",
       "      <td>13.49</td>\n",
       "      <td>13.49</td>\n",
       "      <td>1008.14</td>\n",
       "      <td>3.11</td>\n",
       "      <td>0.88</td>\n",
       "      <td>Sunday</td>\n",
       "      <td>1</td>\n",
       "    </tr>\n",
       "  </tbody>\n",
       "</table>\n",
       "</div>"
      ],
      "text/plain": [
       "       LCLid       tstp energy(kWh/hh) stdorToU    Acorn Acorn_grouped  \\\n",
       "0  MAC000027 2012-01-01         0.125       Std  ACORN-J   Comfortable   \n",
       "1  MAC000069 2012-01-01         0.243       Std  ACORN-G   Comfortable   \n",
       "2  MAC000241 2012-01-01         0.314       Std  ACORN-G   Comfortable   \n",
       "3  MAC000250 2012-01-01         0.056       Std  ACORN-G   Comfortable   \n",
       "4  MAC004485 2012-01-01         0.077       ToU  ACORN-G   Comfortable   \n",
       "\n",
       "       file         timestamp  temperature  apparent_temperature  pressure  \\\n",
       "0  block_71  01/01/2012 00:00        13.49                 13.49   1008.14   \n",
       "1  block_59  01/01/2012 00:00        13.49                 13.49   1008.14   \n",
       "2  block_59  01/01/2012 00:00        13.49                 13.49   1008.14   \n",
       "3  block_59  01/01/2012 00:00        13.49                 13.49   1008.14   \n",
       "4  block_59  01/01/2012 00:00        13.49                 13.49   1008.14   \n",
       "\n",
       "   wind_speed  humidity weeknumber  weekend  \n",
       "0        3.11      0.88     Sunday        1  \n",
       "1        3.11      0.88     Sunday        1  \n",
       "2        3.11      0.88     Sunday        1  \n",
       "3        3.11      0.88     Sunday        1  \n",
       "4        3.11      0.88     Sunday        1  "
      ]
     },
     "execution_count": 22,
     "metadata": {},
     "output_type": "execute_result"
    }
   ],
   "source": [
    "energy_acorn_weather.head()"
   ]
  },
  {
   "cell_type": "code",
   "execution_count": 23,
   "metadata": {},
   "outputs": [],
   "source": [
    "del energy_acorn_weather['tstp']\n",
    "del energy_acorn_weather['file']\n",
    "del energy_acorn_weather['weeknumber']"
   ]
  },
  {
   "cell_type": "code",
   "execution_count": 24,
   "metadata": {},
   "outputs": [
    {
     "data": {
      "text/html": [
       "<div>\n",
       "<style scoped>\n",
       "    .dataframe tbody tr th:only-of-type {\n",
       "        vertical-align: middle;\n",
       "    }\n",
       "\n",
       "    .dataframe tbody tr th {\n",
       "        vertical-align: top;\n",
       "    }\n",
       "\n",
       "    .dataframe thead th {\n",
       "        text-align: right;\n",
       "    }\n",
       "</style>\n",
       "<table border=\"1\" class=\"dataframe\">\n",
       "  <thead>\n",
       "    <tr style=\"text-align: right;\">\n",
       "      <th></th>\n",
       "      <th>LCLid</th>\n",
       "      <th>energy(kWh/hh)</th>\n",
       "      <th>stdorToU</th>\n",
       "      <th>Acorn</th>\n",
       "      <th>Acorn_grouped</th>\n",
       "      <th>timestamp</th>\n",
       "      <th>temperature</th>\n",
       "      <th>apparent_temperature</th>\n",
       "      <th>pressure</th>\n",
       "      <th>wind_speed</th>\n",
       "      <th>humidity</th>\n",
       "      <th>weekend</th>\n",
       "    </tr>\n",
       "  </thead>\n",
       "  <tbody>\n",
       "    <tr>\n",
       "      <th>0</th>\n",
       "      <td>MAC000027</td>\n",
       "      <td>0.125</td>\n",
       "      <td>Std</td>\n",
       "      <td>ACORN-J</td>\n",
       "      <td>Comfortable</td>\n",
       "      <td>01/01/2012 00:00</td>\n",
       "      <td>13.49</td>\n",
       "      <td>13.49</td>\n",
       "      <td>1008.14</td>\n",
       "      <td>3.11</td>\n",
       "      <td>0.88</td>\n",
       "      <td>1</td>\n",
       "    </tr>\n",
       "    <tr>\n",
       "      <th>1</th>\n",
       "      <td>MAC000069</td>\n",
       "      <td>0.243</td>\n",
       "      <td>Std</td>\n",
       "      <td>ACORN-G</td>\n",
       "      <td>Comfortable</td>\n",
       "      <td>01/01/2012 00:00</td>\n",
       "      <td>13.49</td>\n",
       "      <td>13.49</td>\n",
       "      <td>1008.14</td>\n",
       "      <td>3.11</td>\n",
       "      <td>0.88</td>\n",
       "      <td>1</td>\n",
       "    </tr>\n",
       "    <tr>\n",
       "      <th>2</th>\n",
       "      <td>MAC000241</td>\n",
       "      <td>0.314</td>\n",
       "      <td>Std</td>\n",
       "      <td>ACORN-G</td>\n",
       "      <td>Comfortable</td>\n",
       "      <td>01/01/2012 00:00</td>\n",
       "      <td>13.49</td>\n",
       "      <td>13.49</td>\n",
       "      <td>1008.14</td>\n",
       "      <td>3.11</td>\n",
       "      <td>0.88</td>\n",
       "      <td>1</td>\n",
       "    </tr>\n",
       "    <tr>\n",
       "      <th>3</th>\n",
       "      <td>MAC000250</td>\n",
       "      <td>0.056</td>\n",
       "      <td>Std</td>\n",
       "      <td>ACORN-G</td>\n",
       "      <td>Comfortable</td>\n",
       "      <td>01/01/2012 00:00</td>\n",
       "      <td>13.49</td>\n",
       "      <td>13.49</td>\n",
       "      <td>1008.14</td>\n",
       "      <td>3.11</td>\n",
       "      <td>0.88</td>\n",
       "      <td>1</td>\n",
       "    </tr>\n",
       "    <tr>\n",
       "      <th>4</th>\n",
       "      <td>MAC004485</td>\n",
       "      <td>0.077</td>\n",
       "      <td>ToU</td>\n",
       "      <td>ACORN-G</td>\n",
       "      <td>Comfortable</td>\n",
       "      <td>01/01/2012 00:00</td>\n",
       "      <td>13.49</td>\n",
       "      <td>13.49</td>\n",
       "      <td>1008.14</td>\n",
       "      <td>3.11</td>\n",
       "      <td>0.88</td>\n",
       "      <td>1</td>\n",
       "    </tr>\n",
       "  </tbody>\n",
       "</table>\n",
       "</div>"
      ],
      "text/plain": [
       "       LCLid energy(kWh/hh) stdorToU    Acorn Acorn_grouped         timestamp  \\\n",
       "0  MAC000027         0.125       Std  ACORN-J   Comfortable  01/01/2012 00:00   \n",
       "1  MAC000069         0.243       Std  ACORN-G   Comfortable  01/01/2012 00:00   \n",
       "2  MAC000241         0.314       Std  ACORN-G   Comfortable  01/01/2012 00:00   \n",
       "3  MAC000250         0.056       Std  ACORN-G   Comfortable  01/01/2012 00:00   \n",
       "4  MAC004485         0.077       ToU  ACORN-G   Comfortable  01/01/2012 00:00   \n",
       "\n",
       "   temperature  apparent_temperature  pressure  wind_speed  humidity  weekend  \n",
       "0        13.49                 13.49   1008.14        3.11      0.88        1  \n",
       "1        13.49                 13.49   1008.14        3.11      0.88        1  \n",
       "2        13.49                 13.49   1008.14        3.11      0.88        1  \n",
       "3        13.49                 13.49   1008.14        3.11      0.88        1  \n",
       "4        13.49                 13.49   1008.14        3.11      0.88        1  "
      ]
     },
     "execution_count": 24,
     "metadata": {},
     "output_type": "execute_result"
    }
   ],
   "source": [
    "energy_acorn_weather.head()"
   ]
  },
  {
   "cell_type": "code",
   "execution_count": 25,
   "metadata": {},
   "outputs": [],
   "source": [
    "energy_acorn_weather.to_csv(\"energy_acorn_weather.csv\",index = False)"
   ]
  },
  {
   "cell_type": "code",
   "execution_count": 3,
   "metadata": {},
   "outputs": [
    {
     "data": {
      "text/plain": [
       "17520"
      ]
     },
     "execution_count": 3,
     "metadata": {},
     "output_type": "execute_result"
    }
   ],
   "source": [
    "# Tariffs\n",
    "folder = \"/Users/mariabelenalberti/Downloads/smart-meters-in-london/\"\n",
    "filename = \"Tariffs.csv\"\n",
    "tariffs = pd.read_csv(folder + filename)\n",
    "len(tariffs)"
   ]
  },
  {
   "cell_type": "code",
   "execution_count": 4,
   "metadata": {},
   "outputs": [],
   "source": [
    "folder = \"/Users/mariabelenalberti/Downloads/smart-meters-in-london/\"\n",
    "filename = \"energy_acorn_weather.csv\"\n",
    "energy_acorn_weather = pd.read_csv(folder + filename)"
   ]
  },
  {
   "cell_type": "code",
   "execution_count": 29,
   "metadata": {},
   "outputs": [
    {
     "data": {
      "text/html": [
       "<div>\n",
       "<style scoped>\n",
       "    .dataframe tbody tr th:only-of-type {\n",
       "        vertical-align: middle;\n",
       "    }\n",
       "\n",
       "    .dataframe tbody tr th {\n",
       "        vertical-align: top;\n",
       "    }\n",
       "\n",
       "    .dataframe thead th {\n",
       "        text-align: right;\n",
       "    }\n",
       "</style>\n",
       "<table border=\"1\" class=\"dataframe\">\n",
       "  <thead>\n",
       "    <tr style=\"text-align: right;\">\n",
       "      <th></th>\n",
       "      <th>TariffDateTime</th>\n",
       "      <th>Tariff</th>\n",
       "    </tr>\n",
       "  </thead>\n",
       "  <tbody>\n",
       "    <tr>\n",
       "      <th>0</th>\n",
       "      <td>01/01/2013 00:00</td>\n",
       "      <td>Normal</td>\n",
       "    </tr>\n",
       "    <tr>\n",
       "      <th>1</th>\n",
       "      <td>01/01/2013 00:30</td>\n",
       "      <td>Normal</td>\n",
       "    </tr>\n",
       "    <tr>\n",
       "      <th>2</th>\n",
       "      <td>01/01/2013 01:00</td>\n",
       "      <td>Normal</td>\n",
       "    </tr>\n",
       "    <tr>\n",
       "      <th>3</th>\n",
       "      <td>01/01/2013 01:30</td>\n",
       "      <td>Normal</td>\n",
       "    </tr>\n",
       "    <tr>\n",
       "      <th>4</th>\n",
       "      <td>01/01/2013 02:00</td>\n",
       "      <td>Normal</td>\n",
       "    </tr>\n",
       "  </tbody>\n",
       "</table>\n",
       "</div>"
      ],
      "text/plain": [
       "     TariffDateTime  Tariff\n",
       "0  01/01/2013 00:00  Normal\n",
       "1  01/01/2013 00:30  Normal\n",
       "2  01/01/2013 01:00  Normal\n",
       "3  01/01/2013 01:30  Normal\n",
       "4  01/01/2013 02:00  Normal"
      ]
     },
     "execution_count": 29,
     "metadata": {},
     "output_type": "execute_result"
    }
   ],
   "source": [
    "tariffs.head()"
   ]
  },
  {
   "cell_type": "code",
   "execution_count": 31,
   "metadata": {},
   "outputs": [
    {
     "ename": "KeyError",
     "evalue": "'timestamp'",
     "output_type": "error",
     "traceback": [
      "\u001b[0;31m---------------------------------------------------------------------------\u001b[0m",
      "\u001b[0;31mKeyError\u001b[0m                                  Traceback (most recent call last)",
      "\u001b[0;32m<ipython-input-31-0aaac3effa7d>\u001b[0m in \u001b[0;36m<module>\u001b[0;34m\u001b[0m\n\u001b[0;32m----> 1\u001b[0;31m \u001b[0menergy_acorn_weather_tariffs\u001b[0m \u001b[0;34m=\u001b[0m \u001b[0mpd\u001b[0m\u001b[0;34m.\u001b[0m\u001b[0mmerge\u001b[0m\u001b[0;34m(\u001b[0m\u001b[0menergy_acorn_weather\u001b[0m\u001b[0;34m,\u001b[0m\u001b[0mtariffs\u001b[0m\u001b[0;34m,\u001b[0m \u001b[0mon\u001b[0m\u001b[0;34m=\u001b[0m\u001b[0;34m'timestamp'\u001b[0m\u001b[0;34m)\u001b[0m\u001b[0;34m\u001b[0m\u001b[0;34m\u001b[0m\u001b[0m\n\u001b[0m",
      "\u001b[0;32m~/anaconda3/lib/python3.7/site-packages/pandas/core/reshape/merge.py\u001b[0m in \u001b[0;36mmerge\u001b[0;34m(left, right, how, on, left_on, right_on, left_index, right_index, sort, suffixes, copy, indicator, validate)\u001b[0m\n\u001b[1;32m     45\u001b[0m                          \u001b[0mright_index\u001b[0m\u001b[0;34m=\u001b[0m\u001b[0mright_index\u001b[0m\u001b[0;34m,\u001b[0m \u001b[0msort\u001b[0m\u001b[0;34m=\u001b[0m\u001b[0msort\u001b[0m\u001b[0;34m,\u001b[0m \u001b[0msuffixes\u001b[0m\u001b[0;34m=\u001b[0m\u001b[0msuffixes\u001b[0m\u001b[0;34m,\u001b[0m\u001b[0;34m\u001b[0m\u001b[0;34m\u001b[0m\u001b[0m\n\u001b[1;32m     46\u001b[0m                          \u001b[0mcopy\u001b[0m\u001b[0;34m=\u001b[0m\u001b[0mcopy\u001b[0m\u001b[0;34m,\u001b[0m \u001b[0mindicator\u001b[0m\u001b[0;34m=\u001b[0m\u001b[0mindicator\u001b[0m\u001b[0;34m,\u001b[0m\u001b[0;34m\u001b[0m\u001b[0;34m\u001b[0m\u001b[0m\n\u001b[0;32m---> 47\u001b[0;31m                          validate=validate)\n\u001b[0m\u001b[1;32m     48\u001b[0m     \u001b[0;32mreturn\u001b[0m \u001b[0mop\u001b[0m\u001b[0;34m.\u001b[0m\u001b[0mget_result\u001b[0m\u001b[0;34m(\u001b[0m\u001b[0;34m)\u001b[0m\u001b[0;34m\u001b[0m\u001b[0;34m\u001b[0m\u001b[0m\n\u001b[1;32m     49\u001b[0m \u001b[0;34m\u001b[0m\u001b[0m\n",
      "\u001b[0;32m~/anaconda3/lib/python3.7/site-packages/pandas/core/reshape/merge.py\u001b[0m in \u001b[0;36m__init__\u001b[0;34m(self, left, right, how, on, left_on, right_on, axis, left_index, right_index, sort, suffixes, copy, indicator, validate)\u001b[0m\n\u001b[1;32m    527\u001b[0m         (self.left_join_keys,\n\u001b[1;32m    528\u001b[0m          \u001b[0mself\u001b[0m\u001b[0;34m.\u001b[0m\u001b[0mright_join_keys\u001b[0m\u001b[0;34m,\u001b[0m\u001b[0;34m\u001b[0m\u001b[0;34m\u001b[0m\u001b[0m\n\u001b[0;32m--> 529\u001b[0;31m          self.join_names) = self._get_merge_keys()\n\u001b[0m\u001b[1;32m    530\u001b[0m \u001b[0;34m\u001b[0m\u001b[0m\n\u001b[1;32m    531\u001b[0m         \u001b[0;31m# validate the merge keys dtypes. We may need to coerce\u001b[0m\u001b[0;34m\u001b[0m\u001b[0;34m\u001b[0m\u001b[0;34m\u001b[0m\u001b[0m\n",
      "\u001b[0;32m~/anaconda3/lib/python3.7/site-packages/pandas/core/reshape/merge.py\u001b[0m in \u001b[0;36m_get_merge_keys\u001b[0;34m(self)\u001b[0m\n\u001b[1;32m    831\u001b[0m                         \u001b[0;32mif\u001b[0m \u001b[0mrk\u001b[0m \u001b[0;32mis\u001b[0m \u001b[0;32mnot\u001b[0m \u001b[0;32mNone\u001b[0m\u001b[0;34m:\u001b[0m\u001b[0;34m\u001b[0m\u001b[0;34m\u001b[0m\u001b[0m\n\u001b[1;32m    832\u001b[0m                             right_keys.append(\n\u001b[0;32m--> 833\u001b[0;31m                                 right._get_label_or_level_values(rk))\n\u001b[0m\u001b[1;32m    834\u001b[0m                         \u001b[0;32melse\u001b[0m\u001b[0;34m:\u001b[0m\u001b[0;34m\u001b[0m\u001b[0;34m\u001b[0m\u001b[0m\n\u001b[1;32m    835\u001b[0m                             \u001b[0;31m# work-around for merge_asof(right_index=True)\u001b[0m\u001b[0;34m\u001b[0m\u001b[0;34m\u001b[0m\u001b[0;34m\u001b[0m\u001b[0m\n",
      "\u001b[0;32m~/anaconda3/lib/python3.7/site-packages/pandas/core/generic.py\u001b[0m in \u001b[0;36m_get_label_or_level_values\u001b[0;34m(self, key, axis)\u001b[0m\n\u001b[1;32m   1704\u001b[0m             \u001b[0mvalues\u001b[0m \u001b[0;34m=\u001b[0m \u001b[0mself\u001b[0m\u001b[0;34m.\u001b[0m\u001b[0maxes\u001b[0m\u001b[0;34m[\u001b[0m\u001b[0maxis\u001b[0m\u001b[0;34m]\u001b[0m\u001b[0;34m.\u001b[0m\u001b[0mget_level_values\u001b[0m\u001b[0;34m(\u001b[0m\u001b[0mkey\u001b[0m\u001b[0;34m)\u001b[0m\u001b[0;34m.\u001b[0m\u001b[0m_values\u001b[0m\u001b[0;34m\u001b[0m\u001b[0;34m\u001b[0m\u001b[0m\n\u001b[1;32m   1705\u001b[0m         \u001b[0;32melse\u001b[0m\u001b[0;34m:\u001b[0m\u001b[0;34m\u001b[0m\u001b[0;34m\u001b[0m\u001b[0m\n\u001b[0;32m-> 1706\u001b[0;31m             \u001b[0;32mraise\u001b[0m \u001b[0mKeyError\u001b[0m\u001b[0;34m(\u001b[0m\u001b[0mkey\u001b[0m\u001b[0;34m)\u001b[0m\u001b[0;34m\u001b[0m\u001b[0;34m\u001b[0m\u001b[0m\n\u001b[0m\u001b[1;32m   1707\u001b[0m \u001b[0;34m\u001b[0m\u001b[0m\n\u001b[1;32m   1708\u001b[0m         \u001b[0;31m# Check for duplicates\u001b[0m\u001b[0;34m\u001b[0m\u001b[0;34m\u001b[0m\u001b[0;34m\u001b[0m\u001b[0m\n",
      "\u001b[0;31mKeyError\u001b[0m: 'timestamp'"
     ]
    }
   ],
   "source": [
    "energy_acorn_weather_tariffs = pd.merge(energy_acorn_weather,tariffs, on='timestamp')"
   ]
  },
  {
   "cell_type": "code",
   "execution_count": 5,
   "metadata": {},
   "outputs": [
    {
     "name": "stdout",
     "output_type": "stream",
     "text": [
      "<class 'pandas.core.frame.DataFrame'>\n",
      "RangeIndex: 153366213 entries, 0 to 153366212\n",
      "Data columns (total 12 columns):\n",
      "LCLid                   object\n",
      "energy(kWh/hh)          float64\n",
      "stdorToU                object\n",
      "Acorn                   object\n",
      "Acorn_grouped           object\n",
      "timestamp               object\n",
      "temperature             float64\n",
      "apparent_temperature    float64\n",
      "pressure                float64\n",
      "wind_speed              float64\n",
      "humidity                float64\n",
      "weekend                 int64\n",
      "dtypes: float64(6), int64(1), object(5)\n",
      "memory usage: 13.7+ GB\n"
     ]
    }
   ],
   "source": [
    "energy_acorn_weather.info()"
   ]
  },
  {
   "cell_type": "code",
   "execution_count": 6,
   "metadata": {},
   "outputs": [
    {
     "name": "stdout",
     "output_type": "stream",
     "text": [
      "<class 'pandas.core.frame.DataFrame'>\n",
      "RangeIndex: 17520 entries, 0 to 17519\n",
      "Data columns (total 2 columns):\n",
      "TariffDateTime    17520 non-null object\n",
      "Tariff            17520 non-null object\n",
      "dtypes: object(2)\n",
      "memory usage: 273.8+ KB\n"
     ]
    }
   ],
   "source": [
    "tariffs.info()"
   ]
  },
  {
   "cell_type": "code",
   "execution_count": 8,
   "metadata": {},
   "outputs": [],
   "source": [
    " # pd.to_datetime(energy_acorn_weather.timestamp)"
   ]
  },
  {
   "cell_type": "code",
   "execution_count": null,
   "metadata": {},
   "outputs": [],
   "source": []
  },
  {
   "cell_type": "code",
   "execution_count": null,
   "metadata": {},
   "outputs": [],
   "source": []
  }
 ],
 "metadata": {
  "kernelspec": {
   "display_name": "Python 3",
   "language": "python",
   "name": "python3"
  },
  "language_info": {
   "codemirror_mode": {
    "name": "ipython",
    "version": 3
   },
   "file_extension": ".py",
   "mimetype": "text/x-python",
   "name": "python",
   "nbconvert_exporter": "python",
   "pygments_lexer": "ipython3",
   "version": "3.7.3"
  },
  "toc": {
   "base_numbering": 1,
   "nav_menu": {},
   "number_sections": true,
   "sideBar": true,
   "skip_h1_title": false,
   "title_cell": "Table of Contents",
   "title_sidebar": "Contents",
   "toc_cell": false,
   "toc_position": {},
   "toc_section_display": true,
   "toc_window_display": false
  }
 },
 "nbformat": 4,
 "nbformat_minor": 2
}
