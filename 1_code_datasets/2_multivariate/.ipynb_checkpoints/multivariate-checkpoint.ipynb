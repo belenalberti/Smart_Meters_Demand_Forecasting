{
 "cells": [
  {
   "cell_type": "code",
   "execution_count": 1,
   "metadata": {},
   "outputs": [],
   "source": [
    "import pandas as pd\n",
    "from pandas import read_csv\n",
    "import glob\n",
    "import numpy as np\n",
    "import matplotlib.pyplot as plt"
   ]
  },
  {
   "cell_type": "code",
   "execution_count": 2,
   "metadata": {},
   "outputs": [],
   "source": [
    "folder = \"/Users/mariabelenalberti/OneDrive - Universidad Torcuato Di Tella/Tesis/code_datasets/1_data_frames/covariates/\"\n",
    "file = \"covariates.csv\"\n",
    "covariates = pd.read_csv(folder+file)"
   ]
  },
  {
   "cell_type": "code",
   "execution_count": 3,
   "metadata": {},
   "outputs": [],
   "source": [
    "covariates['tstp']= pd.to_datetime(covariates['tstp'],format = '%d/%m/%Y %H:%M')"
   ]
  },
  {
   "cell_type": "code",
   "execution_count": 4,
   "metadata": {},
   "outputs": [
    {
     "data": {
      "text/html": [
       "<div>\n",
       "<style scoped>\n",
       "    .dataframe tbody tr th:only-of-type {\n",
       "        vertical-align: middle;\n",
       "    }\n",
       "\n",
       "    .dataframe tbody tr th {\n",
       "        vertical-align: top;\n",
       "    }\n",
       "\n",
       "    .dataframe thead th {\n",
       "        text-align: right;\n",
       "    }\n",
       "</style>\n",
       "<table border=\"1\" class=\"dataframe\">\n",
       "  <thead>\n",
       "    <tr style=\"text-align: right;\">\n",
       "      <th></th>\n",
       "      <th>tstp</th>\n",
       "      <th>visibility</th>\n",
       "      <th>windBearing</th>\n",
       "      <th>temperature</th>\n",
       "      <th>dewPoint</th>\n",
       "      <th>pressure</th>\n",
       "      <th>windSpeed</th>\n",
       "      <th>humidity</th>\n",
       "      <th>weekend</th>\n",
       "    </tr>\n",
       "  </thead>\n",
       "  <tbody>\n",
       "    <tr>\n",
       "      <th>0</th>\n",
       "      <td>2012-01-01 00:00:00</td>\n",
       "      <td>12.99</td>\n",
       "      <td>229</td>\n",
       "      <td>12.12</td>\n",
       "      <td>10.97</td>\n",
       "      <td>1008.10</td>\n",
       "      <td>5.90</td>\n",
       "      <td>0.93</td>\n",
       "      <td>1</td>\n",
       "    </tr>\n",
       "    <tr>\n",
       "      <th>1</th>\n",
       "      <td>2012-01-01 00:30:00</td>\n",
       "      <td>12.99</td>\n",
       "      <td>229</td>\n",
       "      <td>12.12</td>\n",
       "      <td>10.97</td>\n",
       "      <td>1008.10</td>\n",
       "      <td>5.90</td>\n",
       "      <td>0.93</td>\n",
       "      <td>1</td>\n",
       "    </tr>\n",
       "    <tr>\n",
       "      <th>2</th>\n",
       "      <td>2012-01-01 01:00:00</td>\n",
       "      <td>12.89</td>\n",
       "      <td>238</td>\n",
       "      <td>12.59</td>\n",
       "      <td>11.02</td>\n",
       "      <td>1007.88</td>\n",
       "      <td>6.06</td>\n",
       "      <td>0.90</td>\n",
       "      <td>1</td>\n",
       "    </tr>\n",
       "    <tr>\n",
       "      <th>3</th>\n",
       "      <td>2012-01-01 01:30:00</td>\n",
       "      <td>12.89</td>\n",
       "      <td>238</td>\n",
       "      <td>12.59</td>\n",
       "      <td>11.02</td>\n",
       "      <td>1007.88</td>\n",
       "      <td>6.06</td>\n",
       "      <td>0.90</td>\n",
       "      <td>1</td>\n",
       "    </tr>\n",
       "    <tr>\n",
       "      <th>4</th>\n",
       "      <td>2012-01-01 02:00:00</td>\n",
       "      <td>11.54</td>\n",
       "      <td>229</td>\n",
       "      <td>12.45</td>\n",
       "      <td>11.04</td>\n",
       "      <td>1007.95</td>\n",
       "      <td>5.31</td>\n",
       "      <td>0.91</td>\n",
       "      <td>1</td>\n",
       "    </tr>\n",
       "  </tbody>\n",
       "</table>\n",
       "</div>"
      ],
      "text/plain": [
       "                 tstp  visibility  windBearing  temperature  dewPoint  \\\n",
       "0 2012-01-01 00:00:00       12.99          229        12.12     10.97   \n",
       "1 2012-01-01 00:30:00       12.99          229        12.12     10.97   \n",
       "2 2012-01-01 01:00:00       12.89          238        12.59     11.02   \n",
       "3 2012-01-01 01:30:00       12.89          238        12.59     11.02   \n",
       "4 2012-01-01 02:00:00       11.54          229        12.45     11.04   \n",
       "\n",
       "   pressure  windSpeed  humidity  weekend  \n",
       "0   1008.10       5.90      0.93        1  \n",
       "1   1008.10       5.90      0.93        1  \n",
       "2   1007.88       6.06      0.90        1  \n",
       "3   1007.88       6.06      0.90        1  \n",
       "4   1007.95       5.31      0.91        1  "
      ]
     },
     "execution_count": 4,
     "metadata": {},
     "output_type": "execute_result"
    }
   ],
   "source": [
    "covariates.head()"
   ]
  },
  {
   "cell_type": "code",
   "execution_count": 28,
   "metadata": {},
   "outputs": [],
   "source": [
    "folder = \"/Users/mariabelenalberti/OneDrive - Universidad Torcuato Di Tella/Tesis/code_datasets/1_data_frames/multivariate/comfortable_tou/\"\n",
    "file = \"comfortable_tou.csv\"\n",
    "household_files = pd.read_csv(folder+file)"
   ]
  },
  {
   "cell_type": "code",
   "execution_count": 29,
   "metadata": {},
   "outputs": [],
   "source": [
    "household_files = household_files['LCLid'].values.tolist()"
   ]
  },
  {
   "cell_type": "code",
   "execution_count": 30,
   "metadata": {},
   "outputs": [
    {
     "data": {
      "text/plain": [
       "14"
      ]
     },
     "execution_count": 30,
     "metadata": {},
     "output_type": "execute_result"
    }
   ],
   "source": [
    "len(household_files)"
   ]
  },
  {
   "cell_type": "code",
   "execution_count": 31,
   "metadata": {},
   "outputs": [
    {
     "name": "stdout",
     "output_type": "stream",
     "text": [
      "filename number 1\n",
      "filename number 2\n",
      "filename number 3\n",
      "filename number 4\n",
      "filename number 5\n",
      "filename number 6\n",
      "filename number 7\n",
      "filename number 8\n",
      "filename number 9\n",
      "filename number 10\n",
      "filename number 11\n",
      "filename number 12\n",
      "filename number 13\n",
      "filename number 14\n"
     ]
    }
   ],
   "source": [
    "i = 0\n",
    "for file in household_files:\n",
    "    i = i + 1\n",
    "    print('filename number ' + str(i))\n",
    "    folder = '/Users/mariabelenalberti/OneDrive - Universidad Torcuato Di Tella/Tesis/code_datasets/1_data_frames/univariate/Comfortable/'\n",
    "    df = pd.read_csv(folder+str(file)+\".csv\")\n",
    "    df['tstp']= pd.to_datetime(df['tstp'],format = '%d/%m/%Y %H:%M')\n",
    "    merge = pd.merge(df,covariates, on='tstp')\n",
    "    df = pd.DataFrame(merge)\n",
    "    df.to_csv('/Users/mariabelenalberti/OneDrive - Universidad Torcuato Di Tella/Tesis/code_datasets/1_data_frames/multivariate/comfortable_tou/'+str(file)+\".csv\",index=False)"
   ]
  },
  {
   "cell_type": "code",
   "execution_count": null,
   "metadata": {},
   "outputs": [],
   "source": []
  }
 ],
 "metadata": {
  "kernelspec": {
   "display_name": "Python 3",
   "language": "python",
   "name": "python3"
  },
  "language_info": {
   "codemirror_mode": {
    "name": "ipython",
    "version": 3
   },
   "file_extension": ".py",
   "mimetype": "text/x-python",
   "name": "python",
   "nbconvert_exporter": "python",
   "pygments_lexer": "ipython3",
   "version": "3.7.3"
  },
  "toc": {
   "base_numbering": 1,
   "nav_menu": {},
   "number_sections": true,
   "sideBar": true,
   "skip_h1_title": false,
   "title_cell": "Table of Contents",
   "title_sidebar": "Contents",
   "toc_cell": false,
   "toc_position": {},
   "toc_section_display": true,
   "toc_window_display": false
  }
 },
 "nbformat": 4,
 "nbformat_minor": 2
}
