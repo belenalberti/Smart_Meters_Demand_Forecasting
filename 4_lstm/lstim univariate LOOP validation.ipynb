{
 "cells": [
  {
   "cell_type": "code",
   "execution_count": 1,
   "metadata": {},
   "outputs": [
    {
     "name": "stderr",
     "output_type": "stream",
     "text": [
      "Using TensorFlow backend.\n"
     ]
    }
   ],
   "source": [
    "import pandas as pd\n",
    "import glob\n",
    "import numpy as np\n",
    "import matplotlib.pyplot as plt\n",
    "from pandas import read_csv\n",
    "import math\n",
    "from keras.models import Sequential\n",
    "from keras.layers import Dense\n",
    "from keras.layers import LSTM\n",
    "from sklearn.preprocessing import MinMaxScaler\n",
    "from sklearn.metrics import mean_squared_error\n",
    "import math\n",
    "from sklearn.metrics import mean_squared_error\n",
    "from sklearn.metrics import mean_absolute_error\n",
    "from sklearn import metrics\n",
    "import math\n",
    "import random\n",
    "from keras.callbacks import ModelCheckpoint, EarlyStopping\n",
    "import tensorflow as tf\n",
    "from keras import backend as K"
   ]
  },
  {
   "cell_type": "code",
   "execution_count": 2,
   "metadata": {},
   "outputs": [],
   "source": [
    "def rmsle(y, y_pred):     \n",
    "    assert len(y) == len(y_pred)\n",
    "    terms_to_sum = [(math.log(y_pred[i] + 1) - math.log(y[i] + 1)) ** 2.0 for i,pred in enumerate(y_pred)]\n",
    "    return (sum(terms_to_sum) * (1.0/len(y))) ** 0.5"
   ]
  },
  {
   "cell_type": "code",
   "execution_count": 3,
   "metadata": {},
   "outputs": [],
   "source": [
    "def rmsle_loss(y_pred, y_true):\n",
    "    return K.sqrt(K.mean(K.square(tf.math.log1p(y_pred) - tf.math.log1p(y_true))))"
   ]
  },
  {
   "cell_type": "code",
   "execution_count": 4,
   "metadata": {},
   "outputs": [],
   "source": [
    "# convert an array of values into a dataset matrix\n",
    "def create_dataset(dataset, look_back=1):\n",
    "    dataX, dataY = [], []\n",
    "    for i in range(len(dataset)-look_back-1):\n",
    "        a = dataset[i:(i+look_back), 0]\n",
    "        dataX.append(a)\n",
    "        dataY.append(dataset[i + look_back, 0])\n",
    "    return np.array(dataX), np.array(dataY)"
   ]
  },
  {
   "cell_type": "code",
   "execution_count": 80,
   "metadata": {},
   "outputs": [],
   "source": [
    "def lstm_univariate_loop(dataset):\n",
    "    \n",
    "    random.seed(1)\n",
    "    dataset = df.values\n",
    "    dataset = df.astype('float32')\n",
    "    \n",
    "    # normalize the dataset\n",
    "    scaler = MinMaxScaler(feature_range=(0, 1))\n",
    "    dataset = scaler.fit_transform(dataset)\n",
    "    \n",
    "    # split into train and test sets\n",
    "    print('Spliting into train and test')\n",
    "    train_size = int(32160)\n",
    "    test_size = 1440\n",
    "    train, test = dataset[0:train_size,:], dataset[train_size:33600,:]\n",
    "    \n",
    "    # reshape into X=t and Y=t+1\n",
    "    look_back = 3\n",
    "    trainX, trainY = create_dataset(train, look_back)\n",
    "    testX, testY = create_dataset(test, look_back)\n",
    "    testY_copy = testY.copy()\n",
    "    # reshape input to be [samples, time steps, features]\n",
    "    trainX = np.reshape(trainX, (trainX.shape[0], 1, trainX.shape[1]))\n",
    "    testX = np.reshape(testX, (testX.shape[0], 1, testX.shape[1]))\n",
    "    \n",
    "    # create and fit the LSTM network\n",
    "    print('Creating and fitting the LSTM network')\n",
    "    \n",
    "    model = Sequential()\n",
    "    model.add(LSTM(200, input_shape=(1, look_back)))\n",
    "    model.add(Dense(1))\n",
    "    model.compile(loss=rmsle_loss, optimizer='adam', metrics = [rmsle_loss])\n",
    "    # simple early stopping\n",
    "    es = EarlyStopping(monitor='val_loss', mode='min', verbose=1)\n",
    "    model.fit(trainX, trainY, epochs=15, batch_size=70,validation_split=0.04, verbose=1, shuffle=False, callbacks = [es])\n",
    "    \n",
    "    \n",
    "    \n",
    "    \n",
    "    \n",
    "    # make predictions\n",
    "    print('Making predictions')\n",
    "    trainPredict = model.predict(trainX)\n",
    "    testPredict = model.predict(testX)\n",
    "    \n",
    "    # invert predictions\n",
    "    trainPredict = scaler.inverse_transform(trainPredict)\n",
    "    trainY = scaler.inverse_transform([trainY])\n",
    "    testPredict = scaler.inverse_transform(testPredict)\n",
    "    testY = scaler.inverse_transform([testY])\n",
    "    \n",
    "    #Metrics\n",
    "    print('Calculating metrics')\n",
    "    rmsle_i = rmsle(testY_copy,testPredict)\n",
    "    \n",
    "    return rmsle_i"
   ]
  },
  {
   "cell_type": "code",
   "execution_count": 81,
   "metadata": {},
   "outputs": [
    {
     "name": "stdout",
     "output_type": "stream",
     "text": [
      "filename number 1 of 4/Users/mariabelenalberti/OneDrive - Universidad Torcuato Di Tella/Tesis/code_datasets/1_data_frames/fiveperc/com_std/MAC000059.csv\n",
      "Spliting into train and test\n",
      "Creating and fitting the LSTM network\n",
      "Train on 30869 samples, validate on 1287 samples\n",
      "Epoch 1/15\n",
      "30869/30869 [==============================] - 3s 108us/step - loss: 0.0514 - rmsle_loss: 0.0514 - val_loss: 0.0567 - val_rmsle_loss: 0.0569\n",
      "Epoch 2/15\n",
      "30869/30869 [==============================] - 3s 94us/step - loss: 0.0487 - rmsle_loss: 0.0487 - val_loss: 0.0561 - val_rmsle_loss: 0.0564\n",
      "Epoch 3/15\n",
      "30869/30869 [==============================] - 3s 90us/step - loss: 0.0484 - rmsle_loss: 0.0484 - val_loss: 0.0558 - val_rmsle_loss: 0.0560\n",
      "Epoch 4/15\n",
      "30869/30869 [==============================] - 3s 91us/step - loss: 0.0482 - rmsle_loss: 0.0482 - val_loss: 0.0555 - val_rmsle_loss: 0.0557\n",
      "Epoch 5/15\n",
      "30869/30869 [==============================] - 3s 93us/step - loss: 0.0481 - rmsle_loss: 0.0481 - val_loss: 0.0552 - val_rmsle_loss: 0.0554\n",
      "Epoch 6/15\n",
      "30869/30869 [==============================] - 4s 115us/step - loss: 0.0480 - rmsle_loss: 0.0480 - val_loss: 0.0550 - val_rmsle_loss: 0.0552\n",
      "Epoch 7/15\n",
      "30869/30869 [==============================] - 5s 149us/step - loss: 0.0479 - rmsle_loss: 0.0479 - val_loss: 0.0548 - val_rmsle_loss: 0.0550\n",
      "Epoch 8/15\n",
      "30869/30869 [==============================] - 2s 81us/step - loss: 0.0478 - rmsle_loss: 0.0478 - val_loss: 0.0547 - val_rmsle_loss: 0.0549\n",
      "Epoch 9/15\n",
      "30869/30869 [==============================] - 3s 87us/step - loss: 0.0478 - rmsle_loss: 0.0478 - val_loss: 0.0546 - val_rmsle_loss: 0.0548\n",
      "Epoch 10/15\n",
      "30869/30869 [==============================] - 3s 104us/step - loss: 0.0477 - rmsle_loss: 0.0477 - val_loss: 0.0545 - val_rmsle_loss: 0.0547\n",
      "Epoch 11/15\n",
      "30869/30869 [==============================] - 3s 88us/step - loss: 0.0477 - rmsle_loss: 0.0477 - val_loss: 0.0544 - val_rmsle_loss: 0.0546\n",
      "Epoch 12/15\n",
      "30869/30869 [==============================] - 3s 89us/step - loss: 0.0477 - rmsle_loss: 0.0477 - val_loss: 0.0543 - val_rmsle_loss: 0.0545\n",
      "Epoch 13/15\n",
      "30869/30869 [==============================] - 3s 91us/step - loss: 0.0476 - rmsle_loss: 0.0476 - val_loss: 0.0542 - val_rmsle_loss: 0.0545\n",
      "Epoch 14/15\n",
      "30869/30869 [==============================] - 3s 90us/step - loss: 0.0476 - rmsle_loss: 0.0476 - val_loss: 0.0542 - val_rmsle_loss: 0.0544\n",
      "Epoch 15/15\n",
      "30869/30869 [==============================] - ETA: 0s - loss: 0.0475 - rmsle_loss: 0.04 - 3s 97us/step - loss: 0.0476 - rmsle_loss: 0.0476 - val_loss: 0.0541 - val_rmsle_loss: 0.0544\n",
      "Making predictions\n",
      "Calculating metrics\n",
      "filename number 2 of 4/Users/mariabelenalberti/OneDrive - Universidad Torcuato Di Tella/Tesis/code_datasets/1_data_frames/fiveperc/com_std/MAC000217.csv\n",
      "Spliting into train and test\n",
      "Creating and fitting the LSTM network\n",
      "Train on 30869 samples, validate on 1287 samples\n",
      "Epoch 1/15\n",
      "30869/30869 [==============================] - 5s 153us/step - loss: 0.0337 - rmsle_loss: 0.0337 - val_loss: 0.0154 - val_rmsle_loss: 0.0157\n",
      "Epoch 2/15\n",
      "30869/30869 [==============================] - 4s 128us/step - loss: 0.0299 - rmsle_loss: 0.0299 - val_loss: 0.0152 - val_rmsle_loss: 0.0155\n",
      "Epoch 3/15\n",
      "30869/30869 [==============================] - 4s 141us/step - loss: 0.0297 - rmsle_loss: 0.0297 - val_loss: 0.0152 - val_rmsle_loss: 0.0155\n",
      "Epoch 4/15\n",
      "30869/30869 [==============================] - 3s 93us/step - loss: 0.0296 - rmsle_loss: 0.0296 - val_loss: 0.0152 - val_rmsle_loss: 0.0154\n",
      "Epoch 5/15\n",
      "30869/30869 [==============================] - 3s 90us/step - loss: 0.0296 - rmsle_loss: 0.0296 - val_loss: 0.0151 - val_rmsle_loss: 0.0154\n",
      "Epoch 6/15\n",
      "30869/30869 [==============================] - 5s 160us/step - loss: 0.0295 - rmsle_loss: 0.0295 - val_loss: 0.0151 - val_rmsle_loss: 0.0154\n",
      "Epoch 7/15\n",
      "30869/30869 [==============================] - 4s 114us/step - loss: 0.0295 - rmsle_loss: 0.0295 - val_loss: 0.0151 - val_rmsle_loss: 0.0154\n",
      "Epoch 8/15\n",
      "30869/30869 [==============================] - 3s 97us/step - loss: 0.0295 - rmsle_loss: 0.0295 - val_loss: 0.0151 - val_rmsle_loss: 0.0154\n",
      "Epoch 9/15\n",
      "30869/30869 [==============================] - 3s 83us/step - loss: 0.0295 - rmsle_loss: 0.0295 - val_loss: 0.0151 - val_rmsle_loss: 0.0153\n",
      "Epoch 10/15\n",
      "30869/30869 [==============================] - 3s 82us/step - loss: 0.0295 - rmsle_loss: 0.0295 - val_loss: 0.0151 - val_rmsle_loss: 0.0153\n",
      "Epoch 11/15\n",
      "30869/30869 [==============================] - 2s 80us/step - loss: 0.0295 - rmsle_loss: 0.0295 - val_loss: 0.0150 - val_rmsle_loss: 0.0153\n",
      "Epoch 12/15\n",
      "30869/30869 [==============================] - 3s 81us/step - loss: 0.0294 - rmsle_loss: 0.0294 - val_loss: 0.0150 - val_rmsle_loss: 0.0153\n",
      "Epoch 13/15\n",
      "30869/30869 [==============================] - 3s 92us/step - loss: 0.0294 - rmsle_loss: 0.0294 - val_loss: 0.0150 - val_rmsle_loss: 0.0153\n",
      "Epoch 14/15\n",
      "30869/30869 [==============================] - 3s 83us/step - loss: 0.0294 - rmsle_loss: 0.0294 - val_loss: 0.0150 - val_rmsle_loss: 0.0153\n",
      "Epoch 15/15\n",
      "30869/30869 [==============================] - 3s 93us/step - loss: 0.0294 - rmsle_loss: 0.0294 - val_loss: 0.0150 - val_rmsle_loss: 0.0153\n",
      "Making predictions\n",
      "Calculating metrics\n",
      "filename number 3 of 4/Users/mariabelenalberti/OneDrive - Universidad Torcuato Di Tella/Tesis/code_datasets/1_data_frames/fiveperc/com_std/MAC000151.csv\n",
      "Spliting into train and test\n",
      "Creating and fitting the LSTM network\n",
      "Train on 30869 samples, validate on 1287 samples\n",
      "Epoch 1/15\n",
      "30869/30869 [==============================] - 4s 122us/step - loss: 0.0362 - rmsle_loss: 0.0362 - val_loss: 0.0441 - val_rmsle_loss: 0.0438\n",
      "Epoch 2/15\n",
      "30869/30869 [==============================] - 3s 97us/step - loss: 0.0348 - rmsle_loss: 0.0348 - val_loss: 0.0442 - val_rmsle_loss: 0.0439\n",
      "Epoch 00002: early stopping\n",
      "Making predictions\n",
      "Calculating metrics\n",
      "filename number 4 of 4/Users/mariabelenalberti/OneDrive - Universidad Torcuato Di Tella/Tesis/code_datasets/1_data_frames/fiveperc/com_std/MAC004545.csv\n",
      "Spliting into train and test\n",
      "Creating and fitting the LSTM network\n",
      "Train on 30869 samples, validate on 1287 samples\n",
      "Epoch 1/15\n",
      "30869/30869 [==============================] - 5s 171us/step - loss: 0.0435 - rmsle_loss: 0.0435 - val_loss: 0.0476 - val_rmsle_loss: 0.0476\n",
      "Epoch 2/15\n",
      "30869/30869 [==============================] - 5s 147us/step - loss: 0.0408 - rmsle_loss: 0.0408 - val_loss: 0.0471 - val_rmsle_loss: 0.0472\n",
      "Epoch 3/15\n",
      "30869/30869 [==============================] - 4s 127us/step - loss: 0.0404 - rmsle_loss: 0.0404 - val_loss: 0.0469 - val_rmsle_loss: 0.0470\n",
      "Epoch 4/15\n",
      "30869/30869 [==============================] - 4s 122us/step - loss: 0.0402 - rmsle_loss: 0.0402 - val_loss: 0.0468 - val_rmsle_loss: 0.0469\n",
      "Epoch 5/15\n",
      "30869/30869 [==============================] - 5s 154us/step - loss: 0.0401 - rmsle_loss: 0.0401 - val_loss: 0.0468 - val_rmsle_loss: 0.0469\n",
      "Epoch 6/15\n",
      "30869/30869 [==============================] - 4s 131us/step - loss: 0.0401 - rmsle_loss: 0.0401 - val_loss: 0.0468 - val_rmsle_loss: 0.0469\n",
      "Epoch 7/15\n",
      "30869/30869 [==============================] - 3s 103us/step - loss: 0.0400 - rmsle_loss: 0.0400 - val_loss: 0.0468 - val_rmsle_loss: 0.0469\n",
      "Epoch 8/15\n",
      "30869/30869 [==============================] - 3s 101us/step - loss: 0.0400 - rmsle_loss: 0.0400 - val_loss: 0.0468 - val_rmsle_loss: 0.0469\n",
      "Epoch 9/15\n",
      "30869/30869 [==============================] - 4s 115us/step - loss: 0.0400 - rmsle_loss: 0.0400 - val_loss: 0.0468 - val_rmsle_loss: 0.0469\n",
      "Epoch 00009: early stopping\n",
      "Making predictions\n",
      "Calculating metrics\n"
     ]
    }
   ],
   "source": [
    "# load the dataset\n",
    "path = \"/Users/mariabelenalberti/OneDrive - Universidad Torcuato Di Tella/Tesis/code_datasets/1_data_frames/fiveperc/com_std\"\n",
    "all_files = glob.glob(path + \"/*.csv\")\n",
    "\n",
    "i = 0\n",
    "rmsle_t = []\n",
    "for filename in all_files:\n",
    "    i = i + 1\n",
    "    print('filename number ' + str(i) + ' of ' + str(len(all_files)) + str(filename))\n",
    "    df = pd.read_csv(filename)\n",
    "    df.set_index(\"tstp\", inplace = True)\n",
    "    rmsle_i = lstm_univariate_loop(df)\n",
    "    rmsle_t.append(round(rmsle_i,3))\n",
    "    "
   ]
  },
  {
   "cell_type": "code",
   "execution_count": 82,
   "metadata": {},
   "outputs": [
    {
     "data": {
      "image/png": "[encoded data removed]",
      "text/plain": [
       "<Figure size 720x360 with 2 Axes>"
      ]
     },
     "metadata": {
      "needs_background": "light"
     },
     "output_type": "display_data"
    }
   ],
   "source": [
    "plt.figure(figsize = (10,5))\n",
    "plt.subplot(121)\n",
    "plt.scatter(range(len(rmsle_t)),rmsle_t,color = 'yellow',alpha = 0.5)\n",
    "plt.plot(range(len(rmsle_t)),[min(rmsle_t)]*len(rmsle_t),color = 'grey',linestyle = '--')\n",
    "plt.plot(range(len(rmsle_t)),[round(np.average(rmsle_t),7)]*len(rmsle_t),color = 'grey',linestyle = ':')\n",
    "plt.plot(range(len(rmsle_t)),[max(rmsle_t)]*len(rmsle_t),color = 'grey',linestyle = '-.')\n",
    "plt.yticks([min(rmsle_t),round(np.average(rmsle_t),7),max(rmsle_t)],[str(min(rmsle_t)) + ' (Min)',\n",
    "                                                            str(round(np.average(rmsle_t),7)) + ' (Avg)',\n",
    "                                                                         str(max(rmsle_t))+' (Max)'])\n",
    "plt.title('RMSLE scatter plot',fontsize = 12)\n",
    "plt.xlabel('Households')\n",
    "plt.ylabel('RMSLE')\n",
    "\n",
    "plt.subplot(122)\n",
    "plt.hist(rmsle_t,color = 'yellow',alpha = 0.5)\n",
    "plt.axvline(x=min(rmsle_t), color='grey', linestyle='--', linewidth=2)\n",
    "plt.axvline(x=round(np.average(rmsle_t),4), color='grey', linestyle=':', linewidth=2)\n",
    "plt.axvline(x=max(rmsle_t), color='grey', linestyle='-.', linewidth=2)\n",
    "\n",
    "plt.title(\"RMSLE histogram\",fontsize = 12)\n",
    "plt.xlabel('RMSLE')\n",
    "plt.savefig('/Users/mariabelenalberti/Desktop/uni_results/RMSLE_200_com_std')\n",
    "\n",
    "plt.show();"
   ]
  },
  {
   "cell_type": "code",
   "execution_count": 64,
   "metadata": {},
   "outputs": [
    {
     "name": "stdout",
     "output_type": "stream",
     "text": [
      "0.123\n"
     ]
    }
   ],
   "source": [
    "print(round(np.average(rmsle_t),7))"
   ]
  },
  {
   "cell_type": "code",
   "execution_count": 18,
   "metadata": {},
   "outputs": [
    {
     "name": "stdout",
     "output_type": "stream",
     "text": [
      "0.068\n"
     ]
    }
   ],
   "source": [
    "print(min(rmsle_t))"
   ]
  },
  {
   "cell_type": "code",
   "execution_count": null,
   "metadata": {},
   "outputs": [],
   "source": []
  }
 ],
 "metadata": {
  "kernelspec": {
   "display_name": "Python 3",
   "language": "python",
   "name": "python3"
  },
  "language_info": {
   "codemirror_mode": {
    "name": "ipython",
    "version": 3
   },
   "file_extension": ".py",
   "mimetype": "text/x-python",
   "name": "python",
   "nbconvert_exporter": "python",
   "pygments_lexer": "ipython3",
   "version": "3.7.3"
  },
  "toc": {
   "base_numbering": 1,
   "nav_menu": {},
   "number_sections": true,
   "sideBar": true,
   "skip_h1_title": false,
   "title_cell": "Table of Contents",
   "title_sidebar": "Contents",
   "toc_cell": false,
   "toc_position": {},
   "toc_section_display": true,
   "toc_window_display": false
  }
 },
 "nbformat": 4,
 "nbformat_minor": 4
}
