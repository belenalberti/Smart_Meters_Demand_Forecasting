{
 "cells": [
  {
   "cell_type": "markdown",
   "metadata": {},
   "source": [
    "# Exploratory analysis\n",
    "\n",
    "#Nota: hay una analisis para mostrar la diferencia de consumo (notable) entre ACORN. Quizas puedo predecir POR acorn y asi me evito tener que usarlas y crear dummies and so on"
   ]
  },
  {
   "cell_type": "markdown",
   "metadata": {},
   "source": [
    "## Import Libraries"
   ]
  },
  {
   "cell_type": "code",
   "execution_count": 4,
   "metadata": {
    "scrolled": true
   },
   "outputs": [
    {
     "data": {
      "text/html": [
       "        <script type=\"text/javascript\">\n",
       "        window.PlotlyConfig = {MathJaxConfig: 'local'};\n",
       "        if (window.MathJax) {MathJax.Hub.Config({SVG: {font: \"STIX-Web\"}});}\n",
       "        if (typeof require !== 'undefined') {\n",
       "        require.undef(\"plotly\");\n",
       "        requirejs.config({\n",
       "            paths: {\n",
       "                'plotly': ['https://cdn.plot.ly/plotly-latest.min']\n",
       "            }\n",
       "        });\n",
       "        require(['plotly'], function(Plotly) {\n",
       "            window._Plotly = Plotly;\n",
       "        });\n",
       "        }\n",
       "        </script>\n",
       "        "
      ]
     },
     "metadata": {},
     "output_type": "display_data"
    }
   ],
   "source": [
    "import os\n",
    "import sys\n",
    "#from tqdm import tqdm\n",
    "from tqdm import tqdm_notebook as tqdm\n",
    "import datetime\n",
    "\n",
    "import pandas as pd\n",
    "import numpy as np\n",
    "import scipy\n",
    "\n",
    "import matplotlib.pyplot as plt\n",
    "import seaborn as sns\n",
    "sns.set(color_codes=True)\n",
    "\n",
    "import plotly.graph_objs as go\n",
    "import plotly.figure_factory as ff\n",
    "from plotly.offline import download_plotlyjs, init_notebook_mode, plot, iplot\n",
    "\n",
    "\n",
    "init_notebook_mode(connected=True)"
   ]
  },
  {
   "cell_type": "markdown",
   "metadata": {},
   "source": [
    "## Create folder shortcuts"
   ]
  },
  {
   "cell_type": "code",
   "execution_count": 6,
   "metadata": {},
   "outputs": [],
   "source": [
    "folder = \"/Users/mariabelenalberti/Downloads/smart-meters-in-london/\"\n",
    "folder_savepicture = \"Users/mariabelenalberti/Downloads/\""
   ]
  },
  {
   "cell_type": "markdown",
   "metadata": {},
   "source": [
    "## Load datasets"
   ]
  },
  {
   "cell_type": "code",
   "execution_count": 7,
   "metadata": {},
   "outputs": [
    {
     "data": {
      "text/html": [
       "<div>\n",
       "<style scoped>\n",
       "    .dataframe tbody tr th:only-of-type {\n",
       "        vertical-align: middle;\n",
       "    }\n",
       "\n",
       "    .dataframe tbody tr th {\n",
       "        vertical-align: top;\n",
       "    }\n",
       "\n",
       "    .dataframe thead th {\n",
       "        text-align: right;\n",
       "    }\n",
       "</style>\n",
       "<table border=\"1\" class=\"dataframe\">\n",
       "  <thead>\n",
       "    <tr style=\"text-align: right;\">\n",
       "      <th></th>\n",
       "      <th>visibility</th>\n",
       "      <th>windBearing</th>\n",
       "      <th>temperature</th>\n",
       "      <th>time</th>\n",
       "      <th>dewPoint</th>\n",
       "      <th>pressure</th>\n",
       "      <th>apparentTemperature</th>\n",
       "      <th>windSpeed</th>\n",
       "      <th>precipType</th>\n",
       "      <th>icon</th>\n",
       "      <th>humidity</th>\n",
       "      <th>summary</th>\n",
       "    </tr>\n",
       "  </thead>\n",
       "  <tbody>\n",
       "    <tr>\n",
       "      <th>0</th>\n",
       "      <td>5.97</td>\n",
       "      <td>104</td>\n",
       "      <td>10.24</td>\n",
       "      <td>2011-11-11 00:00:00</td>\n",
       "      <td>8.86</td>\n",
       "      <td>1016.76</td>\n",
       "      <td>10.24</td>\n",
       "      <td>2.77</td>\n",
       "      <td>rain</td>\n",
       "      <td>partly-cloudy-night</td>\n",
       "      <td>0.91</td>\n",
       "      <td>Partly Cloudy</td>\n",
       "    </tr>\n",
       "    <tr>\n",
       "      <th>1</th>\n",
       "      <td>4.88</td>\n",
       "      <td>99</td>\n",
       "      <td>9.76</td>\n",
       "      <td>2011-11-11 01:00:00</td>\n",
       "      <td>8.83</td>\n",
       "      <td>1016.63</td>\n",
       "      <td>8.24</td>\n",
       "      <td>2.95</td>\n",
       "      <td>rain</td>\n",
       "      <td>partly-cloudy-night</td>\n",
       "      <td>0.94</td>\n",
       "      <td>Partly Cloudy</td>\n",
       "    </tr>\n",
       "    <tr>\n",
       "      <th>2</th>\n",
       "      <td>3.70</td>\n",
       "      <td>98</td>\n",
       "      <td>9.46</td>\n",
       "      <td>2011-11-11 02:00:00</td>\n",
       "      <td>8.79</td>\n",
       "      <td>1016.36</td>\n",
       "      <td>7.76</td>\n",
       "      <td>3.17</td>\n",
       "      <td>rain</td>\n",
       "      <td>partly-cloudy-night</td>\n",
       "      <td>0.96</td>\n",
       "      <td>Partly Cloudy</td>\n",
       "    </tr>\n",
       "    <tr>\n",
       "      <th>3</th>\n",
       "      <td>3.12</td>\n",
       "      <td>99</td>\n",
       "      <td>9.23</td>\n",
       "      <td>2011-11-11 03:00:00</td>\n",
       "      <td>8.63</td>\n",
       "      <td>1016.28</td>\n",
       "      <td>7.44</td>\n",
       "      <td>3.25</td>\n",
       "      <td>rain</td>\n",
       "      <td>fog</td>\n",
       "      <td>0.96</td>\n",
       "      <td>Foggy</td>\n",
       "    </tr>\n",
       "    <tr>\n",
       "      <th>4</th>\n",
       "      <td>1.85</td>\n",
       "      <td>111</td>\n",
       "      <td>9.26</td>\n",
       "      <td>2011-11-11 04:00:00</td>\n",
       "      <td>9.21</td>\n",
       "      <td>1015.98</td>\n",
       "      <td>7.24</td>\n",
       "      <td>3.70</td>\n",
       "      <td>rain</td>\n",
       "      <td>fog</td>\n",
       "      <td>1.00</td>\n",
       "      <td>Foggy</td>\n",
       "    </tr>\n",
       "  </tbody>\n",
       "</table>\n",
       "</div>"
      ],
      "text/plain": [
       "   visibility  windBearing  temperature                 time  dewPoint  \\\n",
       "0        5.97          104        10.24  2011-11-11 00:00:00      8.86   \n",
       "1        4.88           99         9.76  2011-11-11 01:00:00      8.83   \n",
       "2        3.70           98         9.46  2011-11-11 02:00:00      8.79   \n",
       "3        3.12           99         9.23  2011-11-11 03:00:00      8.63   \n",
       "4        1.85          111         9.26  2011-11-11 04:00:00      9.21   \n",
       "\n",
       "   pressure  apparentTemperature  windSpeed precipType                 icon  \\\n",
       "0   1016.76                10.24       2.77       rain  partly-cloudy-night   \n",
       "1   1016.63                 8.24       2.95       rain  partly-cloudy-night   \n",
       "2   1016.36                 7.76       3.17       rain  partly-cloudy-night   \n",
       "3   1016.28                 7.44       3.25       rain                  fog   \n",
       "4   1015.98                 7.24       3.70       rain                  fog   \n",
       "\n",
       "   humidity        summary  \n",
       "0      0.91  Partly Cloudy  \n",
       "1      0.94  Partly Cloudy  \n",
       "2      0.96  Partly Cloudy  \n",
       "3      0.96          Foggy  \n",
       "4      1.00          Foggy  "
      ]
     },
     "execution_count": 7,
     "metadata": {},
     "output_type": "execute_result"
    }
   ],
   "source": [
    "dataset_folder = \"daily_dataset/\"\n",
    "df_daily = pd.read_csv(folder+dataset_folder+\"block_0.csv\")\n",
    "df_daily.head()\n",
    "\n",
    "dataset_folder=\"halfhourly_dataset/\"\n",
    "df_hh = pd.read_csv(folder + dataset_folder + \"block_0.csv\")\n",
    "df_hh.head()\n",
    "\n",
    "dataset_folder=\"hhblock_dataset/\"\n",
    "df_hhb=pd.read_csv(folder+dataset_folder+\"block_0.csv\")\n",
    "df_hhb.head()\n",
    "\n",
    "df_detailsacorn=pd.read_csv(folder+\"/acorn_details.csv\",encoding = \"ISO-8859-1\")\n",
    "df_detailsacorn.head()\n",
    "\n",
    "df_bankholidays=pd.read_csv(folder+\"/uk_bank_holidays.csv\",encoding = \"ISO-8859-1\")\n",
    "df_bankholidays.head()\n",
    "\n",
    "df_weatherdaily=pd.read_csv(folder+\"/weather_daily_darksky.csv\",encoding = \"ISO-8859-1\")\n",
    "df_weatherdaily.head()\n",
    "\n",
    "df_weatherhourly=pd.read_csv(folder+\"/weather_hourly_darksky.csv\",encoding = \"ISO-8859-1\")\n",
    "df_weatherhourly.head()"
   ]
  },
  {
   "cell_type": "code",
   "execution_count": 65,
   "metadata": {
    "scrolled": false
   },
   "outputs": [
    {
     "data": {
      "application/vnd.jupyter.widget-view+json": {
       "model_id": "a0b52049501043ecb00a4dd0d83536db",
       "version_major": 2,
       "version_minor": 0
      },
      "text/plain": [
       "HBox(children=(IntProgress(value=0, max=113), HTML(value='')))"
      ]
     },
     "metadata": {},
     "output_type": "display_data"
    },
    {
     "name": "stdout",
     "output_type": "stream",
     "text": [
      "\n"
     ]
    }
   ],
   "source": [
    "dataset_folder=\"daily_dataset/\"\n",
    "\n",
    "list_dailyselection=[]\n",
    "\n",
    "for file in tqdm(os.listdir(folder+dataset_folder)):\n",
    "    if file.endswith(\".csv\"):\n",
    "        #print(file)\n",
    "        df_daily = pd.read_csv(folder+dataset_folder+file)\n",
    "        #print(df_daily.head())\n",
    "        df_daily_selection = df_daily[df_daily[\"energy_count\"]==48][[\"LCLid\",\"day\"]].dropna()\n",
    "        list_dailyselection.append(df_daily_selection)"
   ]
  },
  {
   "cell_type": "markdown",
   "metadata": {},
   "source": [
    "## Number of meters (choose period for optimum analysis)"
   ]
  },
  {
   "cell_type": "code",
   "execution_count": 66,
   "metadata": {},
   "outputs": [
    {
     "data": {
      "text/html": [
       "<div>\n",
       "<style scoped>\n",
       "    .dataframe tbody tr th:only-of-type {\n",
       "        vertical-align: middle;\n",
       "    }\n",
       "\n",
       "    .dataframe tbody tr th {\n",
       "        vertical-align: top;\n",
       "    }\n",
       "\n",
       "    .dataframe thead th {\n",
       "        text-align: right;\n",
       "    }\n",
       "</style>\n",
       "<table border=\"1\" class=\"dataframe\">\n",
       "  <thead>\n",
       "    <tr style=\"text-align: right;\">\n",
       "      <th></th>\n",
       "      <th>LCLid</th>\n",
       "      <th>day</th>\n",
       "    </tr>\n",
       "  </thead>\n",
       "  <tbody>\n",
       "    <tr>\n",
       "      <th>1</th>\n",
       "      <td>MAC000027</td>\n",
       "      <td>2011-12-08</td>\n",
       "    </tr>\n",
       "    <tr>\n",
       "      <th>2</th>\n",
       "      <td>MAC000027</td>\n",
       "      <td>2011-12-09</td>\n",
       "    </tr>\n",
       "    <tr>\n",
       "      <th>3</th>\n",
       "      <td>MAC000027</td>\n",
       "      <td>2011-12-10</td>\n",
       "    </tr>\n",
       "    <tr>\n",
       "      <th>4</th>\n",
       "      <td>MAC000027</td>\n",
       "      <td>2011-12-11</td>\n",
       "    </tr>\n",
       "    <tr>\n",
       "      <th>5</th>\n",
       "      <td>MAC000027</td>\n",
       "      <td>2011-12-12</td>\n",
       "    </tr>\n",
       "  </tbody>\n",
       "</table>\n",
       "</div>"
      ],
      "text/plain": [
       "       LCLid        day\n",
       "1  MAC000027 2011-12-08\n",
       "2  MAC000027 2011-12-09\n",
       "3  MAC000027 2011-12-10\n",
       "4  MAC000027 2011-12-11\n",
       "5  MAC000027 2011-12-12"
      ]
     },
     "execution_count": 66,
     "metadata": {},
     "output_type": "execute_result"
    }
   ],
   "source": [
    "df_dailyselection = pd.concat(list_dailyselection,axis=0)\n",
    "df_dailyselection[\"day\"] = pd.to_datetime(df_dailyselection[\"day\"])\n",
    "df_dailyselection.head()"
   ]
  },
  {
   "cell_type": "code",
   "execution_count": 67,
   "metadata": {},
   "outputs": [],
   "source": [
    "# Make the count\n",
    "df_count=df_dailyselection.groupby([\"day\"]).count()"
   ]
  },
  {
   "cell_type": "code",
   "execution_count": 70,
   "metadata": {},
   "outputs": [
    {
     "data": {
      "image/png": "[encoded data removed]",
      "text/plain": [
       "<Figure size 864x864 with 1 Axes>"
      ]
     },
     "metadata": {},
     "output_type": "display_data"
    }
   ],
   "source": [
    "fig,ax=plt.subplots(figsize=(12,12))\n",
    "df_count.plot(ax=ax)\n",
    "plt.xlabel(\"Day\")\n",
    "plt.ylabel(\"Count of households\")\n",
    "fig.tight_layout()\n",
    "plt.show()\n",
    "#ax.figure.savefig(folder_savepicture+\"count_householdday.png\")"
   ]
  },
  {
   "cell_type": "markdown",
   "metadata": {},
   "source": [
    "## Choose households"
   ]
  },
  {
   "cell_type": "code",
   "execution_count": 71,
   "metadata": {},
   "outputs": [],
   "source": [
    "start_date=datetime.datetime(year=2013,month=1,day=1)\n",
    "end_date=datetime.datetime(year=2014,month=1,day=1)"
   ]
  },
  {
   "cell_type": "code",
   "execution_count": 72,
   "metadata": {},
   "outputs": [],
   "source": [
    "df_dailyselection_zoom=df_dailyselection[(df_dailyselection[\"day\"]>=start_date) & (df_dailyselection[\"day\"]<end_date)]"
   ]
  },
  {
   "cell_type": "code",
   "execution_count": 73,
   "metadata": {},
   "outputs": [
    {
     "data": {
      "image/png": "[encoded data removed]",
      "text/plain": [
       "<Figure size 864x864 with 1 Axes>"
      ]
     },
     "metadata": {},
     "output_type": "display_data"
    }
   ],
   "source": [
    "# Represents the number of day avaialble per device in the date range\n",
    "\n",
    "df_countperid=df_dailyselection_zoom.groupby([\"LCLid\"]).count()\n",
    "\n",
    "fig,ax=plt.subplots(figsize=(12,12))\n",
    "sns.boxplot(df_countperid)\n",
    "plt.xlim(355,370)\n",
    "plt.xlabel(\"Available days\")\n",
    "fig.tight_layout()\n",
    "plt.show()\n",
    "#ax.figure.savefig(folder_savepicture+\"boxplot_availalbedayhousehold.png\")"
   ]
  },
  {
   "cell_type": "code",
   "execution_count": 74,
   "metadata": {},
   "outputs": [
    {
     "name": "stdout",
     "output_type": "stream",
     "text": [
      "Households for the rest of the study: 5528 households\n"
     ]
    }
   ],
   "source": [
    "list_devices=list(df_countperid[df_countperid>365].index)\n",
    "print(\"Households for the rest of the study: {} households\".format(len(list_devices)))"
   ]
  },
  {
   "cell_type": "code",
   "execution_count": 75,
   "metadata": {},
   "outputs": [
    {
     "data": {
      "text/html": [
       "<div>\n",
       "<style scoped>\n",
       "    .dataframe tbody tr th:only-of-type {\n",
       "        vertical-align: middle;\n",
       "    }\n",
       "\n",
       "    .dataframe tbody tr th {\n",
       "        vertical-align: top;\n",
       "    }\n",
       "\n",
       "    .dataframe thead th {\n",
       "        text-align: right;\n",
       "    }\n",
       "</style>\n",
       "<table border=\"1\" class=\"dataframe\">\n",
       "  <thead>\n",
       "    <tr style=\"text-align: right;\">\n",
       "      <th></th>\n",
       "      <th>LCLid</th>\n",
       "      <th>stdorToU</th>\n",
       "      <th>Acorn</th>\n",
       "      <th>Acorn_grouped</th>\n",
       "      <th>file</th>\n",
       "    </tr>\n",
       "  </thead>\n",
       "  <tbody>\n",
       "    <tr>\n",
       "      <th>0</th>\n",
       "      <td>MAC005492</td>\n",
       "      <td>ToU</td>\n",
       "      <td>ACORN-</td>\n",
       "      <td>ACORN-</td>\n",
       "      <td>block_0</td>\n",
       "    </tr>\n",
       "    <tr>\n",
       "      <th>2</th>\n",
       "      <td>MAC000002</td>\n",
       "      <td>Std</td>\n",
       "      <td>ACORN-A</td>\n",
       "      <td>Affluent</td>\n",
       "      <td>block_0</td>\n",
       "    </tr>\n",
       "    <tr>\n",
       "      <th>3</th>\n",
       "      <td>MAC003613</td>\n",
       "      <td>Std</td>\n",
       "      <td>ACORN-A</td>\n",
       "      <td>Affluent</td>\n",
       "      <td>block_0</td>\n",
       "    </tr>\n",
       "    <tr>\n",
       "      <th>4</th>\n",
       "      <td>MAC003597</td>\n",
       "      <td>Std</td>\n",
       "      <td>ACORN-A</td>\n",
       "      <td>Affluent</td>\n",
       "      <td>block_0</td>\n",
       "    </tr>\n",
       "    <tr>\n",
       "      <th>5</th>\n",
       "      <td>MAC003579</td>\n",
       "      <td>Std</td>\n",
       "      <td>ACORN-A</td>\n",
       "      <td>Affluent</td>\n",
       "      <td>block_0</td>\n",
       "    </tr>\n",
       "  </tbody>\n",
       "</table>\n",
       "</div>"
      ],
      "text/plain": [
       "       LCLid stdorToU    Acorn Acorn_grouped     file\n",
       "0  MAC005492      ToU   ACORN-        ACORN-  block_0\n",
       "2  MAC000002      Std  ACORN-A      Affluent  block_0\n",
       "3  MAC003613      Std  ACORN-A      Affluent  block_0\n",
       "4  MAC003597      Std  ACORN-A      Affluent  block_0\n",
       "5  MAC003579      Std  ACORN-A      Affluent  block_0"
      ]
     },
     "execution_count": 75,
     "metadata": {},
     "output_type": "execute_result"
    }
   ],
   "source": [
    "# Find the block file with the households\n",
    "df_householddetails=pd.read_csv(folder+'informations_households.csv')\n",
    "df_householddetails_selection=df_householddetails[df_householddetails[\"LCLid\"].isin(list_devices)]\n",
    "df_householddetails_selection.head()"
   ]
  },
  {
   "cell_type": "code",
   "execution_count": 76,
   "metadata": {},
   "outputs": [
    {
     "name": "stdout",
     "output_type": "stream",
     "text": [
      "LOST of households: 38 households\n"
     ]
    }
   ],
   "source": [
    "#Lost of households during the selection\n",
    "print(\"LOST of households:\",len(df_householddetails)-len(df_householddetails_selection),\"households\")"
   ]
  },
  {
   "cell_type": "markdown",
   "metadata": {},
   "source": [
    "## Consumption analysis"
   ]
  },
  {
   "cell_type": "code",
   "execution_count": 77,
   "metadata": {},
   "outputs": [
    {
     "data": {
      "application/vnd.jupyter.widget-view+json": {
       "model_id": "d666317714554ec190b0e5299612d2cd",
       "version_major": 2,
       "version_minor": 0
      },
      "text/plain": [
       "HBox(children=(IntProgress(value=0, max=5528), HTML(value='')))"
      ]
     },
     "metadata": {},
     "output_type": "display_data"
    },
    {
     "name": "stdout",
     "output_type": "stream",
     "text": [
      "\n"
     ]
    }
   ],
   "source": [
    "# Get the general heatmap\n",
    "dataset_folder=\"hhblock_dataset/\"\n",
    "pbar = tqdm(total=len(df_householddetails_selection))\n",
    "\n",
    "list_heatmap=[]\n",
    "for block in df_householddetails_selection[\"file\"].unique():\n",
    "    file=\"{}.csv\".format(block)\n",
    "    df_hhblock=pd.read_csv(folder+dataset_folder+file).dropna()\n",
    "    df_hhblock[\"day\"]=pd.to_datetime(df_hhblock[\"day\"])\n",
    "    df_hhblock=df_hhblock[(df_hhblock[\"day\"]>=start_date) & (df_hhblock[\"day\"]<end_date)]\n",
    "    for household in df_householddetails_selection[df_householddetails_selection[\"file\"]==block][\"LCLid\"].unique():\n",
    "        df_hhblock_household=df_hhblock[df_hhblock[\"LCLid\"]==household].drop([\"LCLid\"],axis=1)\n",
    "        df_hhblock_household[\"day\"]=df_hhblock_household.apply(lambda row:row[\"day\"].strftime(\"%Y-%m-%d\"),axis=1)\n",
    "        if len(df_hhblock_household)>=357:\n",
    "            list_heatmap.append(df_hhblock_household)\n",
    "        pbar.update(1)\n",
    "pbar.close()"
   ]
  },
  {
   "cell_type": "code",
   "execution_count": 78,
   "metadata": {},
   "outputs": [],
   "source": [
    "df_generalheatmap=pd.concat(list_heatmap,axis=0).groupby([\"day\"]).mean()"
   ]
  },
  {
   "cell_type": "code",
   "execution_count": 79,
   "metadata": {},
   "outputs": [],
   "source": [
    "stdate=datetime.datetime.now().replace(hour=0,minute=0)\n",
    "df_generalheatmap.columns=[\"{}-{}\".format((stdate+datetime.timedelta(minutes=i*30)).strftime(\"%H:%M\"),(stdate+datetime.timedelta(minutes=(i+1)*30)).strftime(\"%H:%M\")) for i in range(48)]"
   ]
  },
  {
   "cell_type": "code",
   "execution_count": 82,
   "metadata": {},
   "outputs": [
    {
     "data": {
      "image/png": "[encoded data removed]",
      "text/plain": [
       "<Figure size 864x864 with 1 Axes>"
      ]
     },
     "metadata": {},
     "output_type": "display_data"
    }
   ],
   "source": [
    "fig,ax=plt.subplots(figsize=(12,12))\n",
    "#plot_heatmap(fig, ax,df_generalheatmap,\"\")\n",
    "df_generalheatmap.sum(axis=1).plot(ax=ax,kind=\"line\",use_index=True)\n",
    "plt.xlabel(\"Day\")\n",
    "plt.ylabel(\"Energy (kWh)\")\n",
    "fig.tight_layout()\n",
    "plt.show()\n",
    "#ax.figure.savefig(folder_savepicture+\"timeseries_sumall.png\")\n",
    "\n"
   ]
  },
  {
   "cell_type": "code",
   "execution_count": 83,
   "metadata": {},
   "outputs": [
    {
     "data": {
      "text/html": [
       "<div>\n",
       "<style scoped>\n",
       "    .dataframe tbody tr th:only-of-type {\n",
       "        vertical-align: middle;\n",
       "    }\n",
       "\n",
       "    .dataframe tbody tr th {\n",
       "        vertical-align: top;\n",
       "    }\n",
       "\n",
       "    .dataframe thead th {\n",
       "        text-align: right;\n",
       "    }\n",
       "</style>\n",
       "<table border=\"1\" class=\"dataframe\">\n",
       "  <thead>\n",
       "    <tr style=\"text-align: right;\">\n",
       "      <th></th>\n",
       "      <th>temperatureMax</th>\n",
       "      <th>temperatureMaxTime</th>\n",
       "      <th>windBearing</th>\n",
       "      <th>icon</th>\n",
       "      <th>dewPoint</th>\n",
       "      <th>temperatureMinTime</th>\n",
       "      <th>cloudCover</th>\n",
       "      <th>windSpeed</th>\n",
       "      <th>pressure</th>\n",
       "      <th>apparentTemperatureMinTime</th>\n",
       "      <th>...</th>\n",
       "      <th>sunriseTime</th>\n",
       "      <th>temperatureHighTime</th>\n",
       "      <th>uvIndexTime</th>\n",
       "      <th>summary</th>\n",
       "      <th>temperatureLowTime</th>\n",
       "      <th>apparentTemperatureMin</th>\n",
       "      <th>apparentTemperatureMaxTime</th>\n",
       "      <th>apparentTemperatureLowTime</th>\n",
       "      <th>moonPhase</th>\n",
       "      <th>temperatureMean</th>\n",
       "    </tr>\n",
       "    <tr>\n",
       "      <th>day</th>\n",
       "      <th></th>\n",
       "      <th></th>\n",
       "      <th></th>\n",
       "      <th></th>\n",
       "      <th></th>\n",
       "      <th></th>\n",
       "      <th></th>\n",
       "      <th></th>\n",
       "      <th></th>\n",
       "      <th></th>\n",
       "      <th></th>\n",
       "      <th></th>\n",
       "      <th></th>\n",
       "      <th></th>\n",
       "      <th></th>\n",
       "      <th></th>\n",
       "      <th></th>\n",
       "      <th></th>\n",
       "      <th></th>\n",
       "      <th></th>\n",
       "      <th></th>\n",
       "    </tr>\n",
       "  </thead>\n",
       "  <tbody>\n",
       "    <tr>\n",
       "      <th>2011-11-01</th>\n",
       "      <td>15.57</td>\n",
       "      <td>2011-11-01 15:00:00</td>\n",
       "      <td>208</td>\n",
       "      <td>partly-cloudy-day</td>\n",
       "      <td>10.13</td>\n",
       "      <td>2011-11-01 22:00:00</td>\n",
       "      <td>0.36</td>\n",
       "      <td>2.45</td>\n",
       "      <td>1009.46</td>\n",
       "      <td>2011-11-01 22:00:00</td>\n",
       "      <td>...</td>\n",
       "      <td>2011-11-01 06:54:29</td>\n",
       "      <td>2011-11-01 15:00:00</td>\n",
       "      <td>2011-11-01 10:00:00</td>\n",
       "      <td>Partly cloudy until evening.</td>\n",
       "      <td>2011-11-02 03:00:00</td>\n",
       "      <td>9.01</td>\n",
       "      <td>2011-11-01 15:00:00</td>\n",
       "      <td>2011-11-02 03:00:00</td>\n",
       "      <td>0.21</td>\n",
       "      <td>12.625</td>\n",
       "    </tr>\n",
       "    <tr>\n",
       "      <th>2011-11-02</th>\n",
       "      <td>15.19</td>\n",
       "      <td>2011-11-02 23:00:00</td>\n",
       "      <td>134</td>\n",
       "      <td>partly-cloudy-night</td>\n",
       "      <td>10.23</td>\n",
       "      <td>2011-11-02 03:00:00</td>\n",
       "      <td>0.39</td>\n",
       "      <td>4.39</td>\n",
       "      <td>1004.79</td>\n",
       "      <td>2011-11-02 03:00:00</td>\n",
       "      <td>...</td>\n",
       "      <td>2011-11-02 06:56:16</td>\n",
       "      <td>2011-11-02 13:00:00</td>\n",
       "      <td>2011-11-02 09:00:00</td>\n",
       "      <td>Partly cloudy throughout the day.</td>\n",
       "      <td>2011-11-02 19:00:00</td>\n",
       "      <td>7.33</td>\n",
       "      <td>2011-11-02 23:00:00</td>\n",
       "      <td>2011-11-02 19:00:00</td>\n",
       "      <td>0.24</td>\n",
       "      <td>12.035</td>\n",
       "    </tr>\n",
       "    <tr>\n",
       "      <th>2011-11-03</th>\n",
       "      <td>17.41</td>\n",
       "      <td>2011-11-03 14:00:00</td>\n",
       "      <td>154</td>\n",
       "      <td>partly-cloudy-day</td>\n",
       "      <td>13.39</td>\n",
       "      <td>2011-11-03 21:00:00</td>\n",
       "      <td>0.52</td>\n",
       "      <td>3.99</td>\n",
       "      <td>993.40</td>\n",
       "      <td>2011-11-03 21:00:00</td>\n",
       "      <td>...</td>\n",
       "      <td>2011-11-03 06:58:03</td>\n",
       "      <td>2011-11-03 14:00:00</td>\n",
       "      <td>2011-11-03 10:00:00</td>\n",
       "      <td>Partly cloudy throughout the day.</td>\n",
       "      <td>2011-11-04 07:00:00</td>\n",
       "      <td>12.79</td>\n",
       "      <td>2011-11-03 14:00:00</td>\n",
       "      <td>2011-11-04 07:00:00</td>\n",
       "      <td>0.27</td>\n",
       "      <td>15.100</td>\n",
       "    </tr>\n",
       "    <tr>\n",
       "      <th>2011-11-04</th>\n",
       "      <td>15.54</td>\n",
       "      <td>2011-11-04 11:00:00</td>\n",
       "      <td>179</td>\n",
       "      <td>fog</td>\n",
       "      <td>12.03</td>\n",
       "      <td>2011-11-04 23:00:00</td>\n",
       "      <td>0.50</td>\n",
       "      <td>2.62</td>\n",
       "      <td>995.54</td>\n",
       "      <td>2011-11-04 23:00:00</td>\n",
       "      <td>...</td>\n",
       "      <td>2011-11-04 06:59:49</td>\n",
       "      <td>2011-11-04 11:00:00</td>\n",
       "      <td>2011-11-04 10:00:00</td>\n",
       "      <td>Foggy overnight.</td>\n",
       "      <td>2011-11-05 02:00:00</td>\n",
       "      <td>11.53</td>\n",
       "      <td>2011-11-04 11:00:00</td>\n",
       "      <td>2011-11-05 02:00:00</td>\n",
       "      <td>0.31</td>\n",
       "      <td>13.535</td>\n",
       "    </tr>\n",
       "    <tr>\n",
       "      <th>2011-11-05</th>\n",
       "      <td>13.94</td>\n",
       "      <td>2011-11-05 15:00:00</td>\n",
       "      <td>346</td>\n",
       "      <td>fog</td>\n",
       "      <td>10.96</td>\n",
       "      <td>2011-11-05 02:00:00</td>\n",
       "      <td>0.65</td>\n",
       "      <td>2.70</td>\n",
       "      <td>1007.39</td>\n",
       "      <td>2011-11-05 02:00:00</td>\n",
       "      <td>...</td>\n",
       "      <td>2011-11-05 07:01:36</td>\n",
       "      <td>2011-11-05 15:00:00</td>\n",
       "      <td>2011-11-05 10:00:00</td>\n",
       "      <td>Foggy in the morning.</td>\n",
       "      <td>2011-11-06 05:00:00</td>\n",
       "      <td>10.17</td>\n",
       "      <td>2011-11-05 15:00:00</td>\n",
       "      <td>2011-11-06 06:00:00</td>\n",
       "      <td>0.34</td>\n",
       "      <td>12.055</td>\n",
       "    </tr>\n",
       "  </tbody>\n",
       "</table>\n",
       "<p>5 rows × 33 columns</p>\n",
       "</div>"
      ],
      "text/plain": [
       "            temperatureMax   temperatureMaxTime  windBearing  \\\n",
       "day                                                            \n",
       "2011-11-01           15.57  2011-11-01 15:00:00          208   \n",
       "2011-11-02           15.19  2011-11-02 23:00:00          134   \n",
       "2011-11-03           17.41  2011-11-03 14:00:00          154   \n",
       "2011-11-04           15.54  2011-11-04 11:00:00          179   \n",
       "2011-11-05           13.94  2011-11-05 15:00:00          346   \n",
       "\n",
       "                           icon  dewPoint   temperatureMinTime  cloudCover  \\\n",
       "day                                                                          \n",
       "2011-11-01    partly-cloudy-day     10.13  2011-11-01 22:00:00        0.36   \n",
       "2011-11-02  partly-cloudy-night     10.23  2011-11-02 03:00:00        0.39   \n",
       "2011-11-03    partly-cloudy-day     13.39  2011-11-03 21:00:00        0.52   \n",
       "2011-11-04                  fog     12.03  2011-11-04 23:00:00        0.50   \n",
       "2011-11-05                  fog     10.96  2011-11-05 02:00:00        0.65   \n",
       "\n",
       "            windSpeed  pressure apparentTemperatureMinTime  ...  \\\n",
       "day                                                         ...   \n",
       "2011-11-01       2.45   1009.46        2011-11-01 22:00:00  ...   \n",
       "2011-11-02       4.39   1004.79        2011-11-02 03:00:00  ...   \n",
       "2011-11-03       3.99    993.40        2011-11-03 21:00:00  ...   \n",
       "2011-11-04       2.62    995.54        2011-11-04 23:00:00  ...   \n",
       "2011-11-05       2.70   1007.39        2011-11-05 02:00:00  ...   \n",
       "\n",
       "                    sunriseTime  temperatureHighTime          uvIndexTime  \\\n",
       "day                                                                         \n",
       "2011-11-01  2011-11-01 06:54:29  2011-11-01 15:00:00  2011-11-01 10:00:00   \n",
       "2011-11-02  2011-11-02 06:56:16  2011-11-02 13:00:00  2011-11-02 09:00:00   \n",
       "2011-11-03  2011-11-03 06:58:03  2011-11-03 14:00:00  2011-11-03 10:00:00   \n",
       "2011-11-04  2011-11-04 06:59:49  2011-11-04 11:00:00  2011-11-04 10:00:00   \n",
       "2011-11-05  2011-11-05 07:01:36  2011-11-05 15:00:00  2011-11-05 10:00:00   \n",
       "\n",
       "                                      summary   temperatureLowTime  \\\n",
       "day                                                                  \n",
       "2011-11-01       Partly cloudy until evening.  2011-11-02 03:00:00   \n",
       "2011-11-02  Partly cloudy throughout the day.  2011-11-02 19:00:00   \n",
       "2011-11-03  Partly cloudy throughout the day.  2011-11-04 07:00:00   \n",
       "2011-11-04                   Foggy overnight.  2011-11-05 02:00:00   \n",
       "2011-11-05              Foggy in the morning.  2011-11-06 05:00:00   \n",
       "\n",
       "            apparentTemperatureMin  apparentTemperatureMaxTime  \\\n",
       "day                                                              \n",
       "2011-11-01                    9.01         2011-11-01 15:00:00   \n",
       "2011-11-02                    7.33         2011-11-02 23:00:00   \n",
       "2011-11-03                   12.79         2011-11-03 14:00:00   \n",
       "2011-11-04                   11.53         2011-11-04 11:00:00   \n",
       "2011-11-05                   10.17         2011-11-05 15:00:00   \n",
       "\n",
       "            apparentTemperatureLowTime moonPhase temperatureMean  \n",
       "day                                                               \n",
       "2011-11-01         2011-11-02 03:00:00      0.21          12.625  \n",
       "2011-11-02         2011-11-02 19:00:00      0.24          12.035  \n",
       "2011-11-03         2011-11-04 07:00:00      0.27          15.100  \n",
       "2011-11-04         2011-11-05 02:00:00      0.31          13.535  \n",
       "2011-11-05         2011-11-06 06:00:00      0.34          12.055  \n",
       "\n",
       "[5 rows x 33 columns]"
      ]
     },
     "execution_count": 83,
     "metadata": {},
     "output_type": "execute_result"
    }
   ],
   "source": [
    "df_weatherdaily[\"time\"]=pd.to_datetime(df_weatherdaily[\"time\"])\n",
    "df_weatherdaily=df_weatherdaily.sort_values([\"time\"])\n",
    "df_weatherdaily[\"day\"]=df_weatherdaily.apply(lambda row:row[\"time\"].strftime(\"%Y-%m-%d\"),axis=1)\n",
    "df_weatherdaily[\"temperatureMean\"]=df_weatherdaily.apply(lambda row:(row[\"temperatureMax\"]+row[\"temperatureMin\"])/2,axis=1)\n",
    "df_weatherdaily=df_weatherdaily.drop_duplicates([\"day\"])\n",
    "df_weatherdaily=df_weatherdaily.set_index((\"day\"))\n",
    "df_weatherdaily.head()"
   ]
  },
  {
   "cell_type": "code",
   "execution_count": 84,
   "metadata": {},
   "outputs": [
    {
     "name": "stderr",
     "output_type": "stream",
     "text": [
      "/Users/mariabelenalberti/anaconda3/lib/python3.7/site-packages/ipykernel_launcher.py:1: FutureWarning:\n",
      "\n",
      "Sorting because non-concatenation axis is not aligned. A future version\n",
      "of pandas will change to not sort by default.\n",
      "\n",
      "To accept the future behavior, pass 'sort=False'.\n",
      "\n",
      "To retain the current behavior and silence the warning, pass 'sort=True'.\n",
      "\n",
      "\n"
     ]
    },
    {
     "data": {
      "text/html": [
       "<div>\n",
       "<style scoped>\n",
       "    .dataframe tbody tr th:only-of-type {\n",
       "        vertical-align: middle;\n",
       "    }\n",
       "\n",
       "    .dataframe tbody tr th {\n",
       "        vertical-align: top;\n",
       "    }\n",
       "\n",
       "    .dataframe thead th {\n",
       "        text-align: right;\n",
       "    }\n",
       "</style>\n",
       "<table border=\"1\" class=\"dataframe\">\n",
       "  <thead>\n",
       "    <tr style=\"text-align: right;\">\n",
       "      <th></th>\n",
       "      <th>total_consumption</th>\n",
       "      <th>average_outdoortemperature</th>\n",
       "    </tr>\n",
       "  </thead>\n",
       "  <tbody>\n",
       "    <tr>\n",
       "      <th>2013-01-01</th>\n",
       "      <td>11.832464</td>\n",
       "      <td>5.400</td>\n",
       "    </tr>\n",
       "    <tr>\n",
       "      <th>2013-01-02</th>\n",
       "      <td>11.947462</td>\n",
       "      <td>7.065</td>\n",
       "    </tr>\n",
       "    <tr>\n",
       "      <th>2013-01-03</th>\n",
       "      <td>11.335781</td>\n",
       "      <td>10.530</td>\n",
       "    </tr>\n",
       "    <tr>\n",
       "      <th>2013-01-04</th>\n",
       "      <td>11.386660</td>\n",
       "      <td>9.480</td>\n",
       "    </tr>\n",
       "    <tr>\n",
       "      <th>2013-01-05</th>\n",
       "      <td>11.637469</td>\n",
       "      <td>9.250</td>\n",
       "    </tr>\n",
       "  </tbody>\n",
       "</table>\n",
       "</div>"
      ],
      "text/plain": [
       "            total_consumption  average_outdoortemperature\n",
       "2013-01-01          11.832464                       5.400\n",
       "2013-01-02          11.947462                       7.065\n",
       "2013-01-03          11.335781                      10.530\n",
       "2013-01-04          11.386660                       9.480\n",
       "2013-01-05          11.637469                       9.250"
      ]
     },
     "execution_count": 84,
     "metadata": {},
     "output_type": "execute_result"
    }
   ],
   "source": [
    "df_glob=pd.concat([df_generalheatmap.sum(axis=1),df_weatherdaily[\"temperatureMean\"]],axis=1).dropna()\n",
    "df_glob.columns=[\"total_consumption\",\"average_outdoortemperature\"]\n",
    "df_glob.head()"
   ]
  },
  {
   "cell_type": "markdown",
   "metadata": {},
   "source": [
    "# ARIMA Model"
   ]
  },
  {
   "cell_type": "code",
   "execution_count": 9,
   "metadata": {},
   "outputs": [],
   "source": [
    "# dataset con half hourly df_hh \n",
    "folder = \"/Users/mariabelenalberti/Downloads/smart-meters-in-london/\"\n",
    "dataset_folder=\"daily_dataset.csv/\"\n",
    "daily_complete_dataset = pd.read_csv(folder + dataset_folder + \"daily_dataset.csv\")"
   ]
  },
  {
   "cell_type": "code",
   "execution_count": 11,
   "metadata": {},
   "outputs": [
    {
     "data": {
      "text/plain": [
       "3510433"
      ]
     },
     "execution_count": 11,
     "metadata": {},
     "output_type": "execute_result"
    }
   ],
   "source": [
    "daily_complete_dataset.head()\n",
    "len(daily_complete_dataset)"
   ]
  },
  {
   "cell_type": "code",
   "execution_count": null,
   "metadata": {},
   "outputs": [],
   "source": [
    "#Data set daily"
   ]
  },
  {
   "cell_type": "code",
   "execution_count": 23,
   "metadata": {},
   "outputs": [],
   "source": [
    "folder = \"/Users/mariabelenalberti/Downloads/smart-meters-in-london/\"\n",
    "dataset_folder=\"daily_dataset/\"\n",
    "\n",
    "import glob\n",
    "import pandas as pd\n",
    "\n",
    "\n",
    "path = \"/Users/mariabelenalberti/Downloads/smart-meters-in-london/daily_dataset\"\n",
    "filenames = glob.glob(path + \"/*.csv\")\n",
    "\n",
    "dfs = []\n",
    "for filename in filenames:\n",
    "    dfs.append(pd.read_csv(filename))\n",
    "\n",
    "# Concatenate all data into one DataFrame\n",
    "daily_complete = pd.concat(dfs, ignore_index=True)"
   ]
  },
  {
   "cell_type": "code",
   "execution_count": 24,
   "metadata": {},
   "outputs": [
    {
     "data": {
      "text/html": [
       "<div>\n",
       "<style scoped>\n",
       "    .dataframe tbody tr th:only-of-type {\n",
       "        vertical-align: middle;\n",
       "    }\n",
       "\n",
       "    .dataframe tbody tr th {\n",
       "        vertical-align: top;\n",
       "    }\n",
       "\n",
       "    .dataframe thead th {\n",
       "        text-align: right;\n",
       "    }\n",
       "</style>\n",
       "<table border=\"1\" class=\"dataframe\">\n",
       "  <thead>\n",
       "    <tr style=\"text-align: right;\">\n",
       "      <th></th>\n",
       "      <th>LCLid</th>\n",
       "      <th>day</th>\n",
       "      <th>energy_median</th>\n",
       "      <th>energy_mean</th>\n",
       "      <th>energy_max</th>\n",
       "      <th>energy_count</th>\n",
       "      <th>energy_std</th>\n",
       "      <th>energy_sum</th>\n",
       "      <th>energy_min</th>\n",
       "    </tr>\n",
       "  </thead>\n",
       "  <tbody>\n",
       "    <tr>\n",
       "      <th>0</th>\n",
       "      <td>MAC000027</td>\n",
       "      <td>2011-12-07</td>\n",
       "      <td>0.1470</td>\n",
       "      <td>0.159880</td>\n",
       "      <td>0.408</td>\n",
       "      <td>25</td>\n",
       "      <td>0.062123</td>\n",
       "      <td>3.997</td>\n",
       "      <td>0.103</td>\n",
       "    </tr>\n",
       "    <tr>\n",
       "      <th>1</th>\n",
       "      <td>MAC000027</td>\n",
       "      <td>2011-12-08</td>\n",
       "      <td>0.1705</td>\n",
       "      <td>0.193479</td>\n",
       "      <td>0.459</td>\n",
       "      <td>48</td>\n",
       "      <td>0.077042</td>\n",
       "      <td>9.287</td>\n",
       "      <td>0.105</td>\n",
       "    </tr>\n",
       "    <tr>\n",
       "      <th>2</th>\n",
       "      <td>MAC000027</td>\n",
       "      <td>2011-12-09</td>\n",
       "      <td>0.1440</td>\n",
       "      <td>0.156771</td>\n",
       "      <td>0.365</td>\n",
       "      <td>48</td>\n",
       "      <td>0.051995</td>\n",
       "      <td>7.525</td>\n",
       "      <td>0.101</td>\n",
       "    </tr>\n",
       "    <tr>\n",
       "      <th>3</th>\n",
       "      <td>MAC000027</td>\n",
       "      <td>2011-12-10</td>\n",
       "      <td>0.2415</td>\n",
       "      <td>0.264250</td>\n",
       "      <td>0.814</td>\n",
       "      <td>48</td>\n",
       "      <td>0.135007</td>\n",
       "      <td>12.684</td>\n",
       "      <td>0.101</td>\n",
       "    </tr>\n",
       "    <tr>\n",
       "      <th>4</th>\n",
       "      <td>MAC000027</td>\n",
       "      <td>2011-12-11</td>\n",
       "      <td>0.2785</td>\n",
       "      <td>0.288438</td>\n",
       "      <td>0.540</td>\n",
       "      <td>48</td>\n",
       "      <td>0.112697</td>\n",
       "      <td>13.845</td>\n",
       "      <td>0.126</td>\n",
       "    </tr>\n",
       "  </tbody>\n",
       "</table>\n",
       "</div>"
      ],
      "text/plain": [
       "       LCLid         day  energy_median  energy_mean  energy_max  \\\n",
       "0  MAC000027  2011-12-07         0.1470     0.159880       0.408   \n",
       "1  MAC000027  2011-12-08         0.1705     0.193479       0.459   \n",
       "2  MAC000027  2011-12-09         0.1440     0.156771       0.365   \n",
       "3  MAC000027  2011-12-10         0.2415     0.264250       0.814   \n",
       "4  MAC000027  2011-12-11         0.2785     0.288438       0.540   \n",
       "\n",
       "   energy_count  energy_std  energy_sum  energy_min  \n",
       "0            25    0.062123       3.997       0.103  \n",
       "1            48    0.077042       9.287       0.105  \n",
       "2            48    0.051995       7.525       0.101  \n",
       "3            48    0.135007      12.684       0.101  \n",
       "4            48    0.112697      13.845       0.126  "
      ]
     },
     "execution_count": 24,
     "metadata": {},
     "output_type": "execute_result"
    }
   ],
   "source": [
    "big_frame.head()"
   ]
  },
  {
   "cell_type": "code",
   "execution_count": null,
   "metadata": {},
   "outputs": [],
   "source": []
  },
  {
   "cell_type": "code",
   "execution_count": null,
   "metadata": {},
   "outputs": [],
   "source": []
  },
  {
   "cell_type": "code",
   "execution_count": 19,
   "metadata": {},
   "outputs": [],
   "source": []
  },
  {
   "cell_type": "code",
   "execution_count": null,
   "metadata": {},
   "outputs": [],
   "source": []
  },
  {
   "cell_type": "code",
   "execution_count": null,
   "metadata": {},
   "outputs": [],
   "source": []
  },
  {
   "cell_type": "code",
   "execution_count": 2,
   "metadata": {},
   "outputs": [],
   "source": [
    "import numpy as np\n",
    "import pandas as pd\n",
    "from matplotlib import pyplot as plt\n",
    "from statsmodels.tsa.stattools import adfuller\n",
    "from statsmodels.tsa.seasonal import seasonal_decompose\n",
    "from statsmodels.tsa.arima_model import ARIMA\n",
    "from pandas.plotting import register_matplotlib_converters\n",
    "register_matplotlib_converters()"
   ]
  },
  {
   "cell_type": "code",
   "execution_count": null,
   "metadata": {},
   "outputs": [],
   "source": [
    "rolling_mean = df.rolling(window = 30).mean()\n",
    "rolling_std = df.rolling(window = 30).std()plt.plot(df, color = 'blue', label = 'Original')\n",
    "plt.plot(rolling_mean, color = 'red', label = 'Rolling Mean')\n",
    "plt.plot(rolling_std, color = 'black', label = 'Rolling Std')\n",
    "plt.legend(loc = 'best')\n",
    "plt.title('Rolling Mean & Rolling Standard Deviation')\n",
    "plt.show()"
   ]
  }
 ],
 "metadata": {
  "kernelspec": {
   "display_name": "Python 3",
   "language": "python",
   "name": "python3"
  },
  "language_info": {
   "codemirror_mode": {
    "name": "ipython",
    "version": 3
   },
   "file_extension": ".py",
   "mimetype": "text/x-python",
   "name": "python",
   "nbconvert_exporter": "python",
   "pygments_lexer": "ipython3",
   "version": "3.7.3"
  },
  "toc": {
   "base_numbering": 1,
   "nav_menu": {},
   "number_sections": true,
   "sideBar": true,
   "skip_h1_title": false,
   "title_cell": "Table of Contents",
   "title_sidebar": "Contents",
   "toc_cell": false,
   "toc_position": {},
   "toc_section_display": true,
   "toc_window_display": false
  }
 },
 "nbformat": 4,
 "nbformat_minor": 2
}
