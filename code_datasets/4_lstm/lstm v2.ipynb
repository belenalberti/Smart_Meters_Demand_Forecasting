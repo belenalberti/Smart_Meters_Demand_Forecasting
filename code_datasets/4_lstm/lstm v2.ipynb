{
 "cells": [
  {
   "cell_type": "code",
   "execution_count": 2,
   "metadata": {},
   "outputs": [],
   "source": [
    "import numpy as np\n",
    "import pandas as pd\n",
    "from pandas import read_csv\n",
    "from pandas import datetime\n",
    "import matplotlib.pyplot as plt"
   ]
  },
  {
   "cell_type": "code",
   "execution_count": 28,
   "metadata": {},
   "outputs": [],
   "source": [
    "import matplotlib.pyplot as plt"
   ]
  },
  {
   "cell_type": "code",
   "execution_count": 14,
   "metadata": {},
   "outputs": [],
   "source": [
    "from sklearn.preprocessing import LabelEncoder"
   ]
  },
  {
   "cell_type": "code",
   "execution_count": 16,
   "metadata": {},
   "outputs": [
    {
     "name": "stderr",
     "output_type": "stream",
     "text": [
      "Using TensorFlow backend.\n"
     ]
    }
   ],
   "source": [
    "import math\n",
    "import keras\n",
    "from keras.models import Sequential\n",
    "from keras.layers import Dense\n",
    "from keras.layers import LSTM\n",
    "from keras.layers import Dropout\n",
    "from keras.layers import *\n",
    "from sklearn.preprocessing import MinMaxScaler\n",
    "from sklearn.metrics import mean_squared_error\n",
    "from sklearn.metrics import mean_absolute_error\n",
    "from keras.callbacks import EarlyStopping"
   ]
  },
  {
   "cell_type": "code",
   "execution_count": 39,
   "metadata": {},
   "outputs": [],
   "source": [
    "folder = \"/Users/mariabelenalberti/OneDrive - Universidad Torcuato Di Tella/Tesis/datasets/finales/\"\n",
    "filename = \"affluent_std copy.csv\"\n",
    "energy_data = read_csv(folder + filename,parse_dates = ['hour'], index_col = ['hour'])\n",
    "energy_data = energy_data.rename(columns={\"energy(kWh/hh)\": \"energy\"})\n",
    "del energy_data['index']"
   ]
  },
  {
   "cell_type": "code",
   "execution_count": 40,
   "metadata": {},
   "outputs": [
    {
     "data": {
      "text/html": [
       "<div>\n",
       "<style scoped>\n",
       "    .dataframe tbody tr th:only-of-type {\n",
       "        vertical-align: middle;\n",
       "    }\n",
       "\n",
       "    .dataframe tbody tr th {\n",
       "        vertical-align: top;\n",
       "    }\n",
       "\n",
       "    .dataframe thead th {\n",
       "        text-align: right;\n",
       "    }\n",
       "</style>\n",
       "<table border=\"1\" class=\"dataframe\">\n",
       "  <thead>\n",
       "    <tr style=\"text-align: right;\">\n",
       "      <th></th>\n",
       "      <th>energy</th>\n",
       "      <th>temperature</th>\n",
       "      <th>pressure</th>\n",
       "      <th>wind_speed</th>\n",
       "      <th>humidity</th>\n",
       "      <th>weekend</th>\n",
       "    </tr>\n",
       "    <tr>\n",
       "      <th>hour</th>\n",
       "      <th></th>\n",
       "      <th></th>\n",
       "      <th></th>\n",
       "      <th></th>\n",
       "      <th></th>\n",
       "      <th></th>\n",
       "    </tr>\n",
       "  </thead>\n",
       "  <tbody>\n",
       "    <tr>\n",
       "      <th>2012-01-01 00:00:00</th>\n",
       "      <td>0.234250</td>\n",
       "      <td>13.49</td>\n",
       "      <td>1008.14</td>\n",
       "      <td>3.11</td>\n",
       "      <td>0.88</td>\n",
       "      <td>1</td>\n",
       "    </tr>\n",
       "    <tr>\n",
       "      <th>2012-01-01 00:30:00</th>\n",
       "      <td>0.213458</td>\n",
       "      <td>13.49</td>\n",
       "      <td>1008.14</td>\n",
       "      <td>3.11</td>\n",
       "      <td>0.88</td>\n",
       "      <td>1</td>\n",
       "    </tr>\n",
       "    <tr>\n",
       "      <th>2012-01-01 01:00:00</th>\n",
       "      <td>0.236750</td>\n",
       "      <td>12.73</td>\n",
       "      <td>1007.88</td>\n",
       "      <td>3.08</td>\n",
       "      <td>0.93</td>\n",
       "      <td>1</td>\n",
       "    </tr>\n",
       "    <tr>\n",
       "      <th>2012-01-01 01:30:00</th>\n",
       "      <td>0.207667</td>\n",
       "      <td>12.73</td>\n",
       "      <td>1007.88</td>\n",
       "      <td>3.08</td>\n",
       "      <td>0.93</td>\n",
       "      <td>1</td>\n",
       "    </tr>\n",
       "    <tr>\n",
       "      <th>2012-01-01 02:00:00</th>\n",
       "      <td>0.193708</td>\n",
       "      <td>13.65</td>\n",
       "      <td>1007.09</td>\n",
       "      <td>3.71</td>\n",
       "      <td>0.91</td>\n",
       "      <td>1</td>\n",
       "    </tr>\n",
       "  </tbody>\n",
       "</table>\n",
       "</div>"
      ],
      "text/plain": [
       "                       energy  temperature  pressure  wind_speed  humidity  \\\n",
       "hour                                                                         \n",
       "2012-01-01 00:00:00  0.234250        13.49   1008.14        3.11      0.88   \n",
       "2012-01-01 00:30:00  0.213458        13.49   1008.14        3.11      0.88   \n",
       "2012-01-01 01:00:00  0.236750        12.73   1007.88        3.08      0.93   \n",
       "2012-01-01 01:30:00  0.207667        12.73   1007.88        3.08      0.93   \n",
       "2012-01-01 02:00:00  0.193708        13.65   1007.09        3.71      0.91   \n",
       "\n",
       "                     weekend  \n",
       "hour                          \n",
       "2012-01-01 00:00:00        1  \n",
       "2012-01-01 00:30:00        1  \n",
       "2012-01-01 01:00:00        1  \n",
       "2012-01-01 01:30:00        1  \n",
       "2012-01-01 02:00:00        1  "
      ]
     },
     "execution_count": 40,
     "metadata": {},
     "output_type": "execute_result"
    }
   ],
   "source": [
    "energy_data.head()"
   ]
  },
  {
   "cell_type": "code",
   "execution_count": 41,
   "metadata": {},
   "outputs": [],
   "source": [
    "np.random.seed(11)\n",
    "dataframe = energy_data.loc[:,'energy']\n",
    "dataset = dataframe.values\n",
    "dataset = dataset.astype('float32')"
   ]
  },
  {
   "cell_type": "code",
   "execution_count": 42,
   "metadata": {},
   "outputs": [],
   "source": [
    "# convert series to supervised learning\n",
    "def series_to_supervised(data, n_in=1, n_out=1, dropnan=True):\n",
    "    n_vars = 1\n",
    "    df = pd.DataFrame(data)\n",
    "    cols, names = list(), list()\n",
    "    # input sequence (t-n, ... t-1)\n",
    "    for i in range(n_in, 0, -1):\n",
    "        cols.append(df.shift(i))\n",
    "        names += [('var%d(t-%d)' % (j+1, i)) for j in range(n_vars)]\n",
    "    # forecast sequence (t, t+1, ... t+n)\n",
    "    for i in range(0, n_out):\n",
    "        cols.append(df.shift(-i))\n",
    "        if i == 0:\n",
    "            names += [('var%d(t)' % (j+1)) for j in range(n_vars)]\n",
    "        else:\n",
    "            names += [('var%d(t+%d)' % (j+1, i)) for j in range(n_vars)]\n",
    "    # put it all together\n",
    "    agg = pd.concat(cols, axis=1)\n",
    "    agg.columns = names\n",
    "    # drop rows with NaN values\n",
    "    if dropnan:\n",
    "        agg.dropna(inplace=True)\n",
    "    return agg"
   ]
  },
  {
   "cell_type": "code",
   "execution_count": 43,
   "metadata": {},
   "outputs": [
    {
     "data": {
      "text/html": [
       "<div>\n",
       "<style scoped>\n",
       "    .dataframe tbody tr th:only-of-type {\n",
       "        vertical-align: middle;\n",
       "    }\n",
       "\n",
       "    .dataframe tbody tr th {\n",
       "        vertical-align: top;\n",
       "    }\n",
       "\n",
       "    .dataframe thead th {\n",
       "        text-align: right;\n",
       "    }\n",
       "</style>\n",
       "<table border=\"1\" class=\"dataframe\">\n",
       "  <thead>\n",
       "    <tr style=\"text-align: right;\">\n",
       "      <th></th>\n",
       "      <th>var1(t-7)</th>\n",
       "      <th>var1(t-6)</th>\n",
       "      <th>var1(t-5)</th>\n",
       "      <th>var1(t-4)</th>\n",
       "      <th>var1(t-3)</th>\n",
       "      <th>var1(t-2)</th>\n",
       "      <th>var1(t-1)</th>\n",
       "      <th>var1(t)</th>\n",
       "    </tr>\n",
       "  </thead>\n",
       "  <tbody>\n",
       "    <tr>\n",
       "      <th>7</th>\n",
       "      <td>0.234250</td>\n",
       "      <td>0.213458</td>\n",
       "      <td>0.236750</td>\n",
       "      <td>0.207667</td>\n",
       "      <td>0.193708</td>\n",
       "      <td>0.169583</td>\n",
       "      <td>0.153583</td>\n",
       "      <td>0.178833</td>\n",
       "    </tr>\n",
       "    <tr>\n",
       "      <th>8</th>\n",
       "      <td>0.213458</td>\n",
       "      <td>0.236750</td>\n",
       "      <td>0.207667</td>\n",
       "      <td>0.193708</td>\n",
       "      <td>0.169583</td>\n",
       "      <td>0.153583</td>\n",
       "      <td>0.178833</td>\n",
       "      <td>0.164708</td>\n",
       "    </tr>\n",
       "    <tr>\n",
       "      <th>9</th>\n",
       "      <td>0.236750</td>\n",
       "      <td>0.207667</td>\n",
       "      <td>0.193708</td>\n",
       "      <td>0.169583</td>\n",
       "      <td>0.153583</td>\n",
       "      <td>0.178833</td>\n",
       "      <td>0.164708</td>\n",
       "      <td>0.150500</td>\n",
       "    </tr>\n",
       "  </tbody>\n",
       "</table>\n",
       "</div>"
      ],
      "text/plain": [
       "   var1(t-7)  var1(t-6)  var1(t-5)  var1(t-4)  var1(t-3)  var1(t-2)  \\\n",
       "7   0.234250   0.213458   0.236750   0.207667   0.193708   0.169583   \n",
       "8   0.213458   0.236750   0.207667   0.193708   0.169583   0.153583   \n",
       "9   0.236750   0.207667   0.193708   0.169583   0.153583   0.178833   \n",
       "\n",
       "   var1(t-1)   var1(t)  \n",
       "7   0.153583  0.178833  \n",
       "8   0.178833  0.164708  \n",
       "9   0.164708  0.150500  "
      ]
     },
     "execution_count": 43,
     "metadata": {},
     "output_type": "execute_result"
    }
   ],
   "source": [
    "reframed = series_to_supervised(dataset, 7,1)\n",
    "reframed.head(3)"
   ]
  },
  {
   "cell_type": "code",
   "execution_count": 44,
   "metadata": {},
   "outputs": [],
   "source": [
    "reframed['temperature'] = energy_data.temperature.values[7:]\n",
    "reframed['pressure']= energy_data.pressure.values[7:]\n",
    "reframed['wind_speed']= energy_data.wind_speed.values[7:]\n",
    "reframed['humidity']= energy_data.humidity.values[7:]\n",
    "reframed['weekend']= energy_data.weekend.values[7:]"
   ]
  },
  {
   "cell_type": "code",
   "execution_count": 45,
   "metadata": {},
   "outputs": [],
   "source": [
    "reframed = reframed.reindex(['temperature', 'pressure','wind_speed','humidity','weekend','var1(t-7)', 'var1(t-6)', 'var1(t-5)', 'var1(t-4)', 'var1(t-3)','var1(t-2)', 'var1(t-1)', 'var1(t)'], axis=1)\n",
    "reframed = reframed.values"
   ]
  },
  {
   "cell_type": "code",
   "execution_count": 46,
   "metadata": {},
   "outputs": [],
   "source": [
    "scaler = MinMaxScaler(feature_range=(0, 1))\n",
    "reframed = scaler.fit_transform(reframed)"
   ]
  },
  {
   "cell_type": "code",
   "execution_count": 47,
   "metadata": {},
   "outputs": [],
   "source": [
    "# split into train and test sets\n",
    "train = reframed[:(len(reframed)-30), :]\n",
    "test = reframed[(len(reframed)-30):len(reframed), :]"
   ]
  },
  {
   "cell_type": "code",
   "execution_count": 48,
   "metadata": {},
   "outputs": [],
   "source": [
    "train_X, train_y = train[:, :-1], train[:, -1]\n",
    "test_X, test_y = test[:, :-1], test[:, -1]"
   ]
  },
  {
   "cell_type": "code",
   "execution_count": 49,
   "metadata": {},
   "outputs": [
    {
     "name": "stdout",
     "output_type": "stream",
     "text": [
      "(35003, 1, 12) (35003,) (30, 1, 12) (30,)\n"
     ]
    }
   ],
   "source": [
    "# reshape input to be 3D [samples, timesteps, features]\n",
    "train_X = train_X.reshape((train_X.shape[0], 1, train_X.shape[1]))\n",
    "test_X = test_X.reshape((test_X.shape[0], 1, test_X.shape[1]))\n",
    "print(train_X.shape, train_y.shape, test_X.shape, test_y.shape)"
   ]
  },
  {
   "cell_type": "code",
   "execution_count": 66,
   "metadata": {},
   "outputs": [
    {
     "name": "stdout",
     "output_type": "stream",
     "text": [
      "Epoch 1/50\n",
      " - 2s - loss: 0.0417 - mse: 0.0052 - mae: 0.0417 - mape: 3620.5630\n",
      "Epoch 2/50\n",
      " - 1s - loss: 0.0239 - mse: 0.0012 - mae: 0.0239 - mape: 1207.8289\n",
      "Epoch 3/50\n",
      " - 1s - loss: 0.0222 - mse: 0.0011 - mae: 0.0222 - mape: 907.5420\n",
      "Epoch 4/50\n",
      " - 1s - loss: 0.0218 - mse: 0.0010 - mae: 0.0218 - mape: 808.3937\n",
      "Epoch 5/50\n",
      " - 1s - loss: 0.0215 - mse: 0.0010 - mae: 0.0215 - mape: 777.1217\n",
      "Epoch 6/50\n",
      " - 1s - loss: 0.0213 - mse: 0.0010 - mae: 0.0213 - mape: 823.5986\n",
      "Epoch 7/50\n",
      " - 1s - loss: 0.0212 - mse: 0.0010 - mae: 0.0212 - mape: 663.2292\n",
      "Epoch 8/50\n",
      " - 1s - loss: 0.0211 - mse: 0.0010 - mae: 0.0211 - mape: 740.1911\n",
      "Epoch 9/50\n",
      " - 1s - loss: 0.0211 - mse: 0.0010 - mae: 0.0211 - mape: 791.4427\n",
      "Epoch 10/50\n",
      " - 1s - loss: 0.0210 - mse: 9.9863e-04 - mae: 0.0210 - mape: 787.8642\n",
      "Epoch 11/50\n",
      " - 1s - loss: 0.0210 - mse: 9.9610e-04 - mae: 0.0210 - mape: 788.8464\n",
      "Epoch 12/50\n",
      " - 1s - loss: 0.0209 - mse: 9.9253e-04 - mae: 0.0209 - mape: 781.6694\n",
      "Epoch 13/50\n",
      " - 1s - loss: 0.0208 - mse: 9.8597e-04 - mae: 0.0208 - mape: 763.8412\n",
      "Epoch 14/50\n",
      " - 1s - loss: 0.0208 - mse: 9.8501e-04 - mae: 0.0208 - mape: 750.6128\n",
      "Epoch 15/50\n",
      " - 1s - loss: 0.0208 - mse: 9.8446e-04 - mae: 0.0208 - mape: 717.4230\n",
      "Epoch 16/50\n",
      " - 1s - loss: 0.0208 - mse: 9.8283e-04 - mae: 0.0208 - mape: 762.9657\n",
      "Epoch 17/50\n",
      " - 1s - loss: 0.0207 - mse: 9.8075e-04 - mae: 0.0207 - mape: 688.9935\n",
      "Epoch 18/50\n",
      " - 1s - loss: 0.0207 - mse: 9.7716e-04 - mae: 0.0207 - mape: 711.6242\n",
      "Epoch 19/50\n",
      " - 1s - loss: 0.0207 - mse: 9.7999e-04 - mae: 0.0207 - mape: 720.5177\n",
      "Epoch 20/50\n",
      " - 1s - loss: 0.0206 - mse: 9.7055e-04 - mae: 0.0206 - mape: 717.5447\n",
      "Epoch 21/50\n",
      " - 1s - loss: 0.0207 - mse: 9.7686e-04 - mae: 0.0207 - mape: 691.7894\n",
      "Epoch 22/50\n",
      " - 1s - loss: 0.0207 - mse: 9.7851e-04 - mae: 0.0207 - mape: 743.8427\n",
      "Epoch 23/50\n",
      " - 1s - loss: 0.0207 - mse: 9.7817e-04 - mae: 0.0207 - mape: 746.7957\n",
      "Epoch 24/50\n",
      " - 1s - loss: 0.0207 - mse: 9.8075e-04 - mae: 0.0207 - mape: 743.2990\n",
      "Epoch 25/50\n",
      " - 1s - loss: 0.0207 - mse: 9.7868e-04 - mae: 0.0207 - mape: 750.8564\n",
      "Epoch 26/50\n",
      " - 1s - loss: 0.0207 - mse: 9.7438e-04 - mae: 0.0207 - mape: 738.8345\n",
      "Epoch 27/50\n",
      " - 1s - loss: 0.0207 - mse: 9.7619e-04 - mae: 0.0207 - mape: 822.3450\n",
      "Epoch 28/50\n",
      " - 1s - loss: 0.0207 - mse: 9.7413e-04 - mae: 0.0207 - mape: 769.9872\n",
      "Epoch 29/50\n",
      " - 1s - loss: 0.0207 - mse: 9.7438e-04 - mae: 0.0207 - mape: 813.9617\n",
      "Epoch 30/50\n",
      " - 1s - loss: 0.0206 - mse: 9.7292e-04 - mae: 0.0206 - mape: 711.6991\n",
      "Epoch 31/50\n",
      " - 1s - loss: 0.0206 - mse: 9.7103e-04 - mae: 0.0206 - mape: 670.8901\n",
      "Epoch 32/50\n",
      " - 1s - loss: 0.0206 - mse: 9.7118e-04 - mae: 0.0206 - mape: 737.7672\n",
      "Epoch 33/50\n",
      " - 1s - loss: 0.0206 - mse: 9.6977e-04 - mae: 0.0206 - mape: 734.4462\n",
      "Epoch 34/50\n",
      " - 1s - loss: 0.0206 - mse: 9.7024e-04 - mae: 0.0206 - mape: 761.8371\n",
      "Epoch 35/50\n",
      " - 1s - loss: 0.0206 - mse: 9.6853e-04 - mae: 0.0206 - mape: 715.1641\n",
      "Epoch 36/50\n",
      " - 1s - loss: 0.0205 - mse: 9.6786e-04 - mae: 0.0205 - mape: 691.9530\n",
      "Epoch 37/50\n",
      " - 1s - loss: 0.0205 - mse: 9.6498e-04 - mae: 0.0205 - mape: 648.5153\n",
      "Epoch 38/50\n",
      " - 1s - loss: 0.0205 - mse: 9.6509e-04 - mae: 0.0205 - mape: 693.5654\n",
      "Epoch 39/50\n",
      " - 1s - loss: 0.0205 - mse: 9.6555e-04 - mae: 0.0205 - mape: 667.4188\n",
      "Epoch 40/50\n",
      " - 1s - loss: 0.0205 - mse: 9.6410e-04 - mae: 0.0205 - mape: 646.7024\n",
      "Epoch 41/50\n",
      " - 1s - loss: 0.0204 - mse: 9.6308e-04 - mae: 0.0204 - mape: 637.3214\n",
      "Epoch 42/50\n",
      " - 2s - loss: 0.0204 - mse: 9.6142e-04 - mae: 0.0204 - mape: 611.3683\n",
      "Epoch 43/50\n",
      " - 2s - loss: 0.0204 - mse: 9.5973e-04 - mae: 0.0204 - mape: 618.3463\n",
      "Epoch 44/50\n",
      " - 1s - loss: 0.0204 - mse: 9.5936e-04 - mae: 0.0204 - mape: 598.7467\n",
      "Epoch 45/50\n",
      " - 1s - loss: 0.0203 - mse: 9.5438e-04 - mae: 0.0203 - mape: 548.8089\n",
      "Epoch 46/50\n",
      " - 1s - loss: 0.0204 - mse: 9.5646e-04 - mae: 0.0204 - mape: 561.3778\n",
      "Epoch 47/50\n",
      " - 1s - loss: 0.0203 - mse: 9.5246e-04 - mae: 0.0203 - mape: 570.0377\n",
      "Epoch 48/50\n",
      " - 1s - loss: 0.0203 - mse: 9.5235e-04 - mae: 0.0203 - mape: 544.4866\n",
      "Epoch 49/50\n",
      " - 1s - loss: 0.0202 - mse: 9.4667e-04 - mae: 0.0202 - mape: 543.7238\n",
      "Epoch 50/50\n",
      " - 1s - loss: 0.0203 - mse: 9.4777e-04 - mae: 0.0203 - mape: 538.1370\n"
     ]
    },
    {
     "data": {
      "image/png": "[encoded data removed]",
      "text/plain": [
       "<Figure size 432x288 with 1 Axes>"
      ]
     },
     "metadata": {
      "needs_background": "light"
     },
     "output_type": "display_data"
    }
   ],
   "source": [
    "# design network\n",
    "model = Sequential()\n",
    "model.add(LSTM(100, input_shape=(train_X.shape[1], train_X.shape[2])))\n",
    "model.add(Dense(1))\n",
    "model.compile(loss='mae', optimizer='adam', metrics=['mse', 'mae', 'mape'])\n",
    "# fit network\n",
    "history = model.fit(train_X, train_y, epochs=50, batch_size=70, verbose=2, shuffle=False)\n",
    "# plot history\n",
    "plt.plot(history.history['loss'], label='train')\n",
    "plt.legend()\n",
    "plt.show()"
   ]
  },
  {
   "cell_type": "code",
   "execution_count": 52,
   "metadata": {},
   "outputs": [],
   "source": [
    "# make a prediction\n",
    "yhat = model.predict(test_X)"
   ]
  },
  {
   "cell_type": "code",
   "execution_count": 53,
   "metadata": {},
   "outputs": [],
   "source": [
    "test_X = test_X.reshape(test_X.shape[0], test_X.shape[2])"
   ]
  },
  {
   "cell_type": "code",
   "execution_count": 54,
   "metadata": {},
   "outputs": [],
   "source": [
    "# invert scaling for forecast\n",
    "inv_yhat = np.concatenate((yhat, test_X), axis=1)\n",
    "inv_yhat = scaler.inverse_transform(inv_yhat)"
   ]
  },
  {
   "cell_type": "code",
   "execution_count": 55,
   "metadata": {},
   "outputs": [],
   "source": [
    "# invert scaling for actual\n",
    "test_y = test_y.reshape((len(test_y), 1))\n",
    "inv_y = np.concatenate((test_y, test_X), axis=1)\n",
    "inv_y = scaler.inverse_transform(inv_y)"
   ]
  },
  {
   "cell_type": "code",
   "execution_count": 56,
   "metadata": {},
   "outputs": [
    {
     "name": "stdout",
     "output_type": "stream",
     "text": [
      "Test RMSE: 0.000\n"
     ]
    }
   ],
   "source": [
    "act = [i[9] for i in inv_y] # last element is the predicted average energy\n",
    "pred = [i[9] for i in inv_yhat] # last element is the actual average energy\n",
    "\n",
    "# calculate RMSE\n",
    "import math\n",
    "rmse = math.sqrt(mean_squared_error(act, pred))\n",
    "print('Test RMSE: %.3f' % rmse)"
   ]
  },
  {
   "cell_type": "code",
   "execution_count": 57,
   "metadata": {},
   "outputs": [
    {
     "data": {
      "image/png": "[encoded data removed]",
      "text/plain": [
       "<Figure size 1800x720 with 1 Axes>"
      ]
     },
     "metadata": {
      "needs_background": "light"
     },
     "output_type": "display_data"
    }
   ],
   "source": [
    "predicted_lstm = pd.DataFrame({'predicted':pred,'avg_energy':act})\n",
    "predicted_lstm['avg_energy'].plot(figsize=(25,10),color = 'red')\n",
    "predicted_lstm['predicted'].plot(color = 'blue')\n",
    "plt.show()"
   ]
  },
  {
   "cell_type": "code",
   "execution_count": 74,
   "metadata": {},
   "outputs": [
    {
     "name": "stdout",
     "output_type": "stream",
     "text": [
      "0.0\n"
     ]
    }
   ],
   "source": [
    "from sklearn import metrics\n",
    "#MAE\n",
    "print(metrics.mean_absolute_error(act,pred))"
   ]
  },
  {
   "cell_type": "code",
   "execution_count": 76,
   "metadata": {},
   "outputs": [
    {
     "ename": "TypeError",
     "evalue": "unsupported operand type(s) for -: 'list' and 'list'",
     "output_type": "error",
     "traceback": [
      "\u001b[0;31m---------------------------------------------------------------------------\u001b[0m",
      "\u001b[0;31mTypeError\u001b[0m                                 Traceback (most recent call last)",
      "\u001b[0;32m<ipython-input-76-47e15dbc1b54>\u001b[0m in \u001b[0;36m<module>\u001b[0;34m\u001b[0m\n\u001b[1;32m      1\u001b[0m \u001b[0;32mdef\u001b[0m \u001b[0mMAPE\u001b[0m\u001b[0;34m(\u001b[0m\u001b[0mpredict\u001b[0m\u001b[0;34m,\u001b[0m\u001b[0mtarget\u001b[0m\u001b[0;34m)\u001b[0m\u001b[0;34m:\u001b[0m\u001b[0;34m\u001b[0m\u001b[0;34m\u001b[0m\u001b[0m\n\u001b[1;32m      2\u001b[0m     \u001b[0;32mreturn\u001b[0m \u001b[0;34m(\u001b[0m \u001b[0mabs\u001b[0m\u001b[0;34m(\u001b[0m\u001b[0;34m(\u001b[0m\u001b[0mtarget\u001b[0m \u001b[0;34m-\u001b[0m \u001b[0mpredict\u001b[0m\u001b[0;34m)\u001b[0m \u001b[0;34m/\u001b[0m \u001b[0mtarget\u001b[0m\u001b[0;34m)\u001b[0m\u001b[0;34m.\u001b[0m\u001b[0mmean\u001b[0m\u001b[0;34m(\u001b[0m\u001b[0;34m)\u001b[0m\u001b[0;34m)\u001b[0m \u001b[0;34m*\u001b[0m \u001b[0;36m100\u001b[0m\u001b[0;34m\u001b[0m\u001b[0;34m\u001b[0m\u001b[0m\n\u001b[0;32m----> 3\u001b[0;31m \u001b[0mprint\u001b[0m \u001b[0;34m(\u001b[0m\u001b[0;34m'My MAPE: '\u001b[0m \u001b[0;34m+\u001b[0m \u001b[0mstr\u001b[0m\u001b[0;34m(\u001b[0m\u001b[0mMAPE\u001b[0m\u001b[0;34m(\u001b[0m\u001b[0mpred\u001b[0m\u001b[0;34m,\u001b[0m\u001b[0mact\u001b[0m\u001b[0;34m)\u001b[0m\u001b[0;34m)\u001b[0m \u001b[0;34m)\u001b[0m\u001b[0;34m\u001b[0m\u001b[0;34m\u001b[0m\u001b[0m\n\u001b[0m",
      "\u001b[0;32m<ipython-input-76-47e15dbc1b54>\u001b[0m in \u001b[0;36mMAPE\u001b[0;34m(predict, target)\u001b[0m\n\u001b[1;32m      1\u001b[0m \u001b[0;32mdef\u001b[0m \u001b[0mMAPE\u001b[0m\u001b[0;34m(\u001b[0m\u001b[0mpredict\u001b[0m\u001b[0;34m,\u001b[0m\u001b[0mtarget\u001b[0m\u001b[0;34m)\u001b[0m\u001b[0;34m:\u001b[0m\u001b[0;34m\u001b[0m\u001b[0;34m\u001b[0m\u001b[0m\n\u001b[0;32m----> 2\u001b[0;31m     \u001b[0;32mreturn\u001b[0m \u001b[0;34m(\u001b[0m \u001b[0mabs\u001b[0m\u001b[0;34m(\u001b[0m\u001b[0;34m(\u001b[0m\u001b[0mtarget\u001b[0m \u001b[0;34m-\u001b[0m \u001b[0mpredict\u001b[0m\u001b[0;34m)\u001b[0m \u001b[0;34m/\u001b[0m \u001b[0mtarget\u001b[0m\u001b[0;34m)\u001b[0m\u001b[0;34m.\u001b[0m\u001b[0mmean\u001b[0m\u001b[0;34m(\u001b[0m\u001b[0;34m)\u001b[0m\u001b[0;34m)\u001b[0m \u001b[0;34m*\u001b[0m \u001b[0;36m100\u001b[0m\u001b[0;34m\u001b[0m\u001b[0;34m\u001b[0m\u001b[0m\n\u001b[0m\u001b[1;32m      3\u001b[0m \u001b[0mprint\u001b[0m \u001b[0;34m(\u001b[0m\u001b[0;34m'My MAPE: '\u001b[0m \u001b[0;34m+\u001b[0m \u001b[0mstr\u001b[0m\u001b[0;34m(\u001b[0m\u001b[0mMAPE\u001b[0m\u001b[0;34m(\u001b[0m\u001b[0mpred\u001b[0m\u001b[0;34m,\u001b[0m\u001b[0mact\u001b[0m\u001b[0;34m)\u001b[0m\u001b[0;34m)\u001b[0m \u001b[0;34m)\u001b[0m\u001b[0;34m\u001b[0m\u001b[0;34m\u001b[0m\u001b[0m\n",
      "\u001b[0;31mTypeError\u001b[0m: unsupported operand type(s) for -: 'list' and 'list'"
     ]
    }
   ],
   "source": [
    "def MAPE(predict,target):\n",
    "    return ( abs((target - predict) / target).mean()) * 100\n",
    "print ('My MAPE: ' + str(MAPE(pred,act)) )"
   ]
  },
  {
   "cell_type": "code",
   "execution_count": null,
   "metadata": {},
   "outputs": [],
   "source": []
  }
 ],
 "metadata": {
  "kernelspec": {
   "display_name": "Python 3",
   "language": "python",
   "name": "python3"
  },
  "language_info": {
   "codemirror_mode": {
    "name": "ipython",
    "version": 3
   },
   "file_extension": ".py",
   "mimetype": "text/x-python",
   "name": "python",
   "nbconvert_exporter": "python",
   "pygments_lexer": "ipython3",
   "version": "3.7.3"
  },
  "toc": {
   "base_numbering": 1,
   "nav_menu": {},
   "number_sections": true,
   "sideBar": true,
   "skip_h1_title": false,
   "title_cell": "Table of Contents",
   "title_sidebar": "Contents",
   "toc_cell": false,
   "toc_position": {},
   "toc_section_display": true,
   "toc_window_display": false
  }
 },
 "nbformat": 4,
 "nbformat_minor": 2
}
