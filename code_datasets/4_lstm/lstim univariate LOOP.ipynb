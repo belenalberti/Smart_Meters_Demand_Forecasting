{
 "cells": [
  {
   "cell_type": "code",
   "execution_count": 16,
   "metadata": {},
   "outputs": [],
   "source": [
    "import pandas as pd\n",
    "import glob\n",
    "import numpy as np\n",
    "import matplotlib.pyplot as plt\n",
    "from pandas import read_csv\n",
    "import math\n",
    "from keras.models import Sequential\n",
    "from keras.layers import Dense\n",
    "from keras.layers import LSTM\n",
    "from sklearn.preprocessing import MinMaxScaler\n",
    "from sklearn.metrics import mean_squared_error\n",
    "import math\n",
    "from sklearn.metrics import mean_squared_error\n",
    "from sklearn.metrics import mean_absolute_error\n",
    "from sklearn import metrics\n",
    "import math"
   ]
  },
  {
   "cell_type": "code",
   "execution_count": 7,
   "metadata": {},
   "outputs": [],
   "source": [
    "def sMAPE(a, b):\n",
    "    a = np.reshape(a, (-1,))\n",
    "    b = np.reshape(b, (-1,))\n",
    "    return np.mean(100*2.0 * np.abs(a - b) / (np.abs(a) + np.abs(b))).item()"
   ]
  },
  {
   "cell_type": "code",
   "execution_count": 8,
   "metadata": {},
   "outputs": [],
   "source": [
    "def rmsle(y, y_pred):     \n",
    "    assert len(y) == len(y_pred)\n",
    "    terms_to_sum = [(math.log(y_pred[i] + 1) - math.log(y[i] + 1)) ** 2.0 for i,pred in enumerate(y_pred)]\n",
    "    return (sum(terms_to_sum) * (1.0/len(y))) ** 0.5"
   ]
  },
  {
   "cell_type": "code",
   "execution_count": 9,
   "metadata": {},
   "outputs": [],
   "source": [
    "# convert an array of values into a dataset matrix\n",
    "def create_dataset(dataset, look_back=1):\n",
    "    dataX, dataY = [], []\n",
    "    for i in range(len(dataset)-look_back-1):\n",
    "        a = dataset[i:(i+look_back), 0]\n",
    "        dataX.append(a)\n",
    "        dataY.append(dataset[i + look_back, 0])\n",
    "    return numpy.array(dataX), numpy.array(dataY)"
   ]
  },
  {
   "cell_type": "code",
   "execution_count": 28,
   "metadata": {},
   "outputs": [],
   "source": [
    "\n",
    "def lstm_univariate_loop(dataset):\n",
    "    \n",
    "    dataset = df.values\n",
    "    dataset = df.astype('float32')\n",
    "    \n",
    "    # normalize the dataset\n",
    "    scaler = MinMaxScaler(feature_range=(0, 1))\n",
    "    dataset = scaler.fit_transform(dataset)\n",
    "    \n",
    "    # split into train and test sets\n",
    "    print('Spliting into train and test')\n",
    "    train_size = int(33600)\n",
    "    test_size = len(dataset) - train_size\n",
    "    train, test = dataset[0:train_size,:], dataset[train_size:len(dataset),:]\n",
    "    \n",
    "    # reshape into X=t and Y=t+1\n",
    "    look_back = 3\n",
    "    trainX, trainY = create_dataset(train, look_back)\n",
    "    testX, testY = create_dataset(test, look_back)\n",
    "    testY_rmsle = testY.copy()\n",
    "    # reshape input to be [samples, time steps, features]\n",
    "    trainX = numpy.reshape(trainX, (trainX.shape[0], 1, trainX.shape[1]))\n",
    "    testX = numpy.reshape(testX, (testX.shape[0], 1, testX.shape[1]))\n",
    "    \n",
    "    # create and fit the LSTM network\n",
    "    print('Creating and fitting the LSTM network')\n",
    "    model = Sequential()\n",
    "    model.add(LSTM(100, input_shape=(1, look_back)))\n",
    "    model.add(Dense(1))\n",
    "    model.compile(loss='mean_squared_error', optimizer='adam')\n",
    "    model.fit(trainX, trainY, epochs=5, batch_size=70, verbose=1,validation_split=0.04)\n",
    "    \n",
    "    # make predictions\n",
    "    print('Making predictions')\n",
    "    trainPredict = model.predict(trainX)\n",
    "    testPredict = model.predict(testX)\n",
    "    \n",
    "    # invert predictions\n",
    "    trainPredict = scaler.inverse_transform(trainPredict)\n",
    "    trainY = scaler.inverse_transform([trainY])\n",
    "    testPredict = scaler.inverse_transform(testPredict)\n",
    "    testY = scaler.inverse_transform([testY])\n",
    "    \n",
    "    #Metrics\n",
    "    print('Calculating metrics')\n",
    "    mape_i = sMAPE(testY_rmsle,testPredict)\n",
    "    rmsle_i = rmsle(testY_rmsle,testPredict)\n",
    "    \n",
    "    return mape_i, rmsle_i"
   ]
  },
  {
   "cell_type": "code",
   "execution_count": 29,
   "metadata": {},
   "outputs": [
    {
     "name": "stdout",
     "output_type": "stream",
     "text": [
      "filename number 1\n",
      "Spliting into train and test\n",
      "Creating and fitting the LSTM network\n",
      "Train on 30869 samples, validate on 1287 samples\n",
      "Epoch 1/5\n",
      "30869/30869 [==============================] - 2s 61us/step - loss: 0.0029 - val_loss: 0.0028\n",
      "Epoch 2/5\n",
      "30869/30869 [==============================] - 1s 40us/step - loss: 0.0021 - val_loss: 0.0026\n",
      "Epoch 3/5\n",
      "30869/30869 [==============================] - 1s 40us/step - loss: 0.0021 - val_loss: 0.0026\n",
      "Epoch 4/5\n",
      "30869/30869 [==============================] - 1s 39us/step - loss: 0.0021 - val_loss: 0.0026\n",
      "Epoch 5/5\n",
      "30869/30869 [==============================] - 2s 50us/step - loss: 0.0021 - val_loss: 0.0026\n",
      "Making predictions\n",
      "Calculating metrics\n",
      "filename number 2\n",
      "Spliting into train and test\n",
      "Creating and fitting the LSTM network\n",
      "Train on 30869 samples, validate on 1287 samples\n",
      "Epoch 1/5\n",
      "30869/30869 [==============================] - 2s 79us/step - loss: 0.0025 - val_loss: 0.0028\n",
      "Epoch 2/5\n",
      "30869/30869 [==============================] - 1s 47us/step - loss: 0.0024 - val_loss: 0.0028\n",
      "Epoch 3/5\n",
      "30869/30869 [==============================] - 1s 47us/step - loss: 0.0024 - val_loss: 0.0029\n",
      "Epoch 4/5\n",
      "30869/30869 [==============================] - 1s 45us/step - loss: 0.0024 - val_loss: 0.0029\n",
      "Epoch 5/5\n",
      "30869/30869 [==============================] - 1s 45us/step - loss: 0.0024 - val_loss: 0.0028\n",
      "Making predictions\n",
      "Calculating metrics\n",
      "filename number 3\n",
      "Spliting into train and test\n",
      "Creating and fitting the LSTM network\n",
      "Train on 30869 samples, validate on 1287 samples\n",
      "Epoch 1/5\n",
      "30869/30869 [==============================] - 2s 63us/step - loss: 0.0039 - val_loss: 0.0019\n",
      "Epoch 2/5\n",
      "30869/30869 [==============================] - 2s 51us/step - loss: 0.0033 - val_loss: 0.0018\n",
      "Epoch 3/5\n",
      "30869/30869 [==============================] - 4s 122us/step - loss: 0.0032 - val_loss: 0.0019\n",
      "Epoch 4/5\n",
      "30869/30869 [==============================] - 1s 47us/step - loss: 0.0032 - val_loss: 0.0019\n",
      "Epoch 5/5\n",
      "30869/30869 [==============================] - 3s 84us/step - loss: 0.0032 - val_loss: 0.0019\n",
      "Making predictions\n",
      "Calculating metrics\n"
     ]
    }
   ],
   "source": [
    "# load the dataset\n",
    "path = \"/Users/mariabelenalberti/OneDrive - Universidad Torcuato Di Tella/Tesis/code_datasets/1_data_frames/univariate/\"\n",
    "all_files = glob.glob(path + \"/*.csv\")\n",
    "\n",
    "i = 0\n",
    "mape_t = []\n",
    "rmsle_t = []\n",
    "for filename in all_files:\n",
    "    i = i + 1\n",
    "    print('filename number ' + str(i))\n",
    "    df = pd.read_csv(filename)\n",
    "    df.set_index(\"tstp\", inplace = True)\n",
    "    mape_i,rmsle_i = lstm_univariate_loop(df)\n",
    "    mape_t.append(mape_i)\n",
    "    rmsle_t.append(rmsle_i)"
   ]
  },
  {
   "cell_type": "code",
   "execution_count": 30,
   "metadata": {},
   "outputs": [
    {
     "data": {
      "image/png": "[encoded data removed]",
      "text/plain": [
       "<Figure size 720x720 with 1 Axes>"
      ]
     },
     "metadata": {
      "needs_background": "light"
     },
     "output_type": "display_data"
    }
   ],
   "source": [
    "plt.figure(figsize = (10,10))\n",
    "plt.scatter(range(348),mape_t)\n",
    "plt.plot(range(348),[25]*348,color = 'red')\n",
    "plt.show()"
   ]
  },
  {
   "cell_type": "code",
   "execution_count": 34,
   "metadata": {},
   "outputs": [
    {
     "data": {
      "image/png": "[encoded data removed]",
      "text/plain": [
       "<Figure size 432x288 with 1 Axes>"
      ]
     },
     "metadata": {
      "needs_background": "light"
     },
     "output_type": "display_data"
    }
   ],
   "source": [
    "plt.hist(mape_t)\n",
    "plt.show()"
   ]
  },
  {
   "cell_type": "code",
   "execution_count": 37,
   "metadata": {},
   "outputs": [
    {
     "data": {
      "image/png": "[encoded data removed]",
      "text/plain": [
       "<Figure size 720x720 with 1 Axes>"
      ]
     },
     "metadata": {
      "needs_background": "light"
     },
     "output_type": "display_data"
    }
   ],
   "source": [
    "plt.figure(figsize = (10,10))\n",
    "plt.scatter(range(348),rmsle_t)\n",
    "plt.plot(range(3),[0.25]*348,color = 'red')\n",
    "plt.show()"
   ]
  },
  {
   "cell_type": "code",
   "execution_count": 38,
   "metadata": {},
   "outputs": [
    {
     "data": {
      "image/png": "[encoded data removed]",
      "text/plain": [
       "<Figure size 432x288 with 1 Axes>"
      ]
     },
     "metadata": {
      "needs_background": "light"
     },
     "output_type": "display_data"
    }
   ],
   "source": [
    "plt.hist(rmsle_t)\n",
    "plt.show()"
   ]
  },
  {
   "cell_type": "code",
   "execution_count": null,
   "metadata": {},
   "outputs": [],
   "source": []
  }
 ],
 "metadata": {
  "kernelspec": {
   "display_name": "Python 3",
   "language": "python",
   "name": "python3"
  },
  "language_info": {
   "codemirror_mode": {
    "name": "ipython",
    "version": 3
   },
   "file_extension": ".py",
   "mimetype": "text/x-python",
   "name": "python",
   "nbconvert_exporter": "python",
   "pygments_lexer": "ipython3",
   "version": "3.7.3"
  },
  "toc": {
   "base_numbering": 1,
   "nav_menu": {},
   "number_sections": true,
   "sideBar": true,
   "skip_h1_title": false,
   "title_cell": "Table of Contents",
   "title_sidebar": "Contents",
   "toc_cell": false,
   "toc_position": {},
   "toc_section_display": true,
   "toc_window_display": false
  }
 },
 "nbformat": 4,
 "nbformat_minor": 4
}
