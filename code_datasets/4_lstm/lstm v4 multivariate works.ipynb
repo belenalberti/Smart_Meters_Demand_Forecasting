{
 "cells": [
  {
   "cell_type": "code",
   "execution_count": 1,
   "metadata": {},
   "outputs": [],
   "source": [
    "import pandas as pd\n",
    "from pandas import read_csv"
   ]
  },
  {
   "cell_type": "code",
   "execution_count": 2,
   "metadata": {},
   "outputs": [
    {
     "name": "stderr",
     "output_type": "stream",
     "text": [
      "Using TensorFlow backend.\n"
     ]
    }
   ],
   "source": [
    "from math import sqrt\n",
    "from numpy import concatenate\n",
    "from matplotlib import pyplot\n",
    "from pandas import DataFrame\n",
    "from pandas import concat\n",
    "from sklearn.preprocessing import MinMaxScaler\n",
    "from sklearn.preprocessing import LabelEncoder\n",
    "from sklearn.metrics import mean_squared_error\n",
    "from keras.models import Sequential\n",
    "from keras.layers import Dense\n",
    "from keras.layers import LSTM"
   ]
  },
  {
   "cell_type": "code",
   "execution_count": 3,
   "metadata": {},
   "outputs": [],
   "source": [
    "import math\n",
    "from sklearn.metrics import mean_squared_error\n",
    "from sklearn.metrics import mean_absolute_error\n",
    "from sklearn import metrics"
   ]
  },
  {
   "cell_type": "code",
   "execution_count": 4,
   "metadata": {},
   "outputs": [],
   "source": [
    "folder = \"/Users/mariabelenalberti/OneDrive - Universidad Torcuato Di Tella/Tesis/datasets/finales/\"\n",
    "filename = \"affluent_std copy.csv\"\n",
    "dataset = read_csv(folder + filename,parse_dates = ['hour'], index_col = ['hour'])"
   ]
  },
  {
   "cell_type": "code",
   "execution_count": 5,
   "metadata": {},
   "outputs": [
    {
     "data": {
      "text/html": [
       "<div>\n",
       "<style scoped>\n",
       "    .dataframe tbody tr th:only-of-type {\n",
       "        vertical-align: middle;\n",
       "    }\n",
       "\n",
       "    .dataframe tbody tr th {\n",
       "        vertical-align: top;\n",
       "    }\n",
       "\n",
       "    .dataframe thead th {\n",
       "        text-align: right;\n",
       "    }\n",
       "</style>\n",
       "<table border=\"1\" class=\"dataframe\">\n",
       "  <thead>\n",
       "    <tr style=\"text-align: right;\">\n",
       "      <th></th>\n",
       "      <th>energy</th>\n",
       "      <th>temperature</th>\n",
       "      <th>pressure</th>\n",
       "      <th>wind_speed</th>\n",
       "      <th>humidity</th>\n",
       "      <th>weekend</th>\n",
       "    </tr>\n",
       "    <tr>\n",
       "      <th>hour</th>\n",
       "      <th></th>\n",
       "      <th></th>\n",
       "      <th></th>\n",
       "      <th></th>\n",
       "      <th></th>\n",
       "      <th></th>\n",
       "    </tr>\n",
       "  </thead>\n",
       "  <tbody>\n",
       "    <tr>\n",
       "      <th>2012-01-01 00:00:00</th>\n",
       "      <td>0.234250</td>\n",
       "      <td>13.49</td>\n",
       "      <td>1008.14</td>\n",
       "      <td>3.11</td>\n",
       "      <td>0.88</td>\n",
       "      <td>1</td>\n",
       "    </tr>\n",
       "    <tr>\n",
       "      <th>2012-01-01 00:30:00</th>\n",
       "      <td>0.213458</td>\n",
       "      <td>13.49</td>\n",
       "      <td>1008.14</td>\n",
       "      <td>3.11</td>\n",
       "      <td>0.88</td>\n",
       "      <td>1</td>\n",
       "    </tr>\n",
       "    <tr>\n",
       "      <th>2012-01-01 01:00:00</th>\n",
       "      <td>0.236750</td>\n",
       "      <td>12.73</td>\n",
       "      <td>1007.88</td>\n",
       "      <td>3.08</td>\n",
       "      <td>0.93</td>\n",
       "      <td>1</td>\n",
       "    </tr>\n",
       "    <tr>\n",
       "      <th>2012-01-01 01:30:00</th>\n",
       "      <td>0.207667</td>\n",
       "      <td>12.73</td>\n",
       "      <td>1007.88</td>\n",
       "      <td>3.08</td>\n",
       "      <td>0.93</td>\n",
       "      <td>1</td>\n",
       "    </tr>\n",
       "    <tr>\n",
       "      <th>2012-01-01 02:00:00</th>\n",
       "      <td>0.193708</td>\n",
       "      <td>13.65</td>\n",
       "      <td>1007.09</td>\n",
       "      <td>3.71</td>\n",
       "      <td>0.91</td>\n",
       "      <td>1</td>\n",
       "    </tr>\n",
       "  </tbody>\n",
       "</table>\n",
       "</div>"
      ],
      "text/plain": [
       "                       energy  temperature  pressure  wind_speed  humidity  \\\n",
       "hour                                                                         \n",
       "2012-01-01 00:00:00  0.234250        13.49   1008.14        3.11      0.88   \n",
       "2012-01-01 00:30:00  0.213458        13.49   1008.14        3.11      0.88   \n",
       "2012-01-01 01:00:00  0.236750        12.73   1007.88        3.08      0.93   \n",
       "2012-01-01 01:30:00  0.207667        12.73   1007.88        3.08      0.93   \n",
       "2012-01-01 02:00:00  0.193708        13.65   1007.09        3.71      0.91   \n",
       "\n",
       "                     weekend  \n",
       "hour                          \n",
       "2012-01-01 00:00:00        1  \n",
       "2012-01-01 00:30:00        1  \n",
       "2012-01-01 01:00:00        1  \n",
       "2012-01-01 01:30:00        1  \n",
       "2012-01-01 02:00:00        1  "
      ]
     },
     "execution_count": 5,
     "metadata": {},
     "output_type": "execute_result"
    }
   ],
   "source": [
    "dataset.head()"
   ]
  },
  {
   "cell_type": "markdown",
   "metadata": {},
   "source": [
    "Data Perparation"
   ]
  },
  {
   "cell_type": "code",
   "execution_count": 6,
   "metadata": {},
   "outputs": [
    {
     "name": "stdout",
     "output_type": "stream",
     "text": [
      "   var1(t-1)  var2(t-1)  var3(t-1)  var4(t-1)  var5(t-1)  var6(t-1)   var1(t)\n",
      "1   0.248835   0.502892   0.479432   0.218195   0.844156        1.0  0.214214\n",
      "2   0.214214   0.502892   0.479432   0.218195   0.844156        1.0  0.252998\n",
      "3   0.252998   0.482913   0.475585   0.216063   0.909091        1.0  0.204570\n",
      "4   0.204570   0.482913   0.475585   0.216063   0.909091        1.0  0.181328\n",
      "5   0.181328   0.507098   0.463896   0.260839   0.883117        1.0  0.141156\n"
     ]
    }
   ],
   "source": [
    "# convert series to supervised learning\n",
    "def series_to_supervised(data, n_in=1, n_out=1, dropnan=True):\n",
    "    n_vars = 1 if type(data) is list else data.shape[1]\n",
    "    df = DataFrame(data)\n",
    "    cols, names = list(), list()\n",
    "    # input sequence (t-n, ... t-1)\n",
    "    for i in range(n_in, 0, -1):\n",
    "        cols.append(df.shift(i))\n",
    "        names += [('var%d(t-%d)' % (j+1, i)) for j in range(n_vars)]\n",
    "    # forecast sequence (t, t+1, ... t+n)\n",
    "    for i in range(0, n_out):\n",
    "        cols.append(df.shift(-i))\n",
    "        if i == 0:\n",
    "            names += [('var%d(t)' % (j+1)) for j in range(n_vars)]\n",
    "        else:\n",
    "            names += [('var%d(t+%d)' % (j+1, i)) for j in range(n_vars)]\n",
    "    # put it all together\n",
    "    agg = concat(cols, axis=1)\n",
    "    agg.columns = names\n",
    "    # drop rows with NaN values\n",
    "    if dropnan:\n",
    "        agg.dropna(inplace=True)\n",
    "    return agg\n",
    " \n",
    "values = dataset.values\n",
    "# integer encode direction\n",
    "encoder = LabelEncoder()\n",
    "values[:,4] = encoder.fit_transform(values[:,4])\n",
    "# ensure all data is float\n",
    "values = values.astype('float32')\n",
    "# normalize features\n",
    "scaler = MinMaxScaler(feature_range=(0, 1))\n",
    "scaled = scaler.fit_transform(values)\n",
    "# frame as supervised learning\n",
    "reframed = series_to_supervised(scaled, 1, 1)\n",
    "# drop columns we don't want to predict\n",
    "reframed.drop(reframed.columns[[7,8,9,10,11]], axis=1, inplace=True)\n",
    "print(reframed.head())"
   ]
  },
  {
   "cell_type": "markdown",
   "metadata": {},
   "source": [
    "Define and Fit Model"
   ]
  },
  {
   "cell_type": "code",
   "execution_count": 7,
   "metadata": {},
   "outputs": [
    {
     "name": "stdout",
     "output_type": "stream",
     "text": [
      "(32112, 1, 6) (32112,) (2927, 1, 6) (2927,)\n"
     ]
    }
   ],
   "source": [
    "# split into train and test sets\n",
    "values = reframed.values\n",
    "n_train_hours = 32112\n",
    "train = values[:n_train_hours, :]\n",
    "test = values[n_train_hours:, :]\n",
    "# split into input and outputs\n",
    "train_X, train_y = train[:, :-1], train[:, -1]\n",
    "test_X, test_y = test[:, :-1], test[:, -1]\n",
    "# reshape input to be 3D [samples, timesteps, features]\n",
    "train_X = train_X.reshape((train_X.shape[0], 1, train_X.shape[1]))\n",
    "test_X = test_X.reshape((test_X.shape[0], 1, test_X.shape[1]))\n",
    "print(train_X.shape, train_y.shape, test_X.shape, test_y.shape)"
   ]
  },
  {
   "cell_type": "code",
   "execution_count": 8,
   "metadata": {},
   "outputs": [
    {
     "name": "stdout",
     "output_type": "stream",
     "text": [
      "Train on 32112 samples, validate on 2927 samples\n",
      "Epoch 1/50\n",
      " - 3s - loss: 0.0507 - val_loss: 0.0272\n",
      "Epoch 2/50\n",
      " - 2s - loss: 0.0264 - val_loss: 0.0267\n",
      "Epoch 3/50\n",
      " - 1s - loss: 0.0263 - val_loss: 0.0267\n",
      "Epoch 4/50\n",
      " - 1s - loss: 0.0262 - val_loss: 0.0267\n",
      "Epoch 5/50\n",
      " - 1s - loss: 0.0261 - val_loss: 0.0267\n",
      "Epoch 6/50\n",
      " - 1s - loss: 0.0260 - val_loss: 0.0269\n",
      "Epoch 7/50\n",
      " - 1s - loss: 0.0260 - val_loss: 0.0269\n",
      "Epoch 8/50\n",
      " - 1s - loss: 0.0260 - val_loss: 0.0270\n",
      "Epoch 9/50\n",
      " - 1s - loss: 0.0259 - val_loss: 0.0270\n",
      "Epoch 10/50\n",
      " - 1s - loss: 0.0258 - val_loss: 0.0271\n",
      "Epoch 11/50\n",
      " - 1s - loss: 0.0258 - val_loss: 0.0271\n",
      "Epoch 12/50\n",
      " - 1s - loss: 0.0258 - val_loss: 0.0272\n",
      "Epoch 13/50\n",
      " - 1s - loss: 0.0258 - val_loss: 0.0273\n",
      "Epoch 14/50\n",
      " - 1s - loss: 0.0258 - val_loss: 0.0274\n",
      "Epoch 15/50\n",
      " - 1s - loss: 0.0258 - val_loss: 0.0276\n",
      "Epoch 16/50\n",
      " - 1s - loss: 0.0258 - val_loss: 0.0275\n",
      "Epoch 17/50\n",
      " - 1s - loss: 0.0258 - val_loss: 0.0276\n",
      "Epoch 18/50\n",
      " - 1s - loss: 0.0258 - val_loss: 0.0278\n",
      "Epoch 19/50\n",
      " - 1s - loss: 0.0258 - val_loss: 0.0278\n",
      "Epoch 20/50\n",
      " - 1s - loss: 0.0258 - val_loss: 0.0279\n",
      "Epoch 21/50\n",
      " - 1s - loss: 0.0258 - val_loss: 0.0281\n",
      "Epoch 22/50\n",
      " - 1s - loss: 0.0258 - val_loss: 0.0282\n",
      "Epoch 23/50\n",
      " - 1s - loss: 0.0258 - val_loss: 0.0280\n",
      "Epoch 24/50\n",
      " - 1s - loss: 0.0258 - val_loss: 0.0282\n",
      "Epoch 25/50\n",
      " - 1s - loss: 0.0258 - val_loss: 0.0283\n",
      "Epoch 26/50\n",
      " - 2s - loss: 0.0257 - val_loss: 0.0284\n",
      "Epoch 27/50\n",
      " - 1s - loss: 0.0257 - val_loss: 0.0285\n",
      "Epoch 28/50\n",
      " - 1s - loss: 0.0257 - val_loss: 0.0283\n",
      "Epoch 29/50\n",
      " - 1s - loss: 0.0257 - val_loss: 0.0285\n",
      "Epoch 30/50\n",
      " - 1s - loss: 0.0257 - val_loss: 0.0286\n",
      "Epoch 31/50\n",
      " - 2s - loss: 0.0257 - val_loss: 0.0285\n",
      "Epoch 32/50\n",
      " - 1s - loss: 0.0257 - val_loss: 0.0286\n",
      "Epoch 33/50\n",
      " - 1s - loss: 0.0257 - val_loss: 0.0286\n",
      "Epoch 34/50\n",
      " - 1s - loss: 0.0257 - val_loss: 0.0285\n",
      "Epoch 35/50\n",
      " - 1s - loss: 0.0257 - val_loss: 0.0287\n",
      "Epoch 36/50\n",
      " - 1s - loss: 0.0257 - val_loss: 0.0286\n",
      "Epoch 37/50\n",
      " - 1s - loss: 0.0257 - val_loss: 0.0288\n",
      "Epoch 38/50\n",
      " - 2s - loss: 0.0257 - val_loss: 0.0284\n",
      "Epoch 39/50\n",
      " - 2s - loss: 0.0257 - val_loss: 0.0288\n",
      "Epoch 40/50\n",
      " - 1s - loss: 0.0257 - val_loss: 0.0290\n",
      "Epoch 41/50\n",
      " - 1s - loss: 0.0257 - val_loss: 0.0286\n",
      "Epoch 42/50\n",
      " - 2s - loss: 0.0257 - val_loss: 0.0291\n",
      "Epoch 43/50\n",
      " - 1s - loss: 0.0257 - val_loss: 0.0285\n",
      "Epoch 44/50\n",
      " - 1s - loss: 0.0257 - val_loss: 0.0287\n",
      "Epoch 45/50\n",
      " - 2s - loss: 0.0257 - val_loss: 0.0284\n",
      "Epoch 46/50\n",
      " - 2s - loss: 0.0257 - val_loss: 0.0286\n",
      "Epoch 47/50\n",
      " - 2s - loss: 0.0257 - val_loss: 0.0286\n",
      "Epoch 48/50\n",
      " - 1s - loss: 0.0257 - val_loss: 0.0286\n",
      "Epoch 49/50\n",
      " - 1s - loss: 0.0257 - val_loss: 0.0283\n",
      "Epoch 50/50\n",
      " - 1s - loss: 0.0257 - val_loss: 0.0285\n"
     ]
    },
    {
     "data": {
      "image/png": "[encoded data removed]",
      "text/plain": [
       "<Figure size 432x288 with 1 Axes>"
      ]
     },
     "metadata": {
      "needs_background": "light"
     },
     "output_type": "display_data"
    }
   ],
   "source": [
    "# design network\n",
    "model = Sequential()\n",
    "model.add(LSTM(100, input_shape=(train_X.shape[1], train_X.shape[2])))\n",
    "model.add(Dense(1))\n",
    "model.compile(loss='mae', optimizer='adam')\n",
    "# fit network\n",
    "history = model.fit(train_X, train_y, epochs=50, batch_size=70, validation_data=(test_X, test_y), verbose=2, shuffle=False)\n",
    "# plot history\n",
    "pyplot.plot(history.history['loss'], label='train')\n",
    "pyplot.plot(history.history['val_loss'], label='test')\n",
    "pyplot.legend()\n",
    "pyplot.show()"
   ]
  },
  {
   "cell_type": "markdown",
   "metadata": {},
   "source": [
    "Evaluate Model"
   ]
  },
  {
   "cell_type": "code",
   "execution_count": 9,
   "metadata": {},
   "outputs": [
    {
     "name": "stdout",
     "output_type": "stream",
     "text": [
      "Test RMSE: 0.022\n",
      "MAE 0.017098937\n"
     ]
    }
   ],
   "source": [
    "# make a prediction\n",
    "yhat = model.predict(test_X)\n",
    "test_X = test_X.reshape((test_X.shape[0], test_X.shape[2]))\n",
    "# invert scaling for forecast\n",
    "inv_yhat = concatenate((yhat, test_X[:, 1:]), axis=1)\n",
    "inv_yhat = scaler.inverse_transform(inv_yhat)\n",
    "inv_yhat = inv_yhat[:,0]\n",
    "# invert scaling for actual\n",
    "test_y = test_y.reshape((len(test_y), 1))\n",
    "inv_y = concatenate((test_y, test_X[:, 1:]), axis=1)\n",
    "inv_y = scaler.inverse_transform(inv_y)\n",
    "inv_y = inv_y[:,0]\n",
    "# calculate RMSE\n",
    "rmse = sqrt(mean_squared_error(inv_y, inv_yhat))\n",
    "print('Test RMSE: %.3f' % rmse)\n",
    "print('MAE', metrics.mean_absolute_error(inv_y, inv_yhat))"
   ]
  },
  {
   "cell_type": "code",
   "execution_count": 10,
   "metadata": {},
   "outputs": [
    {
     "data": {
      "text/plain": [
       "' https://machinelearningmastery.com/multivariate-time-series-forecasting-lstms-keras/ '"
      ]
     },
     "execution_count": 10,
     "metadata": {},
     "output_type": "execute_result"
    }
   ],
   "source": [
    "''' https://machinelearningmastery.com/multivariate-time-series-forecasting-lstms-keras/ '''"
   ]
  },
  {
   "cell_type": "code",
   "execution_count": null,
   "metadata": {},
   "outputs": [],
   "source": []
  },
  {
   "cell_type": "code",
   "execution_count": null,
   "metadata": {},
   "outputs": [],
   "source": []
  }
 ],
 "metadata": {
  "kernelspec": {
   "display_name": "Python 3",
   "language": "python",
   "name": "python3"
  },
  "language_info": {
   "codemirror_mode": {
    "name": "ipython",
    "version": 3
   },
   "file_extension": ".py",
   "mimetype": "text/x-python",
   "name": "python",
   "nbconvert_exporter": "python",
   "pygments_lexer": "ipython3",
   "version": "3.7.3"
  },
  "toc": {
   "base_numbering": 1,
   "nav_menu": {},
   "number_sections": true,
   "sideBar": true,
   "skip_h1_title": false,
   "title_cell": "Table of Contents",
   "title_sidebar": "Contents",
   "toc_cell": false,
   "toc_position": {},
   "toc_section_display": true,
   "toc_window_display": false
  }
 },
 "nbformat": 4,
 "nbformat_minor": 2
}
