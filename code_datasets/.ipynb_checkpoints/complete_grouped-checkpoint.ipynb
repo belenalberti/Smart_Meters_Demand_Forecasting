{
 "cells": [
  {
   "cell_type": "code",
   "execution_count": 2,
   "metadata": {},
   "outputs": [],
   "source": [
    "import pandas as pd\n",
    "from pandas import read_csv\n",
    "import numpy as np\n",
    "from datetime import datetime"
   ]
  },
  {
   "cell_type": "code",
   "execution_count": 4,
   "metadata": {},
   "outputs": [],
   "source": [
    "# Tariffs ToU\n",
    "#Disclaimer: the original table conatined information for 2013 only; the experiment was run only throughout this year.\n",
    "#we took the liberty to expand the table for 2012 and apply a fixed rate tariff for all timestamps\n",
    "folder = \"/Users/mariabelenalberti/OneDrive - Universidad Torcuato Di Tella/Tesis/smart-meters-in-london/\"\n",
    "filename = \"tariffs_tou.csv\"\n",
    "tariffs_tou = pd.read_csv(folder + filename)"
   ]
  },
  {
   "cell_type": "code",
   "execution_count": 5,
   "metadata": {},
   "outputs": [],
   "source": [
    "# Tariffs Std\n",
    "folder = \"/Users/mariabelenalberti/OneDrive - Universidad Torcuato Di Tella/Tesis/smart-meters-in-london/\"\n",
    "filename = \"tariffs_std.csv\"\n",
    "tariffs_std = pd.read_csv(folder + filename)"
   ]
  },
  {
   "cell_type": "code",
   "execution_count": 6,
   "metadata": {},
   "outputs": [],
   "source": [
    "#weather\n",
    "folder = \"/Users/mariabelenalberti/OneDrive - Universidad Torcuato Di Tella/Tesis/smart-meters-in-london/\"\n",
    "filename = \"weather_half_hourly.csv\"\n",
    "weather = pd.read_csv(folder + filename)"
   ]
  },
  {
   "cell_type": "code",
   "execution_count": 9,
   "metadata": {},
   "outputs": [],
   "source": [
    "# acornu\n",
    "folder = \"/Users/mariabelenalberti/OneDrive - Universidad Torcuato Di Tella/Tesis/datasets/viejos/\"\n",
    "filename = \"acornu_std_grouped.csv\"\n",
    "acornu_std = pd.read_csv(folder + filename)\n",
    "\n",
    "folder = \"/Users/mariabelenalberti/OneDrive - Universidad Torcuato Di Tella/Tesis/datasets/viejos/\"\n",
    "filename = \"acornu_tou_grouped.csv\"\n",
    "acornu_tou = pd.read_csv(folder + filename)"
   ]
  },
  {
   "cell_type": "code",
   "execution_count": 11,
   "metadata": {},
   "outputs": [],
   "source": [
    "#adveristy\n",
    "folder = \"/Users/mariabelenalberti/OneDrive - Universidad Torcuato Di Tella/Tesis/datasets/viejos/\"\n",
    "filename = \"adversity_std_grouped.csv\"\n",
    "adversity_std = pd.read_csv(folder + filename)\n",
    "\n",
    "folder = \"/Users/mariabelenalberti/OneDrive - Universidad Torcuato Di Tella/Tesis/datasets/viejos/\"\n",
    "filename = \"adversity_tou_grouped.csv\"\n",
    "adversity_tou = pd.read_csv(folder + filename)"
   ]
  },
  {
   "cell_type": "code",
   "execution_count": 12,
   "metadata": {},
   "outputs": [],
   "source": [
    "#affluent\n",
    "folder = \"/Users/mariabelenalberti/OneDrive - Universidad Torcuato Di Tella/Tesis/datasets/viejos/\"\n",
    "filename = \"affluent_std_grouped.csv\"\n",
    "affluent_std = pd.read_csv(folder + filename)\n",
    "\n",
    "folder = \"/Users/mariabelenalberti/OneDrive - Universidad Torcuato Di Tella/Tesis/datasets/viejos/\"\n",
    "filename = \"affluent_tou_grouped.csv\"\n",
    "affluent_tou = pd.read_csv(folder + filename)"
   ]
  },
  {
   "cell_type": "code",
   "execution_count": 13,
   "metadata": {},
   "outputs": [],
   "source": [
    "#comfortable\n",
    "folder = \"/Users/mariabelenalberti/OneDrive - Universidad Torcuato Di Tella/Tesis/datasets/viejos/\"\n",
    "filename = \"comfortable_std_grouped.csv\"\n",
    "comfortable_std = pd.read_csv(folder + filename)\n",
    "\n",
    "folder = \"/Users/mariabelenalberti/OneDrive - Universidad Torcuato Di Tella/Tesis/datasets/viejos/\"\n",
    "filename = \"comfortable_tou_grouped.csv\"\n",
    "comfortable_tou = pd.read_csv(folder + filename)"
   ]
  },
  {
   "cell_type": "code",
   "execution_count": 14,
   "metadata": {},
   "outputs": [],
   "source": [
    "del acornu_std['Unnamed: 0']\n",
    "del acornu_tou['Unnamed: 0']\n",
    "del adversity_std['Unnamed: 0']\n",
    "del adversity_tou['Unnamed: 0']\n",
    "del affluent_std['Unnamed: 0']\n",
    "del affluent_tou['Unnamed: 0']\n",
    "del comfortable_std['Unnamed: 0']\n",
    "del comfortable_tou['Unnamed: 0']"
   ]
  },
  {
   "cell_type": "code",
   "execution_count": 15,
   "metadata": {},
   "outputs": [],
   "source": [
    "acornu_std['timestamp'] = pd.to_datetime(acornu_std['timestamp'],format = '%Y-%m-%d')\n",
    "acornu_tou['timestamp'] = pd.to_datetime(acornu_tou['timestamp'],format = '%Y-%m-%d')\n",
    "adversity_std['timestamp'] = pd.to_datetime(adversity_std['timestamp'],format = '%Y-%m-%d')\n",
    "adversity_tou['timestamp'] = pd.to_datetime(adversity_tou['timestamp'],format = '%Y-%m-%d')\n",
    "affluent_std['timestamp'] = pd.to_datetime(affluent_std['timestamp'],format = '%Y-%m-%d')\n",
    "affluent_tou['timestamp'] = pd.to_datetime(affluent_tou['timestamp'],format = '%Y-%m-%d')\n",
    "comfortable_std['timestamp'] = pd.to_datetime(comfortable_std['timestamp'],format = '%Y-%m-%d')\n",
    "comfortable_tou['timestamp'] = pd.to_datetime(comfortable_tou['timestamp'],format = '%Y-%m-%d')"
   ]
  },
  {
   "cell_type": "code",
   "execution_count": 16,
   "metadata": {},
   "outputs": [
    {
     "data": {
      "text/html": [
       "<div>\n",
       "<style scoped>\n",
       "    .dataframe tbody tr th:only-of-type {\n",
       "        vertical-align: middle;\n",
       "    }\n",
       "\n",
       "    .dataframe tbody tr th {\n",
       "        vertical-align: top;\n",
       "    }\n",
       "\n",
       "    .dataframe thead th {\n",
       "        text-align: right;\n",
       "    }\n",
       "</style>\n",
       "<table border=\"1\" class=\"dataframe\">\n",
       "  <thead>\n",
       "    <tr style=\"text-align: right;\">\n",
       "      <th></th>\n",
       "      <th>timestamp</th>\n",
       "      <th>temperature</th>\n",
       "      <th>apparent_temperature</th>\n",
       "      <th>pressure</th>\n",
       "      <th>wind_speed</th>\n",
       "      <th>humidity</th>\n",
       "    </tr>\n",
       "  </thead>\n",
       "  <tbody>\n",
       "    <tr>\n",
       "      <th>35079</th>\n",
       "      <td>31/12/2013 21:30</td>\n",
       "      <td>12.51</td>\n",
       "      <td>12.51</td>\n",
       "      <td>1015.14</td>\n",
       "      <td>4.44</td>\n",
       "      <td>0.86</td>\n",
       "    </tr>\n",
       "    <tr>\n",
       "      <th>35080</th>\n",
       "      <td>31/12/2013 22:00</td>\n",
       "      <td>12.54</td>\n",
       "      <td>12.54</td>\n",
       "      <td>1014.90</td>\n",
       "      <td>4.80</td>\n",
       "      <td>0.87</td>\n",
       "    </tr>\n",
       "    <tr>\n",
       "      <th>35081</th>\n",
       "      <td>31/12/2013 22:30</td>\n",
       "      <td>12.54</td>\n",
       "      <td>12.54</td>\n",
       "      <td>1014.90</td>\n",
       "      <td>4.80</td>\n",
       "      <td>0.87</td>\n",
       "    </tr>\n",
       "    <tr>\n",
       "      <th>35082</th>\n",
       "      <td>31/12/2013 23:00</td>\n",
       "      <td>12.63</td>\n",
       "      <td>12.63</td>\n",
       "      <td>1014.77</td>\n",
       "      <td>4.84</td>\n",
       "      <td>0.87</td>\n",
       "    </tr>\n",
       "    <tr>\n",
       "      <th>35083</th>\n",
       "      <td>31/12/2013 23:30</td>\n",
       "      <td>12.63</td>\n",
       "      <td>12.63</td>\n",
       "      <td>1014.77</td>\n",
       "      <td>4.84</td>\n",
       "      <td>0.87</td>\n",
       "    </tr>\n",
       "  </tbody>\n",
       "</table>\n",
       "</div>"
      ],
      "text/plain": [
       "              timestamp  temperature  apparent_temperature  pressure  \\\n",
       "35079  31/12/2013 21:30        12.51                 12.51   1015.14   \n",
       "35080  31/12/2013 22:00        12.54                 12.54   1014.90   \n",
       "35081  31/12/2013 22:30        12.54                 12.54   1014.90   \n",
       "35082  31/12/2013 23:00        12.63                 12.63   1014.77   \n",
       "35083  31/12/2013 23:30        12.63                 12.63   1014.77   \n",
       "\n",
       "       wind_speed  humidity  \n",
       "35079        4.44      0.86  \n",
       "35080        4.80      0.87  \n",
       "35081        4.80      0.87  \n",
       "35082        4.84      0.87  \n",
       "35083        4.84      0.87  "
      ]
     },
     "execution_count": 16,
     "metadata": {},
     "output_type": "execute_result"
    }
   ],
   "source": [
    "#weather\n",
    "weather.tail()"
   ]
  },
  {
   "cell_type": "code",
   "execution_count": 17,
   "metadata": {},
   "outputs": [],
   "source": [
    "weather['timestamp'] = pd.to_datetime(weather['timestamp'],format = '%d/%m/%Y %H:%M')"
   ]
  },
  {
   "cell_type": "code",
   "execution_count": 18,
   "metadata": {},
   "outputs": [],
   "source": [
    "acornu_std = pd.merge(acornu_std,weather,on='timestamp')\n",
    "acornu_tou = pd.merge(acornu_tou,weather,on='timestamp')\n",
    "adversity_std = pd.merge(adversity_std,weather,on='timestamp')\n",
    "adversity_tou = pd.merge(adversity_tou,weather,on='timestamp')\n",
    "affluent_std = pd.merge(affluent_std,weather,on='timestamp')\n",
    "affluent_tou = pd.merge(affluent_tou,weather,on='timestamp')\n",
    "comfortable_std = pd.merge(comfortable_std,weather,on='timestamp')\n",
    "comfortable_tou = pd.merge(comfortable_tou,weather,on='timestamp')"
   ]
  },
  {
   "cell_type": "code",
   "execution_count": 19,
   "metadata": {},
   "outputs": [],
   "source": [
    "acornu_std['weeknumber'] = acornu_std['timestamp'].dt.day_name()\n",
    "acornu_tou['weeknumber'] = acornu_tou['timestamp'].dt.day_name()\n",
    "adversity_std['weeknumber'] = adversity_std['timestamp'].dt.day_name()\n",
    "adversity_tou['weeknumber'] = adversity_tou['timestamp'].dt.day_name()\n",
    "affluent_std['weeknumber'] = affluent_std['timestamp'].dt.day_name()\n",
    "affluent_tou['weeknumber'] = affluent_tou['timestamp'].dt.day_name()\n",
    "comfortable_std['weeknumber'] = comfortable_std['timestamp'].dt.day_name()\n",
    "comfortable_tou['weeknumber'] = comfortable_tou['timestamp'].dt.day_name()"
   ]
  },
  {
   "cell_type": "code",
   "execution_count": 20,
   "metadata": {},
   "outputs": [],
   "source": [
    "week_name_1 = acornu_std[\"weeknumber\"].tolist()\n",
    "week_name_2 = acornu_tou[\"weeknumber\"].tolist()\n",
    "week_name_3 = adversity_std[\"weeknumber\"].tolist()\n",
    "week_name_4 = adversity_tou[\"weeknumber\"].tolist()\n",
    "week_name_5 = affluent_std[\"weeknumber\"].tolist()\n",
    "week_name_6 = affluent_tou[\"weeknumber\"].tolist()\n",
    "week_name_7 = comfortable_std[\"weeknumber\"].tolist()\n",
    "week_name_8 = comfortable_tou[\"weeknumber\"].tolist()"
   ]
  },
  {
   "cell_type": "code",
   "execution_count": 21,
   "metadata": {},
   "outputs": [],
   "source": [
    "week_number_1 = []\n",
    "week_number_2 = []\n",
    "week_number_3 = []\n",
    "week_number_4 = []\n",
    "week_number_5 = []\n",
    "week_number_6 = []\n",
    "week_number_7 = []\n",
    "week_number_8 = []"
   ]
  },
  {
   "cell_type": "code",
   "execution_count": 22,
   "metadata": {},
   "outputs": [],
   "source": [
    "for row in week_name_1:\n",
    "    if row == \"Saturday\" or row == \"Sunday\":\n",
    "        week_number_1.append(1)\n",
    "    else:\n",
    "        week_number_1.append(0)"
   ]
  },
  {
   "cell_type": "code",
   "execution_count": 23,
   "metadata": {},
   "outputs": [],
   "source": [
    "for row in week_name_2:\n",
    "    if row == \"Saturday\" or row == \"Sunday\":\n",
    "        week_number_2.append(1)\n",
    "    else:\n",
    "        week_number_2.append(0)"
   ]
  },
  {
   "cell_type": "code",
   "execution_count": 24,
   "metadata": {},
   "outputs": [],
   "source": [
    "for row in week_name_3:\n",
    "    if row == \"Saturday\" or row == \"Sunday\":\n",
    "        week_number_3.append(1)\n",
    "    else:\n",
    "        week_number_3.append(0)"
   ]
  },
  {
   "cell_type": "code",
   "execution_count": 25,
   "metadata": {},
   "outputs": [],
   "source": [
    "for row in week_name_4:\n",
    "    if row == \"Saturday\" or row == \"Sunday\":\n",
    "        week_number_4.append(1)\n",
    "    else:\n",
    "        week_number_4.append(0)"
   ]
  },
  {
   "cell_type": "code",
   "execution_count": 26,
   "metadata": {},
   "outputs": [],
   "source": [
    "for row in week_name_5:\n",
    "    if row == \"Saturday\" or row == \"Sunday\":\n",
    "        week_number_5.append(1)\n",
    "    else:\n",
    "        week_number_5.append(0)"
   ]
  },
  {
   "cell_type": "code",
   "execution_count": 27,
   "metadata": {},
   "outputs": [],
   "source": [
    "for row in week_name_6:\n",
    "    if row == \"Saturday\" or row == \"Sunday\":\n",
    "        week_number_6.append(1)\n",
    "    else:\n",
    "        week_number_6.append(0)"
   ]
  },
  {
   "cell_type": "code",
   "execution_count": 28,
   "metadata": {},
   "outputs": [],
   "source": [
    "for row in week_name_7:\n",
    "    if row == \"Saturday\" or row == \"Sunday\":\n",
    "        week_number_7.append(1)\n",
    "    else:\n",
    "        week_number_7.append(0)"
   ]
  },
  {
   "cell_type": "code",
   "execution_count": 29,
   "metadata": {},
   "outputs": [],
   "source": [
    "for row in week_name_8:\n",
    "    if row == \"Saturday\" or row == \"Sunday\":\n",
    "        week_number_8.append(1)\n",
    "    else:\n",
    "        week_number_8.append(0)"
   ]
  },
  {
   "cell_type": "code",
   "execution_count": 30,
   "metadata": {},
   "outputs": [],
   "source": [
    "acornu_std['weekend'] = np.array(week_number_1)\n",
    "acornu_tou['weekend'] = np.array(week_number_2)\n",
    "adversity_std['weekend'] = np.array(week_number_3)\n",
    "adversity_tou['weekend'] = np.array(week_number_4)\n",
    "affluent_std['weekend'] = np.array(week_number_5)\n",
    "affluent_tou['weekend'] = np.array(week_number_6)\n",
    "comfortable_std['weekend'] = np.array(week_number_7)\n",
    "comfortable_tou['weekend'] = np.array(week_number_8)"
   ]
  },
  {
   "cell_type": "code",
   "execution_count": 31,
   "metadata": {},
   "outputs": [],
   "source": [
    "del acornu_std['weeknumber']\n",
    "del acornu_tou['weeknumber']\n",
    "del adversity_std['weeknumber']\n",
    "del adversity_tou['weeknumber']\n",
    "del affluent_std['weeknumber']\n",
    "del affluent_tou['weeknumber']\n",
    "del comfortable_std['weeknumber']\n",
    "del comfortable_tou['weeknumber']"
   ]
  },
  {
   "cell_type": "code",
   "execution_count": 32,
   "metadata": {},
   "outputs": [],
   "source": [
    "#Tariffs\n",
    "tariffs_tou['timestamp'] = pd.to_datetime(tariffs_tou['timestamp'],format = '%d/%m/%Y %H:%M')\n",
    "tariffs_std['timestamp'] = pd.to_datetime(tariffs_std['timestamp'],format = '%d/%m/%Y %H:%M')"
   ]
  },
  {
   "cell_type": "code",
   "execution_count": 35,
   "metadata": {},
   "outputs": [
    {
     "data": {
      "text/html": [
       "<div>\n",
       "<style scoped>\n",
       "    .dataframe tbody tr th:only-of-type {\n",
       "        vertical-align: middle;\n",
       "    }\n",
       "\n",
       "    .dataframe tbody tr th {\n",
       "        vertical-align: top;\n",
       "    }\n",
       "\n",
       "    .dataframe thead th {\n",
       "        text-align: right;\n",
       "    }\n",
       "</style>\n",
       "<table border=\"1\" class=\"dataframe\">\n",
       "  <thead>\n",
       "    <tr style=\"text-align: right;\">\n",
       "      <th></th>\n",
       "      <th>timestamp</th>\n",
       "      <th>Type Tariff</th>\n",
       "      <th>Tariff</th>\n",
       "    </tr>\n",
       "  </thead>\n",
       "  <tbody>\n",
       "    <tr>\n",
       "      <th>70075</th>\n",
       "      <td>2013-12-31 21:30:00</td>\n",
       "      <td>Flat</td>\n",
       "      <td>14.23</td>\n",
       "    </tr>\n",
       "    <tr>\n",
       "      <th>70076</th>\n",
       "      <td>2013-12-31 22:00:00</td>\n",
       "      <td>Flat</td>\n",
       "      <td>14.23</td>\n",
       "    </tr>\n",
       "    <tr>\n",
       "      <th>70077</th>\n",
       "      <td>2013-12-31 22:30:00</td>\n",
       "      <td>Flat</td>\n",
       "      <td>14.23</td>\n",
       "    </tr>\n",
       "    <tr>\n",
       "      <th>70078</th>\n",
       "      <td>2013-12-31 23:00:00</td>\n",
       "      <td>Flat</td>\n",
       "      <td>14.23</td>\n",
       "    </tr>\n",
       "    <tr>\n",
       "      <th>70079</th>\n",
       "      <td>2013-12-31 23:30:00</td>\n",
       "      <td>Flat</td>\n",
       "      <td>14.23</td>\n",
       "    </tr>\n",
       "  </tbody>\n",
       "</table>\n",
       "</div>"
      ],
      "text/plain": [
       "                timestamp Type Tariff  Tariff\n",
       "70075 2013-12-31 21:30:00        Flat   14.23\n",
       "70076 2013-12-31 22:00:00        Flat   14.23\n",
       "70077 2013-12-31 22:30:00        Flat   14.23\n",
       "70078 2013-12-31 23:00:00        Flat   14.23\n",
       "70079 2013-12-31 23:30:00        Flat   14.23"
      ]
     },
     "execution_count": 35,
     "metadata": {},
     "output_type": "execute_result"
    }
   ],
   "source": [
    "tariffs_std.tail()"
   ]
  },
  {
   "cell_type": "code",
   "execution_count": 36,
   "metadata": {},
   "outputs": [],
   "source": [
    "acornu_std = pd.merge(acornu_std,tariffs_std,on='timestamp')\n",
    "\n",
    "acornu_tou = pd.merge(acornu_tou,tariffs_tou,on='timestamp')\n",
    "\n",
    "adversity_std = pd.merge(adversity_std,tariffs_std,on='timestamp')\n",
    "\n",
    "adversity_tou = pd.merge(adversity_tou,tariffs_tou,on='timestamp')\n",
    "\n",
    "affluent_std = pd.merge(affluent_std,tariffs_std,on='timestamp')\n",
    "\n",
    "affluent_tou = pd.merge(affluent_tou,tariffs_tou,on='timestamp')\n",
    "\n",
    "comfortable_std = pd.merge(comfortable_std,tariffs_std,on='timestamp')\n",
    "\n",
    "comfortable_tou = pd.merge(comfortable_tou,tariffs_tou,on='timestamp')"
   ]
  },
  {
   "cell_type": "code",
   "execution_count": 37,
   "metadata": {},
   "outputs": [],
   "source": [
    "acornu_std.to_csv('acornu_std.csv')\n",
    "acornu_tou.to_csv('acornu_tou.csv')\n",
    "adversity_std.to_csv('adversity_std.csv')\n",
    "adversity_tou.to_csv('adversity_tou.csv')\n",
    "affluent_std.to_csv('affluent_std.csv')\n",
    "affluent_tou.to_csv('affluent_tou.csv')\n",
    "comfortable_std.to_csv('comfortable_std.csv')\n",
    "comfortable_tou.to_csv('comfortable_tou.csv')"
   ]
  }
 ],
 "metadata": {
  "kernelspec": {
   "display_name": "Python 3",
   "language": "python",
   "name": "python3"
  },
  "language_info": {
   "codemirror_mode": {
    "name": "ipython",
    "version": 3
   },
   "file_extension": ".py",
   "mimetype": "text/x-python",
   "name": "python",
   "nbconvert_exporter": "python",
   "pygments_lexer": "ipython3",
   "version": "3.7.3"
  },
  "toc": {
   "base_numbering": 1,
   "nav_menu": {},
   "number_sections": true,
   "sideBar": true,
   "skip_h1_title": false,
   "title_cell": "Table of Contents",
   "title_sidebar": "Contents",
   "toc_cell": false,
   "toc_position": {},
   "toc_section_display": true,
   "toc_window_display": false
  }
 },
 "nbformat": 4,
 "nbformat_minor": 2
}
