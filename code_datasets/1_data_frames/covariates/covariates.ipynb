{
 "cells": [
  {
   "cell_type": "code",
   "execution_count": 1,
   "metadata": {},
   "outputs": [],
   "source": [
    "import pandas as pd\n",
    "from pandas import read_csv\n",
    "import glob\n",
    "import numpy as np"
   ]
  },
  {
   "cell_type": "code",
   "execution_count": 5,
   "metadata": {},
   "outputs": [],
   "source": [
    "folder = \"/Users/mariabelenalberti/OneDrive - Universidad Torcuato Di Tella/Tesis/smart-meters-in-london/\"\n",
    "file = \"weather_hh.csv\"\n",
    "covariates = pd.read_csv(folder+file,index_col = ['timestamp'])"
   ]
  },
  {
   "cell_type": "code",
   "execution_count": 6,
   "metadata": {},
   "outputs": [
    {
     "data": {
      "text/html": [
       "<div>\n",
       "<style scoped>\n",
       "    .dataframe tbody tr th:only-of-type {\n",
       "        vertical-align: middle;\n",
       "    }\n",
       "\n",
       "    .dataframe tbody tr th {\n",
       "        vertical-align: top;\n",
       "    }\n",
       "\n",
       "    .dataframe thead th {\n",
       "        text-align: right;\n",
       "    }\n",
       "</style>\n",
       "<table border=\"1\" class=\"dataframe\">\n",
       "  <thead>\n",
       "    <tr style=\"text-align: right;\">\n",
       "      <th></th>\n",
       "      <th>visibility</th>\n",
       "      <th>windBearing</th>\n",
       "      <th>temperature</th>\n",
       "      <th>dewPoint</th>\n",
       "      <th>pressure</th>\n",
       "      <th>apparentTemperature</th>\n",
       "      <th>windSpeed</th>\n",
       "      <th>humidity</th>\n",
       "    </tr>\n",
       "    <tr>\n",
       "      <th>timestamp</th>\n",
       "      <th></th>\n",
       "      <th></th>\n",
       "      <th></th>\n",
       "      <th></th>\n",
       "      <th></th>\n",
       "      <th></th>\n",
       "      <th></th>\n",
       "      <th></th>\n",
       "    </tr>\n",
       "  </thead>\n",
       "  <tbody>\n",
       "    <tr>\n",
       "      <th>01/01/2012 00:00</th>\n",
       "      <td>12.99</td>\n",
       "      <td>229</td>\n",
       "      <td>12.12</td>\n",
       "      <td>10.97</td>\n",
       "      <td>1008.10</td>\n",
       "      <td>12.12</td>\n",
       "      <td>5.90</td>\n",
       "      <td>0.93</td>\n",
       "    </tr>\n",
       "    <tr>\n",
       "      <th>01/01/2012 00:30</th>\n",
       "      <td>12.99</td>\n",
       "      <td>229</td>\n",
       "      <td>12.12</td>\n",
       "      <td>10.97</td>\n",
       "      <td>1008.10</td>\n",
       "      <td>12.12</td>\n",
       "      <td>5.90</td>\n",
       "      <td>0.93</td>\n",
       "    </tr>\n",
       "    <tr>\n",
       "      <th>01/01/2012 01:00</th>\n",
       "      <td>12.89</td>\n",
       "      <td>238</td>\n",
       "      <td>12.59</td>\n",
       "      <td>11.02</td>\n",
       "      <td>1007.88</td>\n",
       "      <td>12.59</td>\n",
       "      <td>6.06</td>\n",
       "      <td>0.90</td>\n",
       "    </tr>\n",
       "    <tr>\n",
       "      <th>01/01/2012 01:30</th>\n",
       "      <td>12.89</td>\n",
       "      <td>238</td>\n",
       "      <td>12.59</td>\n",
       "      <td>11.02</td>\n",
       "      <td>1007.88</td>\n",
       "      <td>12.59</td>\n",
       "      <td>6.06</td>\n",
       "      <td>0.90</td>\n",
       "    </tr>\n",
       "    <tr>\n",
       "      <th>01/01/2012 02:00</th>\n",
       "      <td>11.54</td>\n",
       "      <td>229</td>\n",
       "      <td>12.45</td>\n",
       "      <td>11.04</td>\n",
       "      <td>1007.95</td>\n",
       "      <td>12.45</td>\n",
       "      <td>5.31</td>\n",
       "      <td>0.91</td>\n",
       "    </tr>\n",
       "  </tbody>\n",
       "</table>\n",
       "</div>"
      ],
      "text/plain": [
       "                  visibility  windBearing  temperature  dewPoint  pressure  \\\n",
       "timestamp                                                                    \n",
       "01/01/2012 00:00       12.99          229        12.12     10.97   1008.10   \n",
       "01/01/2012 00:30       12.99          229        12.12     10.97   1008.10   \n",
       "01/01/2012 01:00       12.89          238        12.59     11.02   1007.88   \n",
       "01/01/2012 01:30       12.89          238        12.59     11.02   1007.88   \n",
       "01/01/2012 02:00       11.54          229        12.45     11.04   1007.95   \n",
       "\n",
       "                  apparentTemperature  windSpeed  humidity  \n",
       "timestamp                                                   \n",
       "01/01/2012 00:00                12.12       5.90      0.93  \n",
       "01/01/2012 00:30                12.12       5.90      0.93  \n",
       "01/01/2012 01:00                12.59       6.06      0.90  \n",
       "01/01/2012 01:30                12.59       6.06      0.90  \n",
       "01/01/2012 02:00                12.45       5.31      0.91  "
      ]
     },
     "execution_count": 6,
     "metadata": {},
     "output_type": "execute_result"
    }
   ],
   "source": [
    "covariates.head()"
   ]
  },
  {
   "cell_type": "code",
   "execution_count": 7,
   "metadata": {},
   "outputs": [],
   "source": [
    "covariates.to_csv('covariates.csv')"
   ]
  },
  {
   "cell_type": "code",
   "execution_count": null,
   "metadata": {},
   "outputs": [],
   "source": []
  }
 ],
 "metadata": {
  "kernelspec": {
   "display_name": "Python 3",
   "language": "python",
   "name": "python3"
  },
  "language_info": {
   "codemirror_mode": {
    "name": "ipython",
    "version": 3
   },
   "file_extension": ".py",
   "mimetype": "text/x-python",
   "name": "python",
   "nbconvert_exporter": "python",
   "pygments_lexer": "ipython3",
   "version": "3.7.3"
  },
  "toc": {
   "base_numbering": 1,
   "nav_menu": {},
   "number_sections": true,
   "sideBar": true,
   "skip_h1_title": false,
   "title_cell": "Table of Contents",
   "title_sidebar": "Contents",
   "toc_cell": false,
   "toc_position": {},
   "toc_section_display": true,
   "toc_window_display": false
  }
 },
 "nbformat": 4,
 "nbformat_minor": 2
}
