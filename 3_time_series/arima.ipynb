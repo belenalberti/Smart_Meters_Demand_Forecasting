{
 "cells": [
  {
   "cell_type": "code",
   "execution_count": 1,
   "metadata": {},
   "outputs": [],
   "source": [
    "import pandas as pd\n",
    "from pandas import read_csv\n",
    "from pandas import datetime\n",
    "from matplotlib import pyplot as plt"
   ]
  },
  {
   "cell_type": "code",
   "execution_count": 2,
   "metadata": {},
   "outputs": [],
   "source": [
    "from statsmodels.graphics.tsaplots import plot_acf \n",
    "from statsmodels.graphics.tsaplots import plot_pacf"
   ]
  },
  {
   "cell_type": "code",
   "execution_count": 3,
   "metadata": {},
   "outputs": [],
   "source": [
    "from statsmodels.tsa.arima_model import ARIMA\n",
    "import statsmodels.api as sm"
   ]
  },
  {
   "cell_type": "code",
   "execution_count": 4,
   "metadata": {},
   "outputs": [],
   "source": [
    "folder = \"/Users/mariabelenalberti/OneDrive - Universidad Torcuato Di Tella/Tesis/code_datasets/1_data_frames/univariate/adversity_tou/\"\n",
    "filename = \"MAC000031.csv\"\n",
    "dataset = read_csv(folder + filename,parse_dates = ['tstp'], index_col = ['tstp'])"
   ]
  },
  {
   "cell_type": "code",
   "execution_count": 5,
   "metadata": {},
   "outputs": [],
   "source": [
    "train = dataset[:33600]\n",
    "test = dataset[33600:]"
   ]
  },
  {
   "cell_type": "code",
   "execution_count": 41,
   "metadata": {},
   "outputs": [
    {
     "data": {
      "text/html": [
       "<div>\n",
       "<style scoped>\n",
       "    .dataframe tbody tr th:only-of-type {\n",
       "        vertical-align: middle;\n",
       "    }\n",
       "\n",
       "    .dataframe tbody tr th {\n",
       "        vertical-align: top;\n",
       "    }\n",
       "\n",
       "    .dataframe thead th {\n",
       "        text-align: right;\n",
       "    }\n",
       "</style>\n",
       "<table border=\"1\" class=\"dataframe\">\n",
       "  <thead>\n",
       "    <tr style=\"text-align: right;\">\n",
       "      <th></th>\n",
       "      <th>energy(kWh/hh)</th>\n",
       "    </tr>\n",
       "    <tr>\n",
       "      <th>tstp</th>\n",
       "      <th></th>\n",
       "    </tr>\n",
       "  </thead>\n",
       "  <tbody>\n",
       "    <tr>\n",
       "      <th>2013-01-12 00:00:00</th>\n",
       "      <td>0.342</td>\n",
       "    </tr>\n",
       "    <tr>\n",
       "      <th>2013-01-12 00:30:00</th>\n",
       "      <td>0.401</td>\n",
       "    </tr>\n",
       "    <tr>\n",
       "      <th>2013-01-12 01:00:00</th>\n",
       "      <td>0.266</td>\n",
       "    </tr>\n",
       "    <tr>\n",
       "      <th>2013-01-12 01:30:00</th>\n",
       "      <td>0.129</td>\n",
       "    </tr>\n",
       "    <tr>\n",
       "      <th>2013-01-12 02:00:00</th>\n",
       "      <td>0.147</td>\n",
       "    </tr>\n",
       "    <tr>\n",
       "      <th>2013-01-12 02:30:00</th>\n",
       "      <td>0.144</td>\n",
       "    </tr>\n",
       "    <tr>\n",
       "      <th>2013-01-12 03:00:00</th>\n",
       "      <td>0.136</td>\n",
       "    </tr>\n",
       "    <tr>\n",
       "      <th>2013-01-12 03:30:00</th>\n",
       "      <td>0.145</td>\n",
       "    </tr>\n",
       "    <tr>\n",
       "      <th>2013-01-12 04:00:00</th>\n",
       "      <td>0.134</td>\n",
       "    </tr>\n",
       "    <tr>\n",
       "      <th>2013-01-12 04:30:00</th>\n",
       "      <td>0.141</td>\n",
       "    </tr>\n",
       "    <tr>\n",
       "      <th>2013-01-12 05:00:00</th>\n",
       "      <td>0.131</td>\n",
       "    </tr>\n",
       "    <tr>\n",
       "      <th>2013-01-12 05:30:00</th>\n",
       "      <td>0.152</td>\n",
       "    </tr>\n",
       "    <tr>\n",
       "      <th>2013-01-12 06:00:00</th>\n",
       "      <td>0.209</td>\n",
       "    </tr>\n",
       "    <tr>\n",
       "      <th>2013-01-12 06:30:00</th>\n",
       "      <td>0.191</td>\n",
       "    </tr>\n",
       "    <tr>\n",
       "      <th>2013-01-12 07:00:00</th>\n",
       "      <td>0.173</td>\n",
       "    </tr>\n",
       "    <tr>\n",
       "      <th>2013-01-12 07:30:00</th>\n",
       "      <td>0.141</td>\n",
       "    </tr>\n",
       "    <tr>\n",
       "      <th>2013-01-12 08:00:00</th>\n",
       "      <td>0.147</td>\n",
       "    </tr>\n",
       "    <tr>\n",
       "      <th>2013-01-12 08:30:00</th>\n",
       "      <td>0.165</td>\n",
       "    </tr>\n",
       "    <tr>\n",
       "      <th>2013-01-12 09:00:00</th>\n",
       "      <td>0.209</td>\n",
       "    </tr>\n",
       "    <tr>\n",
       "      <th>2013-01-12 09:30:00</th>\n",
       "      <td>0.453</td>\n",
       "    </tr>\n",
       "    <tr>\n",
       "      <th>2013-01-12 10:00:00</th>\n",
       "      <td>1.263</td>\n",
       "    </tr>\n",
       "    <tr>\n",
       "      <th>2013-01-12 10:30:00</th>\n",
       "      <td>1.354</td>\n",
       "    </tr>\n",
       "    <tr>\n",
       "      <th>2013-01-12 11:00:00</th>\n",
       "      <td>0.807</td>\n",
       "    </tr>\n",
       "    <tr>\n",
       "      <th>2013-01-12 11:30:00</th>\n",
       "      <td>1.485</td>\n",
       "    </tr>\n",
       "    <tr>\n",
       "      <th>2013-01-12 12:00:00</th>\n",
       "      <td>1.403</td>\n",
       "    </tr>\n",
       "    <tr>\n",
       "      <th>2013-01-12 12:30:00</th>\n",
       "      <td>0.923</td>\n",
       "    </tr>\n",
       "    <tr>\n",
       "      <th>2013-01-12 13:00:00</th>\n",
       "      <td>0.645</td>\n",
       "    </tr>\n",
       "    <tr>\n",
       "      <th>2013-01-12 13:30:00</th>\n",
       "      <td>1.816</td>\n",
       "    </tr>\n",
       "    <tr>\n",
       "      <th>2013-01-12 14:00:00</th>\n",
       "      <td>2.320</td>\n",
       "    </tr>\n",
       "    <tr>\n",
       "      <th>2013-01-12 14:30:00</th>\n",
       "      <td>1.111</td>\n",
       "    </tr>\n",
       "    <tr>\n",
       "      <th>...</th>\n",
       "      <td>...</td>\n",
       "    </tr>\n",
       "    <tr>\n",
       "      <th>2013-12-31 09:00:00</th>\n",
       "      <td>0.153</td>\n",
       "    </tr>\n",
       "    <tr>\n",
       "      <th>2013-12-31 09:30:00</th>\n",
       "      <td>0.125</td>\n",
       "    </tr>\n",
       "    <tr>\n",
       "      <th>2013-12-31 10:00:00</th>\n",
       "      <td>0.150</td>\n",
       "    </tr>\n",
       "    <tr>\n",
       "      <th>2013-12-31 10:30:00</th>\n",
       "      <td>0.156</td>\n",
       "    </tr>\n",
       "    <tr>\n",
       "      <th>2013-12-31 11:00:00</th>\n",
       "      <td>0.123</td>\n",
       "    </tr>\n",
       "    <tr>\n",
       "      <th>2013-12-31 11:30:00</th>\n",
       "      <td>0.149</td>\n",
       "    </tr>\n",
       "    <tr>\n",
       "      <th>2013-12-31 12:00:00</th>\n",
       "      <td>0.147</td>\n",
       "    </tr>\n",
       "    <tr>\n",
       "      <th>2013-12-31 12:30:00</th>\n",
       "      <td>0.170</td>\n",
       "    </tr>\n",
       "    <tr>\n",
       "      <th>2013-12-31 13:00:00</th>\n",
       "      <td>0.206</td>\n",
       "    </tr>\n",
       "    <tr>\n",
       "      <th>2013-12-31 13:30:00</th>\n",
       "      <td>0.203</td>\n",
       "    </tr>\n",
       "    <tr>\n",
       "      <th>2013-12-31 14:00:00</th>\n",
       "      <td>0.150</td>\n",
       "    </tr>\n",
       "    <tr>\n",
       "      <th>2013-12-31 14:30:00</th>\n",
       "      <td>0.155</td>\n",
       "    </tr>\n",
       "    <tr>\n",
       "      <th>2013-12-31 15:00:00</th>\n",
       "      <td>0.160</td>\n",
       "    </tr>\n",
       "    <tr>\n",
       "      <th>2013-12-31 15:30:00</th>\n",
       "      <td>0.135</td>\n",
       "    </tr>\n",
       "    <tr>\n",
       "      <th>2013-12-31 16:00:00</th>\n",
       "      <td>0.171</td>\n",
       "    </tr>\n",
       "    <tr>\n",
       "      <th>2013-12-31 16:30:00</th>\n",
       "      <td>0.157</td>\n",
       "    </tr>\n",
       "    <tr>\n",
       "      <th>2013-12-31 17:00:00</th>\n",
       "      <td>0.154</td>\n",
       "    </tr>\n",
       "    <tr>\n",
       "      <th>2013-12-31 17:30:00</th>\n",
       "      <td>0.158</td>\n",
       "    </tr>\n",
       "    <tr>\n",
       "      <th>2013-12-31 18:00:00</th>\n",
       "      <td>0.164</td>\n",
       "    </tr>\n",
       "    <tr>\n",
       "      <th>2013-12-31 18:30:00</th>\n",
       "      <td>0.159</td>\n",
       "    </tr>\n",
       "    <tr>\n",
       "      <th>2013-12-31 19:00:00</th>\n",
       "      <td>0.156</td>\n",
       "    </tr>\n",
       "    <tr>\n",
       "      <th>2013-12-31 19:30:00</th>\n",
       "      <td>0.173</td>\n",
       "    </tr>\n",
       "    <tr>\n",
       "      <th>2013-12-31 20:00:00</th>\n",
       "      <td>0.164</td>\n",
       "    </tr>\n",
       "    <tr>\n",
       "      <th>2013-12-31 20:30:00</th>\n",
       "      <td>0.154</td>\n",
       "    </tr>\n",
       "    <tr>\n",
       "      <th>2013-12-31 21:00:00</th>\n",
       "      <td>0.163</td>\n",
       "    </tr>\n",
       "    <tr>\n",
       "      <th>2013-12-31 21:30:00</th>\n",
       "      <td>0.176</td>\n",
       "    </tr>\n",
       "    <tr>\n",
       "      <th>2013-12-31 22:00:00</th>\n",
       "      <td>0.145</td>\n",
       "    </tr>\n",
       "    <tr>\n",
       "      <th>2013-12-31 22:30:00</th>\n",
       "      <td>0.177</td>\n",
       "    </tr>\n",
       "    <tr>\n",
       "      <th>2013-12-31 23:00:00</th>\n",
       "      <td>0.158</td>\n",
       "    </tr>\n",
       "    <tr>\n",
       "      <th>2013-12-31 23:30:00</th>\n",
       "      <td>0.162</td>\n",
       "    </tr>\n",
       "  </tbody>\n",
       "</table>\n",
       "<p>1488 rows × 1 columns</p>\n",
       "</div>"
      ],
      "text/plain": [
       "                     energy(kWh/hh)\n",
       "tstp                               \n",
       "2013-01-12 00:00:00           0.342\n",
       "2013-01-12 00:30:00           0.401\n",
       "2013-01-12 01:00:00           0.266\n",
       "2013-01-12 01:30:00           0.129\n",
       "2013-01-12 02:00:00           0.147\n",
       "2013-01-12 02:30:00           0.144\n",
       "2013-01-12 03:00:00           0.136\n",
       "2013-01-12 03:30:00           0.145\n",
       "2013-01-12 04:00:00           0.134\n",
       "2013-01-12 04:30:00           0.141\n",
       "2013-01-12 05:00:00           0.131\n",
       "2013-01-12 05:30:00           0.152\n",
       "2013-01-12 06:00:00           0.209\n",
       "2013-01-12 06:30:00           0.191\n",
       "2013-01-12 07:00:00           0.173\n",
       "2013-01-12 07:30:00           0.141\n",
       "2013-01-12 08:00:00           0.147\n",
       "2013-01-12 08:30:00           0.165\n",
       "2013-01-12 09:00:00           0.209\n",
       "2013-01-12 09:30:00           0.453\n",
       "2013-01-12 10:00:00           1.263\n",
       "2013-01-12 10:30:00           1.354\n",
       "2013-01-12 11:00:00           0.807\n",
       "2013-01-12 11:30:00           1.485\n",
       "2013-01-12 12:00:00           1.403\n",
       "2013-01-12 12:30:00           0.923\n",
       "2013-01-12 13:00:00           0.645\n",
       "2013-01-12 13:30:00           1.816\n",
       "2013-01-12 14:00:00           2.320\n",
       "2013-01-12 14:30:00           1.111\n",
       "...                             ...\n",
       "2013-12-31 09:00:00           0.153\n",
       "2013-12-31 09:30:00           0.125\n",
       "2013-12-31 10:00:00           0.150\n",
       "2013-12-31 10:30:00           0.156\n",
       "2013-12-31 11:00:00           0.123\n",
       "2013-12-31 11:30:00           0.149\n",
       "2013-12-31 12:00:00           0.147\n",
       "2013-12-31 12:30:00           0.170\n",
       "2013-12-31 13:00:00           0.206\n",
       "2013-12-31 13:30:00           0.203\n",
       "2013-12-31 14:00:00           0.150\n",
       "2013-12-31 14:30:00           0.155\n",
       "2013-12-31 15:00:00           0.160\n",
       "2013-12-31 15:30:00           0.135\n",
       "2013-12-31 16:00:00           0.171\n",
       "2013-12-31 16:30:00           0.157\n",
       "2013-12-31 17:00:00           0.154\n",
       "2013-12-31 17:30:00           0.158\n",
       "2013-12-31 18:00:00           0.164\n",
       "2013-12-31 18:30:00           0.159\n",
       "2013-12-31 19:00:00           0.156\n",
       "2013-12-31 19:30:00           0.173\n",
       "2013-12-31 20:00:00           0.164\n",
       "2013-12-31 20:30:00           0.154\n",
       "2013-12-31 21:00:00           0.163\n",
       "2013-12-31 21:30:00           0.176\n",
       "2013-12-31 22:00:00           0.145\n",
       "2013-12-31 22:30:00           0.177\n",
       "2013-12-31 23:00:00           0.158\n",
       "2013-12-31 23:30:00           0.162\n",
       "\n",
       "[1488 rows x 1 columns]"
      ]
     },
     "execution_count": 41,
     "metadata": {},
     "output_type": "execute_result"
    }
   ],
   "source": [
    "test"
   ]
  },
  {
   "cell_type": "code",
   "execution_count": 25,
   "metadata": {},
   "outputs": [
    {
     "name": "stdout",
     "output_type": "stream",
     "text": [
      "ADF Statistic: -14.830616\n",
      "p-value: 0.000000\n",
      "Critical Values:\n",
      "\t1%: -3.431\n",
      "\t5%: -2.862\n",
      "\t10%: -2.567\n"
     ]
    }
   ],
   "source": [
    "from pandas import read_csv\n",
    "from statsmodels.tsa.stattools import adfuller\n",
    "X = train.values\n",
    "result = adfuller(X)\n",
    "print('ADF Statistic: %f' % result[0])\n",
    "print('p-value: %f' % result[1])\n",
    "print('Critical Values:')\n",
    "for key, value in result[4].items():\n",
    "    print('\\t%s: %.3f' % (key, value))"
   ]
  },
  {
   "cell_type": "code",
   "execution_count": 59,
   "metadata": {},
   "outputs": [
    {
     "data": {
      "image/png": "[encoded data removed]",
      "text/plain": [
       "<Figure size 432x288 with 1 Axes>"
      ]
     },
     "metadata": {
      "needs_background": "light"
     },
     "output_type": "display_data"
    },
    {
     "data": {
      "image/png": "[encoded data removed]",
      "text/plain": [
       "<Figure size 432x288 with 1 Axes>"
      ]
     },
     "metadata": {
      "needs_background": "light"
     },
     "output_type": "display_data"
    }
   ],
   "source": [
    "plot_acf(train['energy(kWh/hh)'],lags=100)\n",
    "plt.show();\n",
    "#q=10\n",
    "plot_pacf(train['energy(kWh/hh)'],lags=100)\n",
    "plt.show();\n",
    "# p = 2"
   ]
  },
  {
   "cell_type": "code",
   "execution_count": 7,
   "metadata": {},
   "outputs": [
    {
     "data": {
      "image/png": "[encoded data removed]",
      "text/plain": [
       "<Figure size 432x288 with 1 Axes>"
      ]
     },
     "metadata": {
      "needs_background": "light"
     },
     "output_type": "display_data"
    }
   ],
   "source": [
    "plot_pacf(train['energy(kWh/hh)'],lags=15)\n",
    "plt.show();\n",
    "\n",
    "# p = 2"
   ]
  },
  {
   "cell_type": "code",
   "execution_count": 77,
   "metadata": {},
   "outputs": [
    {
     "name": "stderr",
     "output_type": "stream",
     "text": [
      "/Users/mariabelenalberti/anaconda3/lib/python3.7/site-packages/statsmodels/tsa/base/tsa_model.py:218: ValueWarning: A date index has been provided, but it has no associated frequency information and so will be ignored when e.g. forecasting.\n",
      "  ' ignored when e.g. forecasting.', ValueWarning)\n",
      "/Users/mariabelenalberti/anaconda3/lib/python3.7/site-packages/statsmodels/tsa/base/tsa_model.py:222: ValueWarning: A date index has been provided, but it is not monotonic and so will be ignored when e.g. forecasting.\n",
      "  ' forecasting.', ValueWarning)\n"
     ]
    }
   ],
   "source": [
    "arima_model = ARIMA(train,order = (2,0,0)).fit()\n",
    "# p,d,q"
   ]
  },
  {
   "cell_type": "code",
   "execution_count": 78,
   "metadata": {},
   "outputs": [
    {
     "name": "stdout",
     "output_type": "stream",
     "text": [
      "                              ARMA Model Results                              \n",
      "==============================================================================\n",
      "Dep. Variable:         energy(kWh/hh)   No. Observations:                33600\n",
      "Model:                     ARMA(2, 0)   Log Likelihood               -5377.370\n",
      "Method:                       css-mle   S.D. of innovations              0.284\n",
      "Date:                Wed, 22 Apr 2020   AIC                          10762.739\n",
      "Time:                        13:26:49   BIC                          10796.428\n",
      "Sample:                             0   HQIC                         10773.491\n",
      "                                                                              \n",
      "========================================================================================\n",
      "                           coef    std err          z      P>|z|      [0.025      0.975]\n",
      "----------------------------------------------------------------------------------------\n",
      "const                    0.4001      0.006     64.882      0.000       0.388       0.412\n",
      "ar.L1.energy(kWh/hh)     0.7413      0.005    135.889      0.000       0.731       0.752\n",
      "ar.L2.energy(kWh/hh)     0.0075      0.005      1.375      0.169      -0.003       0.018\n",
      "                                    Roots                                    \n",
      "=============================================================================\n",
      "                  Real          Imaginary           Modulus         Frequency\n",
      "-----------------------------------------------------------------------------\n",
      "AR.1            1.3311           +0.0000j            1.3311            0.0000\n",
      "AR.2         -100.1570           +0.0000j          100.1570            0.5000\n",
      "-----------------------------------------------------------------------------\n"
     ]
    }
   ],
   "source": [
    "print(arima_model.summary())"
   ]
  },
  {
   "cell_type": "code",
   "execution_count": 79,
   "metadata": {},
   "outputs": [
    {
     "name": "stderr",
     "output_type": "stream",
     "text": [
      "/Users/mariabelenalberti/anaconda3/lib/python3.7/site-packages/statsmodels/tsa/base/tsa_model.py:583: ValueWarning: No supported index is available. Prediction results will be given with an integer index beginning at `start`.\n",
      "  ValueWarning)\n"
     ]
    }
   ],
   "source": [
    "ARIMA_prediction = arima_model.predict(start=33600, end =35087,typ= 'levels')"
   ]
  },
  {
   "cell_type": "code",
   "execution_count": 80,
   "metadata": {},
   "outputs": [],
   "source": [
    "y_test = test['energy(kWh/hh)'].to_list()"
   ]
  },
  {
   "cell_type": "code",
   "execution_count": 81,
   "metadata": {},
   "outputs": [],
   "source": [
    "y_pred = ARIMA_prediction.to_list()"
   ]
  },
  {
   "cell_type": "code",
   "execution_count": 82,
   "metadata": {},
   "outputs": [
    {
     "name": "stdout",
     "output_type": "stream",
     "text": [
      "0.34862425805302943\n"
     ]
    }
   ],
   "source": [
    "from sklearn import metrics\n",
    "#MAE\n",
    "print(metrics.mean_absolute_error(y_test,y_pred))"
   ]
  },
  {
   "cell_type": "code",
   "execution_count": 83,
   "metadata": {},
   "outputs": [],
   "source": [
    "import numpy as np\n",
    "def sMAPE(a, b):\n",
    "    \"\"\"\n",
    "    Calculates sMAPE\n",
    "    :param a: actual values\n",
    "    :param b: predicted values\n",
    "    :return: sMAPE\n",
    "    \"\"\"\n",
    "    a = np.reshape(a, (-1,))\n",
    "    b = np.reshape(b, (-1,))\n",
    "    return np.mean(100*2.0 * np.abs(a - b) / (np.abs(a) + np.abs(b))).item()"
   ]
  },
  {
   "cell_type": "code",
   "execution_count": 84,
   "metadata": {},
   "outputs": [
    {
     "data": {
      "text/plain": [
       "72.43669266144256"
      ]
     },
     "execution_count": 84,
     "metadata": {},
     "output_type": "execute_result"
    }
   ],
   "source": [
    "sMAPE(y_test,y_pred)"
   ]
  },
  {
   "cell_type": "code",
   "execution_count": null,
   "metadata": {},
   "outputs": [],
   "source": []
  }
 ],
 "metadata": {
  "kernelspec": {
   "display_name": "Python 3",
   "language": "python",
   "name": "python3"
  },
  "language_info": {
   "codemirror_mode": {
    "name": "ipython",
    "version": 3
   },
   "file_extension": ".py",
   "mimetype": "text/x-python",
   "name": "python",
   "nbconvert_exporter": "python",
   "pygments_lexer": "ipython3",
   "version": "3.7.3"
  },
  "toc": {
   "base_numbering": 1,
   "nav_menu": {},
   "number_sections": true,
   "sideBar": true,
   "skip_h1_title": false,
   "title_cell": "Table of Contents",
   "title_sidebar": "Contents",
   "toc_cell": false,
   "toc_position": {},
   "toc_section_display": true,
   "toc_window_display": false
  }
 },
 "nbformat": 4,
 "nbformat_minor": 2
}
