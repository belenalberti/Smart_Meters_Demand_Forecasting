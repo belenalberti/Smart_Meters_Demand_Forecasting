{
 "cells": [
  {
   "cell_type": "code",
   "execution_count": 102,
   "metadata": {},
   "outputs": [],
   "source": [
    "import pandas as pd\n",
    "from pandas import read_csv\n",
    "from pandas import datetime\n",
    "from matplotlib import pyplot as plt"
   ]
  },
  {
   "cell_type": "code",
   "execution_count": 85,
   "metadata": {},
   "outputs": [],
   "source": [
    "from statsmodels.graphics.tsaplots import plot_acf \n",
    "from statsmodels.graphics.tsaplots import plot_pacf"
   ]
  },
  {
   "cell_type": "code",
   "execution_count": 114,
   "metadata": {},
   "outputs": [],
   "source": [
    "from statsmodels.tsa.arima_model import ARIMA\n",
    "import statsmodels.api as sm"
   ]
  },
  {
   "cell_type": "code",
   "execution_count": 79,
   "metadata": {},
   "outputs": [],
   "source": [
    "folder = \"/Users/mariabelenalberti/OneDrive - Universidad Torcuato Di Tella/Tesis/datasets/finales/\"\n",
    "filename = \"affluent_std.csv\"\n",
    "dataset = read_csv(folder + filename,parse_dates = ['hour'], index_col = ['hour'])"
   ]
  },
  {
   "cell_type": "code",
   "execution_count": 81,
   "metadata": {},
   "outputs": [],
   "source": [
    "train = dataset[:32112]\n",
    "test = dataset[32113:]"
   ]
  },
  {
   "cell_type": "code",
   "execution_count": 182,
   "metadata": {},
   "outputs": [
    {
     "data": {
      "image/png": "[encoded data removed]",
      "text/plain": [
       "<Figure size 432x288 with 1 Axes>"
      ]
     },
     "metadata": {
      "needs_background": "light"
     },
     "output_type": "display_data"
    }
   ],
   "source": [
    "plot_acf(train['energy(kWh/hh)'],lags=20)\n",
    "plt.show()\n",
    "#q=10"
   ]
  },
  {
   "cell_type": "code",
   "execution_count": 194,
   "metadata": {},
   "outputs": [
    {
     "data": {
      "image/png": "[encoded data removed]",
      "text/plain": [
       "<Figure size 432x288 with 1 Axes>"
      ]
     },
     "metadata": {
      "needs_background": "light"
     },
     "output_type": "display_data"
    }
   ],
   "source": [
    "plot_pacf(train['energy(kWh/hh)'],lags=15)\n",
    "plt.show();\n",
    "\n",
    "# p = 2"
   ]
  },
  {
   "cell_type": "code",
   "execution_count": 314,
   "metadata": {},
   "outputs": [
    {
     "name": "stderr",
     "output_type": "stream",
     "text": [
      "/Users/mariabelenalberti/anaconda3/lib/python3.7/site-packages/statsmodels/tsa/base/tsa_model.py:218: ValueWarning:\n",
      "\n",
      "A date index has been provided, but it has no associated frequency information and so will be ignored when e.g. forecasting.\n",
      "\n",
      "/Users/mariabelenalberti/anaconda3/lib/python3.7/site-packages/statsmodels/tsa/base/tsa_model.py:222: ValueWarning:\n",
      "\n",
      "A date index has been provided, but it is not monotonic and so will be ignored when e.g. forecasting.\n",
      "\n",
      "/Users/mariabelenalberti/anaconda3/lib/python3.7/site-packages/statsmodels/base/model.py:548: HessianInversionWarning:\n",
      "\n",
      "Inverting hessian failed, no bse or cov_params available\n",
      "\n",
      "/Users/mariabelenalberti/anaconda3/lib/python3.7/site-packages/statsmodels/base/model.py:568: ConvergenceWarning:\n",
      "\n",
      "Maximum Likelihood optimization failed to converge. Check mle_retvals\n",
      "\n"
     ]
    }
   ],
   "source": [
    "arima_model = ARIMA(train,order = (2,0,9)).fit()\n",
    "# p,d,q"
   ]
  },
  {
   "cell_type": "code",
   "execution_count": 315,
   "metadata": {},
   "outputs": [
    {
     "name": "stdout",
     "output_type": "stream",
     "text": [
      "                              ARMA Model Results                              \n",
      "==============================================================================\n",
      "Dep. Variable:         energy(kWh/hh)   No. Observations:                32112\n",
      "Model:                     ARMA(2, 9)   Log Likelihood               80232.825\n",
      "Method:                       css-mle   S.D. of innovations              0.020\n",
      "Date:                Sun, 05 Apr 2020   AIC                        -160439.651\n",
      "Time:                        18:17:54   BIC                        -160330.750\n",
      "Sample:                             0   HQIC                       -160404.822\n",
      "                                                                              \n",
      "========================================================================================\n",
      "                           coef    std err          z      P>|z|      [0.025      0.975]\n",
      "----------------------------------------------------------------------------------------\n",
      "const                    0.2161      0.001    256.883      0.000       0.214       0.218\n",
      "ar.L1.energy(kWh/hh)     1.9826   5.83e-05    3.4e+04      0.000       1.982       1.983\n",
      "ar.L2.energy(kWh/hh)    -0.9997   6.47e-05  -1.55e+04      0.000      -1.000      -1.000\n",
      "ma.L1.energy(kWh/hh)    -0.8381      0.006   -142.765      0.000      -0.850      -0.827\n",
      "ma.L2.energy(kWh/hh)    -0.0433      0.008     -5.769      0.000      -0.058      -0.029\n",
      "ma.L3.energy(kWh/hh)    -0.1128      0.008    -14.747      0.000      -0.128      -0.098\n",
      "ma.L4.energy(kWh/hh)    -0.0678      0.008     -8.665      0.000      -0.083      -0.052\n",
      "ma.L5.energy(kWh/hh)    -0.0517      0.006     -7.997      0.000      -0.064      -0.039\n",
      "ma.L6.energy(kWh/hh)    -0.0418      0.008     -5.394      0.000      -0.057      -0.027\n",
      "ma.L7.energy(kWh/hh)     0.0153      0.008      1.952      0.051   -6.29e-05       0.031\n",
      "ma.L8.energy(kWh/hh)     0.0257      0.008      3.282      0.001       0.010       0.041\n",
      "ma.L9.energy(kWh/hh)     0.2442      0.006     43.911      0.000       0.233       0.255\n",
      "                                    Roots                                    \n",
      "=============================================================================\n",
      "                  Real          Imaginary           Modulus         Frequency\n",
      "-----------------------------------------------------------------------------\n",
      "AR.1            0.9916           -0.1306j            1.0001           -0.0208\n",
      "AR.2            0.9916           +0.1306j            1.0001            0.0208\n",
      "MA.1            0.9926           -0.1356j            1.0018           -0.0216\n",
      "MA.2            0.9926           +0.1356j            1.0018            0.0216\n",
      "MA.3            0.6516           -0.9507j            1.1526           -0.1544\n",
      "MA.4            0.6516           +0.9507j            1.1526            0.1544\n",
      "MA.5           -0.1339           -1.2203j            1.2276           -0.2674\n",
      "MA.6           -0.1339           +1.2203j            1.2276            0.2674\n",
      "MA.7           -1.2728           -0.0000j            1.2728           -0.5000\n",
      "MA.8           -0.9266           -0.8616j            1.2653           -0.3808\n",
      "MA.9           -0.9266           +0.8616j            1.2653            0.3808\n",
      "-----------------------------------------------------------------------------\n"
     ]
    }
   ],
   "source": [
    "print(arima_model.summary())"
   ]
  },
  {
   "cell_type": "code",
   "execution_count": 316,
   "metadata": {},
   "outputs": [
    {
     "name": "stderr",
     "output_type": "stream",
     "text": [
      "/Users/mariabelenalberti/anaconda3/lib/python3.7/site-packages/statsmodels/tsa/base/tsa_model.py:583: ValueWarning:\n",
      "\n",
      "No supported index is available. Prediction results will be given with an integer index beginning at `start`.\n",
      "\n"
     ]
    }
   ],
   "source": [
    "ARIMA_prediction = arima_model.predict(start=32112, end =35040,typ= 'levels')"
   ]
  },
  {
   "cell_type": "code",
   "execution_count": 317,
   "metadata": {},
   "outputs": [],
   "source": [
    "actual = read_csv(folder + filename)\n",
    "actual = actual[\"energy(kWh/hh)\"].to_list()\n",
    "y_test = actual[32111:]"
   ]
  },
  {
   "cell_type": "code",
   "execution_count": 318,
   "metadata": {},
   "outputs": [],
   "source": [
    "y_pred = ARIMA_prediction.to_list()"
   ]
  },
  {
   "cell_type": "code",
   "execution_count": 319,
   "metadata": {},
   "outputs": [
    {
     "name": "stdout",
     "output_type": "stream",
     "text": [
      "0.05958867623572816\n"
     ]
    }
   ],
   "source": [
    "from sklearn import metrics\n",
    "#MAE\n",
    "print(metrics.mean_absolute_error(y_test,y_pred))"
   ]
  },
  {
   "cell_type": "code",
   "execution_count": 320,
   "metadata": {},
   "outputs": [],
   "source": [
    "def sMAPE(a, b):\n",
    "    \"\"\"\n",
    "    Calculates sMAPE\n",
    "    :param a: actual values\n",
    "    :param b: predicted values\n",
    "    :return: sMAPE\n",
    "    \"\"\"\n",
    "    a = np.reshape(a, (-1,))\n",
    "    b = np.reshape(b, (-1,))\n",
    "    return np.mean(100*2.0 * np.abs(a - b) / (np.abs(a) + np.abs(b))).item()"
   ]
  },
  {
   "cell_type": "code",
   "execution_count": 321,
   "metadata": {},
   "outputs": [
    {
     "data": {
      "text/plain": [
       "24.93804991189763"
      ]
     },
     "execution_count": 321,
     "metadata": {},
     "output_type": "execute_result"
    }
   ],
   "source": [
    "sMAPE(y_test,y_pred)"
   ]
  },
  {
   "cell_type": "code",
   "execution_count": null,
   "metadata": {},
   "outputs": [],
   "source": []
  }
 ],
 "metadata": {
  "kernelspec": {
   "display_name": "Python 3",
   "language": "python",
   "name": "python3"
  },
  "language_info": {
   "codemirror_mode": {
    "name": "ipython",
    "version": 3
   },
   "file_extension": ".py",
   "mimetype": "text/x-python",
   "name": "python",
   "nbconvert_exporter": "python",
   "pygments_lexer": "ipython3",
   "version": "3.7.3"
  },
  "toc": {
   "base_numbering": 1,
   "nav_menu": {},
   "number_sections": true,
   "sideBar": true,
   "skip_h1_title": false,
   "title_cell": "Table of Contents",
   "title_sidebar": "Contents",
   "toc_cell": false,
   "toc_position": {},
   "toc_section_display": true,
   "toc_window_display": false
  }
 },
 "nbformat": 4,
 "nbformat_minor": 2
}
