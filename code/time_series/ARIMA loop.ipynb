{
 "cells": [
  {
   "cell_type": "code",
   "execution_count": 12,
   "metadata": {},
   "outputs": [],
   "source": [
    "import pandas as pd\n",
    "from pandas import read_csv\n",
    "from pandas import datetime\n",
    "from matplotlib import pyplot as plt\n",
    "import statsmodels.api as sm\n",
    "from statsmodels.graphics.tsaplots import plot_acf \n",
    "from statsmodels.graphics.tsaplots import plot_pacf\n",
    "from statsmodels.tsa.arima_model import ARIMA\n",
    "from sklearn import metrics"
   ]
  },
  {
   "cell_type": "code",
   "execution_count": 19,
   "metadata": {},
   "outputs": [],
   "source": [
    "folder = \"/Users/mariabelenalberti/OneDrive - Universidad Torcuato Di Tella/Tesis/datasets/finales/\"\n",
    "filename = \"affluent_std.csv\"\n",
    "dataset = read_csv(folder + filename,parse_dates = ['hour'], index_col = ['hour'])\n",
    "dataset1 = read_csv(folder + filename)"
   ]
  },
  {
   "cell_type": "code",
   "execution_count": 20,
   "metadata": {},
   "outputs": [],
   "source": [
    "def sMAPE(a, b):\n",
    "    a = np.reshape(a, (-1,))\n",
    "    b = np.reshape(b, (-1,))\n",
    "    return np.mean(100*2.0 * np.abs(a - b) / (np.abs(a) + np.abs(b))).item()"
   ]
  },
  {
   "cell_type": "code",
   "execution_count": 21,
   "metadata": {},
   "outputs": [],
   "source": [
    "def arima(datset):\n",
    "\n",
    "    # Separate into Train and Test\n",
    "    train = dataset[:32112]\n",
    "    actual = dataset1[\"energy(kWh/hh)\"].to_list()\n",
    "    y_test = actual[32111:]\n",
    "\n",
    "    # Create Model\n",
    "    arima_model = ARIMA(train,order = (2,0,9)).fit()\n",
    "\n",
    "    #Predict and save results\n",
    "    ARIMA_prediction = arima_model.predict(start=32112, end =35040,typ= 'levels')\n",
    "    y_pred = ARIMA_prediction.to_list()\n",
    "    y_pred.to_csv('y_pred.csv')\n",
    "    \n",
    "    return print(metrics.mean_absolute_error(y_test,y_pred)),sMAPE(y_test,y_pred)"
   ]
  },
  {
   "cell_type": "code",
   "execution_count": null,
   "metadata": {},
   "outputs": [],
   "source": [
    "for file in folder:\n",
    "    arima(file)"
   ]
  }
 ],
 "metadata": {
  "kernelspec": {
   "display_name": "Python 3",
   "language": "python",
   "name": "python3"
  },
  "language_info": {
   "codemirror_mode": {
    "name": "ipython",
    "version": 3
   },
   "file_extension": ".py",
   "mimetype": "text/x-python",
   "name": "python",
   "nbconvert_exporter": "python",
   "pygments_lexer": "ipython3",
   "version": "3.7.3"
  },
  "toc": {
   "base_numbering": 1,
   "nav_menu": {},
   "number_sections": true,
   "sideBar": true,
   "skip_h1_title": false,
   "title_cell": "Table of Contents",
   "title_sidebar": "Contents",
   "toc_cell": false,
   "toc_position": {},
   "toc_section_display": true,
   "toc_window_display": false
  }
 },
 "nbformat": 4,
 "nbformat_minor": 2
}
