{
 "cells": [
  {
   "cell_type": "code",
   "execution_count": 1,
   "metadata": {},
   "outputs": [],
   "source": [
    "import pandas as pd\n",
    "from pandas import read_csv\n",
    "import numpy as np\n",
    "from datetime import datetime\n",
    "import matplotlib.pyplot as plt\n",
    "from scipy import stats\n",
    "import glob"
   ]
  },
  {
   "cell_type": "code",
   "execution_count": 2,
   "metadata": {},
   "outputs": [
    {
     "name": "stderr",
     "output_type": "stream",
     "text": [
      "/Users/mariabelenalberti/anaconda3/lib/python3.7/site-packages/IPython/core/interactiveshell.py:3057: DtypeWarning: Columns (2) have mixed types. Specify dtype option on import or set low_memory=False.\n",
      "  interactivity=interactivity, compiler=compiler, result=result)\n"
     ]
    }
   ],
   "source": [
    "# Half hourly consumtion\n",
    "path = '/Users/mariabelenalberti/Downloads/smart-meters-in-london/halfhourly_dataset' # use your path\n",
    "all_files = glob.glob(path + \"/*.csv\")\n",
    "\n",
    "lista = []\n",
    "for filename in all_files:\n",
    "    df = pd.read_csv(filename, index_col=None, header=0)\n",
    "    lista.append(df)\n",
    "\n",
    "halfhourly_consumption = pd.concat(lista, axis=0, ignore_index=True)"
   ]
  },
  {
   "cell_type": "code",
   "execution_count": 3,
   "metadata": {},
   "outputs": [],
   "source": [
    "halfhourly_consumption['timestamp']= pd.to_datetime(halfhourly_consumption['tstp'],format = '%Y-%m-%d')\n",
    "del halfhourly_consumption['tstp']"
   ]
  },
  {
   "cell_type": "code",
   "execution_count": 4,
   "metadata": {},
   "outputs": [],
   "source": [
    "# Households\n",
    "folder = \"/Users/mariabelenalberti/Downloads/smart-meters-in-london/\"\n",
    "filename = \"informations_households.csv\"\n",
    "households = pd.read_csv(folder + filename)"
   ]
  },
  {
   "cell_type": "code",
   "execution_count": 5,
   "metadata": {},
   "outputs": [],
   "source": [
    "hh_df = pd.merge(halfhourly_consumption,households,on='LCLid')"
   ]
  },
  {
   "cell_type": "code",
   "execution_count": 6,
   "metadata": {},
   "outputs": [
    {
     "data": {
      "text/html": [
       "<div>\n",
       "<style scoped>\n",
       "    .dataframe tbody tr th:only-of-type {\n",
       "        vertical-align: middle;\n",
       "    }\n",
       "\n",
       "    .dataframe tbody tr th {\n",
       "        vertical-align: top;\n",
       "    }\n",
       "\n",
       "    .dataframe thead th {\n",
       "        text-align: right;\n",
       "    }\n",
       "</style>\n",
       "<table border=\"1\" class=\"dataframe\">\n",
       "  <thead>\n",
       "    <tr style=\"text-align: right;\">\n",
       "      <th></th>\n",
       "      <th>LCLid</th>\n",
       "      <th>energy(kWh/hh)</th>\n",
       "      <th>timestamp</th>\n",
       "      <th>stdorToU</th>\n",
       "      <th>Acorn</th>\n",
       "      <th>Acorn_grouped</th>\n",
       "      <th>file</th>\n",
       "    </tr>\n",
       "  </thead>\n",
       "  <tbody>\n",
       "    <tr>\n",
       "      <th>0</th>\n",
       "      <td>MAC000027</td>\n",
       "      <td>0.185</td>\n",
       "      <td>2011-12-07 11:30:00</td>\n",
       "      <td>Std</td>\n",
       "      <td>ACORN-J</td>\n",
       "      <td>Comfortable</td>\n",
       "      <td>block_71</td>\n",
       "    </tr>\n",
       "    <tr>\n",
       "      <th>1</th>\n",
       "      <td>MAC000027</td>\n",
       "      <td>0.155</td>\n",
       "      <td>2011-12-07 12:00:00</td>\n",
       "      <td>Std</td>\n",
       "      <td>ACORN-J</td>\n",
       "      <td>Comfortable</td>\n",
       "      <td>block_71</td>\n",
       "    </tr>\n",
       "    <tr>\n",
       "      <th>2</th>\n",
       "      <td>MAC000027</td>\n",
       "      <td>0.147</td>\n",
       "      <td>2011-12-07 12:30:00</td>\n",
       "      <td>Std</td>\n",
       "      <td>ACORN-J</td>\n",
       "      <td>Comfortable</td>\n",
       "      <td>block_71</td>\n",
       "    </tr>\n",
       "    <tr>\n",
       "      <th>3</th>\n",
       "      <td>MAC000027</td>\n",
       "      <td>0.164</td>\n",
       "      <td>2011-12-07 13:00:00</td>\n",
       "      <td>Std</td>\n",
       "      <td>ACORN-J</td>\n",
       "      <td>Comfortable</td>\n",
       "      <td>block_71</td>\n",
       "    </tr>\n",
       "    <tr>\n",
       "      <th>4</th>\n",
       "      <td>MAC000027</td>\n",
       "      <td>0.187</td>\n",
       "      <td>2011-12-07 13:30:00</td>\n",
       "      <td>Std</td>\n",
       "      <td>ACORN-J</td>\n",
       "      <td>Comfortable</td>\n",
       "      <td>block_71</td>\n",
       "    </tr>\n",
       "  </tbody>\n",
       "</table>\n",
       "</div>"
      ],
      "text/plain": [
       "       LCLid energy(kWh/hh)           timestamp stdorToU    Acorn  \\\n",
       "0  MAC000027         0.185  2011-12-07 11:30:00      Std  ACORN-J   \n",
       "1  MAC000027         0.155  2011-12-07 12:00:00      Std  ACORN-J   \n",
       "2  MAC000027         0.147  2011-12-07 12:30:00      Std  ACORN-J   \n",
       "3  MAC000027         0.164  2011-12-07 13:00:00      Std  ACORN-J   \n",
       "4  MAC000027         0.187  2011-12-07 13:30:00      Std  ACORN-J   \n",
       "\n",
       "  Acorn_grouped      file  \n",
       "0   Comfortable  block_71  \n",
       "1   Comfortable  block_71  \n",
       "2   Comfortable  block_71  \n",
       "3   Comfortable  block_71  \n",
       "4   Comfortable  block_71  "
      ]
     },
     "execution_count": 6,
     "metadata": {},
     "output_type": "execute_result"
    }
   ],
   "source": [
    "hh_df.head()"
   ]
  },
  {
   "cell_type": "code",
   "execution_count": 6,
   "metadata": {},
   "outputs": [],
   "source": [
    "del hh_df['file']"
   ]
  },
  {
   "cell_type": "code",
   "execution_count": 7,
   "metadata": {},
   "outputs": [],
   "source": [
    "del hh_df['Acorn']"
   ]
  },
  {
   "cell_type": "code",
   "execution_count": 9,
   "metadata": {},
   "outputs": [
    {
     "data": {
      "text/html": [
       "<div>\n",
       "<style scoped>\n",
       "    .dataframe tbody tr th:only-of-type {\n",
       "        vertical-align: middle;\n",
       "    }\n",
       "\n",
       "    .dataframe tbody tr th {\n",
       "        vertical-align: top;\n",
       "    }\n",
       "\n",
       "    .dataframe thead th {\n",
       "        text-align: right;\n",
       "    }\n",
       "</style>\n",
       "<table border=\"1\" class=\"dataframe\">\n",
       "  <thead>\n",
       "    <tr style=\"text-align: right;\">\n",
       "      <th></th>\n",
       "      <th>LCLid</th>\n",
       "      <th>energy(kWh/hh)</th>\n",
       "      <th>timestamp</th>\n",
       "      <th>stdorToU</th>\n",
       "      <th>Acorn_grouped</th>\n",
       "    </tr>\n",
       "  </thead>\n",
       "  <tbody>\n",
       "    <tr>\n",
       "      <th>0</th>\n",
       "      <td>MAC000027</td>\n",
       "      <td>0.185</td>\n",
       "      <td>2011-12-07 11:30:00</td>\n",
       "      <td>Std</td>\n",
       "      <td>Comfortable</td>\n",
       "    </tr>\n",
       "    <tr>\n",
       "      <th>1</th>\n",
       "      <td>MAC000027</td>\n",
       "      <td>0.155</td>\n",
       "      <td>2011-12-07 12:00:00</td>\n",
       "      <td>Std</td>\n",
       "      <td>Comfortable</td>\n",
       "    </tr>\n",
       "    <tr>\n",
       "      <th>2</th>\n",
       "      <td>MAC000027</td>\n",
       "      <td>0.147</td>\n",
       "      <td>2011-12-07 12:30:00</td>\n",
       "      <td>Std</td>\n",
       "      <td>Comfortable</td>\n",
       "    </tr>\n",
       "    <tr>\n",
       "      <th>3</th>\n",
       "      <td>MAC000027</td>\n",
       "      <td>0.164</td>\n",
       "      <td>2011-12-07 13:00:00</td>\n",
       "      <td>Std</td>\n",
       "      <td>Comfortable</td>\n",
       "    </tr>\n",
       "    <tr>\n",
       "      <th>4</th>\n",
       "      <td>MAC000027</td>\n",
       "      <td>0.187</td>\n",
       "      <td>2011-12-07 13:30:00</td>\n",
       "      <td>Std</td>\n",
       "      <td>Comfortable</td>\n",
       "    </tr>\n",
       "  </tbody>\n",
       "</table>\n",
       "</div>"
      ],
      "text/plain": [
       "       LCLid energy(kWh/hh)           timestamp stdorToU Acorn_grouped\n",
       "0  MAC000027         0.185  2011-12-07 11:30:00      Std   Comfortable\n",
       "1  MAC000027         0.155  2011-12-07 12:00:00      Std   Comfortable\n",
       "2  MAC000027         0.147  2011-12-07 12:30:00      Std   Comfortable\n",
       "3  MAC000027         0.164  2011-12-07 13:00:00      Std   Comfortable\n",
       "4  MAC000027         0.187  2011-12-07 13:30:00      Std   Comfortable"
      ]
     },
     "execution_count": 9,
     "metadata": {},
     "output_type": "execute_result"
    }
   ],
   "source": [
    "hh_df.head()"
   ]
  },
  {
   "cell_type": "code",
   "execution_count": 10,
   "metadata": {},
   "outputs": [
    {
     "name": "stdout",
     "output_type": "stream",
     "text": [
      "<class 'pandas.core.frame.DataFrame'>\n",
      "Int64Index: 167817021 entries, 0 to 167817020\n",
      "Data columns (total 5 columns):\n",
      "LCLid             object\n",
      "energy(kWh/hh)    object\n",
      "timestamp         datetime64[ns]\n",
      "stdorToU          object\n",
      "Acorn_grouped     object\n",
      "dtypes: datetime64[ns](1), object(4)\n",
      "memory usage: 7.5+ GB\n"
     ]
    }
   ],
   "source": [
    "hh_df.info()"
   ]
  },
  {
   "cell_type": "code",
   "execution_count": 8,
   "metadata": {},
   "outputs": [],
   "source": [
    "hh_df = hh_df[hh_df['energy(kWh/hh)'] != \"Null\"]"
   ]
  },
  {
   "cell_type": "code",
   "execution_count": 9,
   "metadata": {},
   "outputs": [
    {
     "data": {
      "text/plain": [
       "167817021"
      ]
     },
     "execution_count": 9,
     "metadata": {},
     "output_type": "execute_result"
    }
   ],
   "source": [
    "len(halfhourly_consumption)"
   ]
  },
  {
   "cell_type": "code",
   "execution_count": 11,
   "metadata": {},
   "outputs": [
    {
     "data": {
      "text/html": [
       "<div>\n",
       "<style scoped>\n",
       "    .dataframe tbody tr th:only-of-type {\n",
       "        vertical-align: middle;\n",
       "    }\n",
       "\n",
       "    .dataframe tbody tr th {\n",
       "        vertical-align: top;\n",
       "    }\n",
       "\n",
       "    .dataframe thead th {\n",
       "        text-align: right;\n",
       "    }\n",
       "</style>\n",
       "<table border=\"1\" class=\"dataframe\">\n",
       "  <thead>\n",
       "    <tr style=\"text-align: right;\">\n",
       "      <th></th>\n",
       "      <th>LCLid</th>\n",
       "      <th>energy(kWh/hh)</th>\n",
       "      <th>timestamp</th>\n",
       "      <th>stdorToU</th>\n",
       "      <th>Acorn_grouped</th>\n",
       "    </tr>\n",
       "  </thead>\n",
       "  <tbody>\n",
       "    <tr>\n",
       "      <th>0</th>\n",
       "      <td>MAC000027</td>\n",
       "      <td>0.185</td>\n",
       "      <td>2011-12-07 11:30:00</td>\n",
       "      <td>Std</td>\n",
       "      <td>Comfortable</td>\n",
       "    </tr>\n",
       "    <tr>\n",
       "      <th>1</th>\n",
       "      <td>MAC000027</td>\n",
       "      <td>0.155</td>\n",
       "      <td>2011-12-07 12:00:00</td>\n",
       "      <td>Std</td>\n",
       "      <td>Comfortable</td>\n",
       "    </tr>\n",
       "    <tr>\n",
       "      <th>2</th>\n",
       "      <td>MAC000027</td>\n",
       "      <td>0.147</td>\n",
       "      <td>2011-12-07 12:30:00</td>\n",
       "      <td>Std</td>\n",
       "      <td>Comfortable</td>\n",
       "    </tr>\n",
       "    <tr>\n",
       "      <th>3</th>\n",
       "      <td>MAC000027</td>\n",
       "      <td>0.164</td>\n",
       "      <td>2011-12-07 13:00:00</td>\n",
       "      <td>Std</td>\n",
       "      <td>Comfortable</td>\n",
       "    </tr>\n",
       "    <tr>\n",
       "      <th>4</th>\n",
       "      <td>MAC000027</td>\n",
       "      <td>0.187</td>\n",
       "      <td>2011-12-07 13:30:00</td>\n",
       "      <td>Std</td>\n",
       "      <td>Comfortable</td>\n",
       "    </tr>\n",
       "  </tbody>\n",
       "</table>\n",
       "</div>"
      ],
      "text/plain": [
       "       LCLid energy(kWh/hh)           timestamp stdorToU Acorn_grouped\n",
       "0  MAC000027         0.185  2011-12-07 11:30:00      Std   Comfortable\n",
       "1  MAC000027         0.155  2011-12-07 12:00:00      Std   Comfortable\n",
       "2  MAC000027         0.147  2011-12-07 12:30:00      Std   Comfortable\n",
       "3  MAC000027         0.164  2011-12-07 13:00:00      Std   Comfortable\n",
       "4  MAC000027         0.187  2011-12-07 13:30:00      Std   Comfortable"
      ]
     },
     "execution_count": 11,
     "metadata": {},
     "output_type": "execute_result"
    }
   ],
   "source": [
    "hh_df.head()"
   ]
  },
  {
   "cell_type": "code",
   "execution_count": 13,
   "metadata": {},
   "outputs": [],
   "source": [
    "ACORN_U = hh_df[hh_df['Acorn_grouped'] == 'ACORN-U']\n",
    "Adversity = hh_df[hh_df['Acorn_grouped'] == 'Adversity']\n",
    "Affluent = hh_df[hh_df['Acorn_grouped'] == 'Affluent']\n",
    "Comfortable = hh_df[hh_df['Acorn_grouped'] == 'Comfortable']"
   ]
  },
  {
   "cell_type": "code",
   "execution_count": 25,
   "metadata": {},
   "outputs": [],
   "source": [
    "acornu = pd.get_dummies(ACORN_U, columns=['stdorToU'], dtype= bool)"
   ]
  },
  {
   "cell_type": "code",
   "execution_count": 26,
   "metadata": {},
   "outputs": [],
   "source": [
    "adversity = pd.get_dummies(Adversity, columns=['stdorToU'], dtype=bool)"
   ]
  },
  {
   "cell_type": "code",
   "execution_count": 27,
   "metadata": {},
   "outputs": [],
   "source": [
    "affluent = pd.get_dummies(Affluent, columns=['stdorToU'], dtype=bool)"
   ]
  },
  {
   "cell_type": "code",
   "execution_count": 28,
   "metadata": {},
   "outputs": [],
   "source": [
    "comfortable = pd.get_dummies(Comfortable, columns=['stdorToU'], dtype=bool)"
   ]
  },
  {
   "cell_type": "code",
   "execution_count": 30,
   "metadata": {},
   "outputs": [],
   "source": [
    "del acornu['LCLid']\n",
    "del acornu['Acorn_grouped']\n",
    "del adversity['LCLid']\n",
    "del adversity['Acorn_grouped']\n",
    "del affluent['LCLid']\n",
    "del affluent['Acorn_grouped']\n",
    "del comfortable['LCLid']\n",
    "del comfortable['Acorn_grouped']"
   ]
  },
  {
   "cell_type": "code",
   "execution_count": 31,
   "metadata": {},
   "outputs": [
    {
     "name": "stdout",
     "output_type": "stream",
     "text": [
      "<class 'pandas.core.frame.DataFrame'>\n",
      "Int64Index: 1411777 entries, 99554429 to 113705009\n",
      "Data columns (total 4 columns):\n",
      "energy(kWh/hh)    1411777 non-null object\n",
      "timestamp         1411777 non-null datetime64[ns]\n",
      "stdorToU_Std      1411777 non-null bool\n",
      "stdorToU_ToU      1411777 non-null bool\n",
      "dtypes: bool(2), datetime64[ns](1), object(1)\n",
      "memory usage: 35.0+ MB\n"
     ]
    }
   ],
   "source": [
    "acornu.info()"
   ]
  },
  {
   "cell_type": "code",
   "execution_count": 32,
   "metadata": {},
   "outputs": [
    {
     "name": "stderr",
     "output_type": "stream",
     "text": [
      "/Users/mariabelenalberti/anaconda3/lib/python3.7/site-packages/ipykernel_launcher.py:1: FutureWarning: convert_objects is deprecated.  To re-infer data dtypes for object columns, use Series.infer_objects()\n",
      "For all other conversions use the data-type specific converters pd.to_datetime, pd.to_timedelta and pd.to_numeric.\n",
      "  \"\"\"Entry point for launching an IPython kernel.\n",
      "/Users/mariabelenalberti/anaconda3/lib/python3.7/site-packages/ipykernel_launcher.py:2: FutureWarning: convert_objects is deprecated.  To re-infer data dtypes for object columns, use Series.infer_objects()\n",
      "For all other conversions use the data-type specific converters pd.to_datetime, pd.to_timedelta and pd.to_numeric.\n",
      "  \n",
      "/Users/mariabelenalberti/anaconda3/lib/python3.7/site-packages/ipykernel_launcher.py:3: FutureWarning: convert_objects is deprecated.  To re-infer data dtypes for object columns, use Series.infer_objects()\n",
      "For all other conversions use the data-type specific converters pd.to_datetime, pd.to_timedelta and pd.to_numeric.\n",
      "  This is separate from the ipykernel package so we can avoid doing imports until\n",
      "/Users/mariabelenalberti/anaconda3/lib/python3.7/site-packages/ipykernel_launcher.py:4: FutureWarning: convert_objects is deprecated.  To re-infer data dtypes for object columns, use Series.infer_objects()\n",
      "For all other conversions use the data-type specific converters pd.to_datetime, pd.to_timedelta and pd.to_numeric.\n",
      "  after removing the cwd from sys.path.\n"
     ]
    }
   ],
   "source": [
    "acornu[\"energy(kWh/hh)\"] = acornu[\"energy(kWh/hh)\"].convert_objects(convert_numeric=True)\n",
    "adversity[\"energy(kWh/hh)\"] = adversity[\"energy(kWh/hh)\"].convert_objects(convert_numeric=True)\n",
    "affluent[\"energy(kWh/hh)\"] = affluent[\"energy(kWh/hh)\"].convert_objects(convert_numeric=True)\n",
    "comfortable[\"energy(kWh/hh)\"] = comfortable[\"energy(kWh/hh)\"].convert_objects(convert_numeric=True)"
   ]
  },
  {
   "cell_type": "code",
   "execution_count": 37,
   "metadata": {},
   "outputs": [
    {
     "data": {
      "text/html": [
       "<div>\n",
       "<style scoped>\n",
       "    .dataframe tbody tr th:only-of-type {\n",
       "        vertical-align: middle;\n",
       "    }\n",
       "\n",
       "    .dataframe tbody tr th {\n",
       "        vertical-align: top;\n",
       "    }\n",
       "\n",
       "    .dataframe thead th {\n",
       "        text-align: right;\n",
       "    }\n",
       "</style>\n",
       "<table border=\"1\" class=\"dataframe\">\n",
       "  <thead>\n",
       "    <tr style=\"text-align: right;\">\n",
       "      <th></th>\n",
       "      <th>energy(kWh/hh)</th>\n",
       "      <th>timestamp</th>\n",
       "      <th>stdorToU_Std</th>\n",
       "      <th>stdorToU_ToU</th>\n",
       "    </tr>\n",
       "  </thead>\n",
       "  <tbody>\n",
       "    <tr>\n",
       "      <th>99554429</th>\n",
       "      <td>0.279</td>\n",
       "      <td>2011-12-12 13:00:00</td>\n",
       "      <td>True</td>\n",
       "      <td>False</td>\n",
       "    </tr>\n",
       "    <tr>\n",
       "      <th>99554430</th>\n",
       "      <td>0.176</td>\n",
       "      <td>2011-12-12 13:30:00</td>\n",
       "      <td>True</td>\n",
       "      <td>False</td>\n",
       "    </tr>\n",
       "    <tr>\n",
       "      <th>99554431</th>\n",
       "      <td>0.044</td>\n",
       "      <td>2011-12-12 14:00:00</td>\n",
       "      <td>True</td>\n",
       "      <td>False</td>\n",
       "    </tr>\n",
       "    <tr>\n",
       "      <th>99554432</th>\n",
       "      <td>0.020</td>\n",
       "      <td>2011-12-12 14:30:00</td>\n",
       "      <td>True</td>\n",
       "      <td>False</td>\n",
       "    </tr>\n",
       "    <tr>\n",
       "      <th>99554433</th>\n",
       "      <td>0.023</td>\n",
       "      <td>2011-12-12 15:00:00</td>\n",
       "      <td>True</td>\n",
       "      <td>False</td>\n",
       "    </tr>\n",
       "  </tbody>\n",
       "</table>\n",
       "</div>"
      ],
      "text/plain": [
       "          energy(kWh/hh)           timestamp  stdorToU_Std  stdorToU_ToU\n",
       "99554429           0.279 2011-12-12 13:00:00          True         False\n",
       "99554430           0.176 2011-12-12 13:30:00          True         False\n",
       "99554431           0.044 2011-12-12 14:00:00          True         False\n",
       "99554432           0.020 2011-12-12 14:30:00          True         False\n",
       "99554433           0.023 2011-12-12 15:00:00          True         False"
      ]
     },
     "execution_count": 37,
     "metadata": {},
     "output_type": "execute_result"
    }
   ],
   "source": [
    "acornu.head()"
   ]
  },
  {
   "cell_type": "code",
   "execution_count": null,
   "metadata": {},
   "outputs": [],
   "source": []
  },
  {
   "cell_type": "code",
   "execution_count": 39,
   "metadata": {},
   "outputs": [],
   "source": [
    "acornu_tou = acornu.loc[acornu['stdorToU_Std'] == True]\n",
    "acornu_std = acornu.loc[acornu['stdorToU_ToU'] == True]"
   ]
  },
  {
   "cell_type": "code",
   "execution_count": 40,
   "metadata": {},
   "outputs": [],
   "source": [
    "adversity_tou = adversity.loc[adversity['stdorToU_Std'] == True]\n",
    "adversity_std = adversity.loc[adversity['stdorToU_ToU'] == True]"
   ]
  },
  {
   "cell_type": "code",
   "execution_count": 42,
   "metadata": {},
   "outputs": [],
   "source": [
    "affluent_tou = affluent.loc[affluent['stdorToU_Std'] == True]\n",
    "affluent_std = affluent.loc[affluent['stdorToU_ToU'] == True]"
   ]
  },
  {
   "cell_type": "code",
   "execution_count": 43,
   "metadata": {},
   "outputs": [],
   "source": [
    "comfortable_tou = comfortable.loc[comfortable['stdorToU_Std'] == True]\n",
    "comfortable_std = comfortable.loc[comfortable['stdorToU_ToU'] == True]"
   ]
  },
  {
   "cell_type": "code",
   "execution_count": null,
   "metadata": {},
   "outputs": [],
   "source": []
  },
  {
   "cell_type": "code",
   "execution_count": 45,
   "metadata": {},
   "outputs": [],
   "source": [
    "acornu_tou = acornu_tou[[\"timestamp\",\"energy(kWh/hh)\",]]\n",
    "acornu_std = acornu_std[[\"timestamp\",\"energy(kWh/hh)\",]]"
   ]
  },
  {
   "cell_type": "code",
   "execution_count": 46,
   "metadata": {},
   "outputs": [],
   "source": [
    "adversity_tou = adversity_tou[[\"timestamp\",\"energy(kWh/hh)\",]]\n",
    "adversity_std = adversity_std[[\"timestamp\",\"energy(kWh/hh)\",]]"
   ]
  },
  {
   "cell_type": "code",
   "execution_count": 47,
   "metadata": {},
   "outputs": [],
   "source": [
    "affluent_tou = affluent_tou[[\"timestamp\",\"energy(kWh/hh)\",]]\n",
    "affluent_std = affluent_std[[\"timestamp\",\"energy(kWh/hh)\",]]"
   ]
  },
  {
   "cell_type": "code",
   "execution_count": 48,
   "metadata": {},
   "outputs": [],
   "source": [
    "comfortable_tou = comfortable_tou[[\"timestamp\",\"energy(kWh/hh)\",]]\n",
    "comfortable_std = comfortable_std[[\"timestamp\",\"energy(kWh/hh)\",]]"
   ]
  },
  {
   "cell_type": "code",
   "execution_count": 49,
   "metadata": {},
   "outputs": [
    {
     "data": {
      "text/html": [
       "<div>\n",
       "<style scoped>\n",
       "    .dataframe tbody tr th:only-of-type {\n",
       "        vertical-align: middle;\n",
       "    }\n",
       "\n",
       "    .dataframe tbody tr th {\n",
       "        vertical-align: top;\n",
       "    }\n",
       "\n",
       "    .dataframe thead th {\n",
       "        text-align: right;\n",
       "    }\n",
       "</style>\n",
       "<table border=\"1\" class=\"dataframe\">\n",
       "  <thead>\n",
       "    <tr style=\"text-align: right;\">\n",
       "      <th></th>\n",
       "      <th>timestamp</th>\n",
       "      <th>energy(kWh/hh)</th>\n",
       "    </tr>\n",
       "  </thead>\n",
       "  <tbody>\n",
       "    <tr>\n",
       "      <th>99554429</th>\n",
       "      <td>2011-12-12 13:00:00</td>\n",
       "      <td>0.279</td>\n",
       "    </tr>\n",
       "    <tr>\n",
       "      <th>99554430</th>\n",
       "      <td>2011-12-12 13:30:00</td>\n",
       "      <td>0.176</td>\n",
       "    </tr>\n",
       "    <tr>\n",
       "      <th>99554431</th>\n",
       "      <td>2011-12-12 14:00:00</td>\n",
       "      <td>0.044</td>\n",
       "    </tr>\n",
       "    <tr>\n",
       "      <th>99554432</th>\n",
       "      <td>2011-12-12 14:30:00</td>\n",
       "      <td>0.020</td>\n",
       "    </tr>\n",
       "    <tr>\n",
       "      <th>99554433</th>\n",
       "      <td>2011-12-12 15:00:00</td>\n",
       "      <td>0.023</td>\n",
       "    </tr>\n",
       "  </tbody>\n",
       "</table>\n",
       "</div>"
      ],
      "text/plain": [
       "                   timestamp  energy(kWh/hh)\n",
       "99554429 2011-12-12 13:00:00           0.279\n",
       "99554430 2011-12-12 13:30:00           0.176\n",
       "99554431 2011-12-12 14:00:00           0.044\n",
       "99554432 2011-12-12 14:30:00           0.020\n",
       "99554433 2011-12-12 15:00:00           0.023"
      ]
     },
     "execution_count": 49,
     "metadata": {},
     "output_type": "execute_result"
    }
   ],
   "source": [
    "acornu_tou.head()"
   ]
  },
  {
   "cell_type": "code",
   "execution_count": null,
   "metadata": {},
   "outputs": [],
   "source": []
  },
  {
   "cell_type": "code",
   "execution_count": null,
   "metadata": {},
   "outputs": [],
   "source": []
  },
  {
   "cell_type": "code",
   "execution_count": 50,
   "metadata": {},
   "outputs": [],
   "source": [
    "acornu_tou_grouped = acornu_tou.groupby(['timestamp']).mean().reset_index()"
   ]
  },
  {
   "cell_type": "code",
   "execution_count": 51,
   "metadata": {},
   "outputs": [],
   "source": [
    "acornu_std_grouped = acornu_std.groupby(['timestamp']).mean().reset_index()"
   ]
  },
  {
   "cell_type": "code",
   "execution_count": 52,
   "metadata": {},
   "outputs": [],
   "source": [
    "affluent_tou_grouped = affluent_tou.groupby(['timestamp']).mean().reset_index()"
   ]
  },
  {
   "cell_type": "code",
   "execution_count": 53,
   "metadata": {},
   "outputs": [],
   "source": [
    "affluent_std_grouped = affluent_std.groupby(['timestamp']).mean().reset_index()"
   ]
  },
  {
   "cell_type": "code",
   "execution_count": 54,
   "metadata": {},
   "outputs": [],
   "source": [
    "adversity_tou_grouped = adversity_tou.groupby(['timestamp']).mean().reset_index()"
   ]
  },
  {
   "cell_type": "code",
   "execution_count": 55,
   "metadata": {},
   "outputs": [],
   "source": [
    "adversity_std_grouped = adversity_std.groupby(['timestamp']).mean().reset_index()"
   ]
  },
  {
   "cell_type": "code",
   "execution_count": 56,
   "metadata": {},
   "outputs": [],
   "source": [
    "comfortable_tou_grouped = comfortable_tou.groupby(['timestamp']).mean().reset_index()"
   ]
  },
  {
   "cell_type": "code",
   "execution_count": 70,
   "metadata": {},
   "outputs": [],
   "source": [
    "comfortable_std_grouped = comfortable_std.groupby(['timestamp']).mean().reset_index()"
   ]
  },
  {
   "cell_type": "code",
   "execution_count": 99,
   "metadata": {},
   "outputs": [],
   "source": [
    "acornu_tou_grouped.to_csv('acornu_tou_grouped.csv')"
   ]
  },
  {
   "cell_type": "code",
   "execution_count": 100,
   "metadata": {},
   "outputs": [],
   "source": [
    "acornu_std_grouped .to_csv('acornu_std_grouped.csv')"
   ]
  },
  {
   "cell_type": "code",
   "execution_count": 101,
   "metadata": {},
   "outputs": [],
   "source": [
    "affluent_tou_grouped.to_csv('affluent_tou_grouped.csv')"
   ]
  },
  {
   "cell_type": "code",
   "execution_count": 102,
   "metadata": {},
   "outputs": [],
   "source": [
    "affluent_std_grouped.to_csv('affluent_std_grouped.csv')"
   ]
  },
  {
   "cell_type": "code",
   "execution_count": 107,
   "metadata": {},
   "outputs": [],
   "source": [
    "adversity_tou_grouped.to_csv('adversity_tou_grouped.csv')"
   ]
  },
  {
   "cell_type": "code",
   "execution_count": 108,
   "metadata": {},
   "outputs": [],
   "source": [
    "adversity_std_grouped.to_csv('adversity_std_grouped.csv')"
   ]
  },
  {
   "cell_type": "code",
   "execution_count": 111,
   "metadata": {},
   "outputs": [],
   "source": [
    "comfortable_tou_grouped.to_csv('comfortable_tou_grouped.csv')"
   ]
  },
  {
   "cell_type": "code",
   "execution_count": 112,
   "metadata": {},
   "outputs": [],
   "source": [
    "comfortable_std_grouped.to_csv('comfortable_std_grouped.csv')"
   ]
  },
  {
   "cell_type": "code",
   "execution_count": null,
   "metadata": {},
   "outputs": [],
   "source": []
  }
 ],
 "metadata": {
  "kernelspec": {
   "display_name": "Python 3",
   "language": "python",
   "name": "python3"
  },
  "language_info": {
   "codemirror_mode": {
    "name": "ipython",
    "version": 3
   },
   "file_extension": ".py",
   "mimetype": "text/x-python",
   "name": "python",
   "nbconvert_exporter": "python",
   "pygments_lexer": "ipython3",
   "version": "3.7.3"
  },
  "toc": {
   "base_numbering": 1,
   "nav_menu": {},
   "number_sections": true,
   "sideBar": true,
   "skip_h1_title": false,
   "title_cell": "Table of Contents",
   "title_sidebar": "Contents",
   "toc_cell": false,
   "toc_position": {},
   "toc_section_display": true,
   "toc_window_display": false
  }
 },
 "nbformat": 4,
 "nbformat_minor": 2
}
