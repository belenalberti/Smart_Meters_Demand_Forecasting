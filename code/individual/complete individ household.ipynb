{
 "cells": [
  {
   "cell_type": "code",
   "execution_count": 1,
   "metadata": {},
   "outputs": [],
   "source": [
    "import pandas as pd\n",
    "from pandas import read_csv\n",
    "import glob\n",
    "import numpy as np\n",
    "import matplotlib.pyplot as plt"
   ]
  },
  {
   "cell_type": "code",
   "execution_count": 16,
   "metadata": {},
   "outputs": [],
   "source": [
    "folder = \"/Users/mariabelenalberti/OneDrive - Universidad Torcuato Di Tella/Tesis/datasets/finales/\"\n",
    "file = \"affluent_std copy.csv\"\n",
    "db = pd.read_csv(folder+file)"
   ]
  },
  {
   "cell_type": "code",
   "execution_count": 17,
   "metadata": {},
   "outputs": [],
   "source": [
    "db = db[['hour','temperature','pressure','wind_speed','humidity','weekend']]"
   ]
  },
  {
   "cell_type": "code",
   "execution_count": 29,
   "metadata": {},
   "outputs": [],
   "source": [
    "db = db.rename(columns={\"hour\": \"tstp\"})\n",
    "db['tstp']= pd.to_datetime(db['tstp'],format = '%d/%m/%Y %H:%M')"
   ]
  },
  {
   "cell_type": "code",
   "execution_count": 30,
   "metadata": {},
   "outputs": [
    {
     "data": {
      "text/html": [
       "<div>\n",
       "<style scoped>\n",
       "    .dataframe tbody tr th:only-of-type {\n",
       "        vertical-align: middle;\n",
       "    }\n",
       "\n",
       "    .dataframe tbody tr th {\n",
       "        vertical-align: top;\n",
       "    }\n",
       "\n",
       "    .dataframe thead th {\n",
       "        text-align: right;\n",
       "    }\n",
       "</style>\n",
       "<table border=\"1\" class=\"dataframe\">\n",
       "  <thead>\n",
       "    <tr style=\"text-align: right;\">\n",
       "      <th></th>\n",
       "      <th>tstp</th>\n",
       "      <th>temperature</th>\n",
       "      <th>pressure</th>\n",
       "      <th>wind_speed</th>\n",
       "      <th>humidity</th>\n",
       "      <th>weekend</th>\n",
       "    </tr>\n",
       "  </thead>\n",
       "  <tbody>\n",
       "    <tr>\n",
       "      <th>0</th>\n",
       "      <td>2012-01-01 00:00:00</td>\n",
       "      <td>13.49</td>\n",
       "      <td>1008.14</td>\n",
       "      <td>3.11</td>\n",
       "      <td>0.88</td>\n",
       "      <td>1</td>\n",
       "    </tr>\n",
       "    <tr>\n",
       "      <th>1</th>\n",
       "      <td>2012-01-01 00:30:00</td>\n",
       "      <td>13.49</td>\n",
       "      <td>1008.14</td>\n",
       "      <td>3.11</td>\n",
       "      <td>0.88</td>\n",
       "      <td>1</td>\n",
       "    </tr>\n",
       "    <tr>\n",
       "      <th>2</th>\n",
       "      <td>2012-01-01 01:00:00</td>\n",
       "      <td>12.73</td>\n",
       "      <td>1007.88</td>\n",
       "      <td>3.08</td>\n",
       "      <td>0.93</td>\n",
       "      <td>1</td>\n",
       "    </tr>\n",
       "    <tr>\n",
       "      <th>3</th>\n",
       "      <td>2012-01-01 01:30:00</td>\n",
       "      <td>12.73</td>\n",
       "      <td>1007.88</td>\n",
       "      <td>3.08</td>\n",
       "      <td>0.93</td>\n",
       "      <td>1</td>\n",
       "    </tr>\n",
       "    <tr>\n",
       "      <th>4</th>\n",
       "      <td>2012-01-01 02:00:00</td>\n",
       "      <td>13.65</td>\n",
       "      <td>1007.09</td>\n",
       "      <td>3.71</td>\n",
       "      <td>0.91</td>\n",
       "      <td>1</td>\n",
       "    </tr>\n",
       "  </tbody>\n",
       "</table>\n",
       "</div>"
      ],
      "text/plain": [
       "                 tstp  temperature  pressure  wind_speed  humidity  weekend\n",
       "0 2012-01-01 00:00:00        13.49   1008.14        3.11      0.88        1\n",
       "1 2012-01-01 00:30:00        13.49   1008.14        3.11      0.88        1\n",
       "2 2012-01-01 01:00:00        12.73   1007.88        3.08      0.93        1\n",
       "3 2012-01-01 01:30:00        12.73   1007.88        3.08      0.93        1\n",
       "4 2012-01-01 02:00:00        13.65   1007.09        3.71      0.91        1"
      ]
     },
     "execution_count": 30,
     "metadata": {},
     "output_type": "execute_result"
    }
   ],
   "source": [
    "db.head()"
   ]
  },
  {
   "cell_type": "code",
   "execution_count": 36,
   "metadata": {},
   "outputs": [],
   "source": [
    "household_files = ['household_MAC000002.csv','household_MAC000003.csv']"
   ]
  },
  {
   "cell_type": "code",
   "execution_count": null,
   "metadata": {},
   "outputs": [],
   "source": [
    "for file in household_files:\n",
    "    folder = '/Users/mariabelenalberti/OneDrive - Universidad Torcuato Di Tella/Tesis/code/individual/small/'\n",
    "    df = pd.read_csv(folder+str(file))\n",
    "    if len(df) == 35040:\n",
    "        df['tstp']= pd.to_datetime(df['tstp'],format = '%Y/%m/%d %H:%M:%S')\n",
    "        merge = pd.merge(df,db, on='tstp')\n",
    "        df = pd.DataFrame(merge)\n",
    "        df.to_csv(str(file),index=False)"
   ]
  }
 ],
 "metadata": {
  "kernelspec": {
   "display_name": "Python 3",
   "language": "python",
   "name": "python3"
  },
  "language_info": {
   "codemirror_mode": {
    "name": "ipython",
    "version": 3
   },
   "file_extension": ".py",
   "mimetype": "text/x-python",
   "name": "python",
   "nbconvert_exporter": "python",
   "pygments_lexer": "ipython3",
   "version": "3.7.3"
  },
  "toc": {
   "base_numbering": 1,
   "nav_menu": {},
   "number_sections": true,
   "sideBar": true,
   "skip_h1_title": false,
   "title_cell": "Table of Contents",
   "title_sidebar": "Contents",
   "toc_cell": false,
   "toc_position": {},
   "toc_section_display": true,
   "toc_window_display": false
  }
 },
 "nbformat": 4,
 "nbformat_minor": 2
}
