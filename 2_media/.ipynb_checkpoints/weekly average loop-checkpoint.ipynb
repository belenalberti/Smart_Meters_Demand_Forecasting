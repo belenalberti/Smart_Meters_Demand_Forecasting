{
 "cells": [
  {
   "cell_type": "code",
   "execution_count": 1,
   "metadata": {},
   "outputs": [],
   "source": [
    "import pandas as pd\n",
    "import numpy as np\n",
    "from pandas import read_csv\n",
    "from sklearn import metrics\n",
    "import glob\n",
    "import math\n",
    "import matplotlib.pyplot as plt\n",
    "from statistics import mean "
   ]
  },
  {
   "cell_type": "code",
   "execution_count": 2,
   "metadata": {},
   "outputs": [],
   "source": [
    "def sMAPE(a, b):\n",
    "    a = np.reshape(a, (-1,))\n",
    "    b = np.reshape(b, (-1,))\n",
    "    return np.mean(100*2.0 * np.abs(a - b) / (np.abs(a) + np.abs(b))).item()"
   ]
  },
  {
   "cell_type": "code",
   "execution_count": 3,
   "metadata": {},
   "outputs": [],
   "source": [
    "def rmsle(y, y_pred):     \n",
    "    assert len(y) == len(y_pred)\n",
    "    terms_to_sum = [(math.log(y_pred[i] + 1) - math.log(y[i] + 1)) ** 2.0 for i,pred in enumerate(y_pred)]\n",
    "    return (sum(terms_to_sum) * (1.0/len(y))) ** 0.5"
   ]
  },
  {
   "cell_type": "code",
   "execution_count": 4,
   "metadata": {},
   "outputs": [],
   "source": [
    "def average_week(df):\n",
    "    \n",
    "    df['tstp'] = pd.to_datetime(df['tstp'],format = '%d/%m/%Y %H:%M')\n",
    "    df['year'] = pd.DatetimeIndex(df['tstp']).year\n",
    "    \n",
    "    #Separate into train and test\n",
    "    print('Separating into train and test')\n",
    "    train = df[:33648]\n",
    "    test = df[33648:34992]\n",
    "    y_test = test['energy(kWh/hh)'].to_list()\n",
    "        \n",
    "    #create columns for the grouping by tstp\n",
    "    train['day_of_week'] = pd.DatetimeIndex(train['tstp']).dayofweek\n",
    "    train['hour'] = pd.DatetimeIndex(train['tstp']).hour\n",
    "    train['minute'] = pd.DatetimeIndex(train['tstp']).minute\n",
    "        \n",
    "    #Predict\n",
    "    print('Predicting')\n",
    "    # groupby (in our case this is the prediction)\n",
    "    prediction_hh = train.groupby(['day_of_week','hour','minute']).mean().reset_index()\n",
    "    del prediction_hh['year']\n",
    "    #Since our test is 4 weeks long, our prediction has to be 4 weeks long\n",
    "    y_pred_sem1 = prediction_hh['energy(kWh/hh)']\n",
    "    y_pred_sem2 = prediction_hh['energy(kWh/hh)']\n",
    "    y_pred_sem3 = prediction_hh['energy(kWh/hh)']\n",
    "    y_pred_sem4 = prediction_hh['energy(kWh/hh)']\n",
    "    frames = [y_pred_sem1,y_pred_sem2,y_pred_sem3,y_pred_sem4]\n",
    "    y_pred = pd.concat(frames).to_list()\n",
    "            \n",
    "    #Metrics\n",
    "    print('Calculating metrics')\n",
    "    mape_i = sMAPE(y_test,y_pred)\n",
    "    rmsle_i = rmsle(y_test,y_pred)\n",
    "        \n",
    "    return mape_i,rmsle_i"
   ]
  },
  {
   "cell_type": "code",
   "execution_count": 30,
   "metadata": {},
   "outputs": [
    {
     "name": "stdout",
     "output_type": "stream",
     "text": [
      "Separating into train and test\n",
      "Predicting\n",
      "Calculating metrics\n",
      "household number 1\n"
     ]
    },
    {
     "name": "stderr",
     "output_type": "stream",
     "text": [
      "/Users/mariabelenalberti/anaconda3/lib/python3.7/site-packages/ipykernel_launcher.py:13: SettingWithCopyWarning: \n",
      "A value is trying to be set on a copy of a slice from a DataFrame.\n",
      "Try using .loc[row_indexer,col_indexer] = value instead\n",
      "\n",
      "See the caveats in the documentation: http://pandas.pydata.org/pandas-docs/stable/indexing.html#indexing-view-versus-copy\n",
      "  del sys.path[0]\n",
      "/Users/mariabelenalberti/anaconda3/lib/python3.7/site-packages/ipykernel_launcher.py:14: SettingWithCopyWarning: \n",
      "A value is trying to be set on a copy of a slice from a DataFrame.\n",
      "Try using .loc[row_indexer,col_indexer] = value instead\n",
      "\n",
      "See the caveats in the documentation: http://pandas.pydata.org/pandas-docs/stable/indexing.html#indexing-view-versus-copy\n",
      "  \n",
      "/Users/mariabelenalberti/anaconda3/lib/python3.7/site-packages/ipykernel_launcher.py:15: SettingWithCopyWarning: \n",
      "A value is trying to be set on a copy of a slice from a DataFrame.\n",
      "Try using .loc[row_indexer,col_indexer] = value instead\n",
      "\n",
      "See the caveats in the documentation: http://pandas.pydata.org/pandas-docs/stable/indexing.html#indexing-view-versus-copy\n",
      "  from ipykernel import kernelapp as app\n"
     ]
    },
    {
     "name": "stdout",
     "output_type": "stream",
     "text": [
      "Separating into train and test\n",
      "Predicting\n",
      "Calculating metrics\n",
      "household number 2\n",
      "Separating into train and test\n",
      "Predicting\n",
      "Calculating metrics\n",
      "household number 3\n",
      "Separating into train and test\n",
      "Predicting\n",
      "Calculating metrics\n",
      "household number 4\n",
      "Separating into train and test\n",
      "Predicting\n",
      "Calculating metrics\n",
      "household number 5\n",
      "Separating into train and test\n",
      "Predicting\n",
      "Calculating metrics\n",
      "household number 6\n",
      "Separating into train and test\n",
      "Predicting\n",
      "Calculating metrics\n",
      "household number 7\n",
      "Separating into train and test\n",
      "Predicting\n",
      "Calculating metrics\n",
      "household number 8\n",
      "Separating into train and test\n",
      "Predicting\n",
      "Calculating metrics\n",
      "household number 9\n",
      "Separating into train and test\n",
      "Predicting\n",
      "Calculating metrics\n",
      "household number 10\n",
      "Separating into train and test\n",
      "Predicting\n",
      "Calculating metrics\n",
      "household number 11\n",
      "Separating into train and test\n",
      "Predicting\n",
      "Calculating metrics\n",
      "household number 12\n",
      "Separating into train and test\n",
      "Predicting\n",
      "Calculating metrics\n",
      "household number 13\n",
      "Separating into train and test\n",
      "Predicting\n",
      "Calculating metrics\n",
      "household number 14\n"
     ]
    }
   ],
   "source": [
    "# Load all the blocks and concatenate them into one database\n",
    "path = '/Users/mariabelenalberti/OneDrive - Universidad Torcuato Di Tella/Tesis/code_datasets/1_data_frames/univariate/comfortable_tou' # use your path\n",
    "all_files = glob.glob(path + \"/*.csv\")\n",
    "\n",
    "mape_t = []\n",
    "rmsle_t = []\n",
    "i = 0\n",
    "for filename in all_files:\n",
    "    df = pd.read_csv(filename, index_col=None, header=0)\n",
    "    mape_i,rmsle_i = average_week(df)\n",
    "    mape_t.append(mape_i)\n",
    "    rmsle_t.append(rmsle_i)\n",
    "    i = i + 1\n",
    "    print('household number ' + str(i))\n"
   ]
  },
  {
   "cell_type": "code",
   "execution_count": 31,
   "metadata": {},
   "outputs": [
    {
     "data": {
      "image/png": "[encoded data removed]",
      "text/plain": [
       "<Figure size 504x504 with 1 Axes>"
      ]
     },
     "metadata": {
      "needs_background": "light"
     },
     "output_type": "display_data"
    }
   ],
   "source": [
    "plt.figure(figsize = (7,7))\n",
    "plt.scatter(range(len(mape_t)),mape_t)\n",
    "plt.plot(range(len(mape_t)),[min(mape_t)]*len(mape_t),color = 'red')\n",
    "plt.yticks([min(mape_t),20,40,60,80,100,120,140],[str(round(min(mape_t)))+' (Min)','20','40','60','80','100','120','140'])\n",
    "plt.title('Scatter plot with MAPE results',fontsize = 12)\n",
    "plt.xlabel('Households')\n",
    "plt.ylabel('MAPE')\n",
    "plt.savefig('/Users/mariabelenalberti/OneDrive - Universidad Torcuato Di Tella/Tesis/plots/2_average_model_pro/MAPE_comfortable_tou')\n",
    "plt.show()"
   ]
  },
  {
   "cell_type": "code",
   "execution_count": 32,
   "metadata": {},
   "outputs": [
    {
     "data": {
      "image/png": "[encoded data removed]",
      "text/plain": [
       "<Figure size 504x504 with 1 Axes>"
      ]
     },
     "metadata": {
      "needs_background": "light"
     },
     "output_type": "display_data"
    }
   ],
   "source": [
    "plt.figure(figsize = (7,7))\n",
    "plt.hist(mape_t)\n",
    "plt.axvline(x=min(mape_t), color='red', linestyle='dashed', linewidth=2)\n",
    "plt.axvline(x=np.average(mape_t), color='black', linestyle='dashed', linewidth=2)\n",
    "plt.title(\"MAPE results' histogram\",fontsize = 12)\n",
    "plt.xlabel('MAPE')\n",
    "plt.savefig('/Users/mariabelenalberti/OneDrive - Universidad Torcuato Di Tella/Tesis/plots/2_average_model_pro/MAPE_1_comfortable_tou')\n",
    "plt.show()"
   ]
  },
  {
   "cell_type": "code",
   "execution_count": 33,
   "metadata": {},
   "outputs": [
    {
     "data": {
      "image/png": "[encoded data removed]",
      "text/plain": [
       "<Figure size 504x504 with 1 Axes>"
      ]
     },
     "metadata": {
      "needs_background": "light"
     },
     "output_type": "display_data"
    }
   ],
   "source": [
    "plt.figure(figsize = (7,7))\n",
    "plt.scatter(range(len(rmsle_t)),rmsle_t)\n",
    "plt.plot(range(len(rmsle_t)),[min(rmsle_t)]*len(rmsle_t),color = 'red')\n",
    "plt.plot(range(len(rmsle_t)),[max(rmsle_t)]*len(rmsle_t),color = 'black')\n",
    "plt.yticks([min(rmsle_t),max(rmsle_t),0.5],[str(min(rmsle_t))+' (Min)',str(max(rmsle_t))+' (Max)','0.5'])\n",
    "plt.title('Scatter plot with RMSLE results',fontsize = 12)\n",
    "plt.xlabel('Households')\n",
    "plt.ylabel('RMSLE')\n",
    "plt.savefig('/Users/mariabelenalberti/OneDrive - Universidad Torcuato Di Tella/Tesis/plots/2_average_model_pro/RMSLE_comfortable_tou')\n",
    "plt.show()"
   ]
  },
  {
   "cell_type": "code",
   "execution_count": 34,
   "metadata": {},
   "outputs": [
    {
     "data": {
      "image/png": "[encoded data removed]",
      "text/plain": [
       "<Figure size 504x504 with 1 Axes>"
      ]
     },
     "metadata": {
      "needs_background": "light"
     },
     "output_type": "display_data"
    }
   ],
   "source": [
    "plt.figure(figsize = (7,7))\n",
    "plt.hist(rmsle_t)\n",
    "plt.axvline(x=min(rmsle_t), color='red', linestyle='dashed', linewidth=2)\n",
    "plt.axvline(x=np.average(rmsle_t), color='black', linestyle='dashed', linewidth=2)\n",
    "plt.title(\"RMSLE results' histogram\",fontsize = 12)\n",
    "plt.xlabel('RMSLE')\n",
    "plt.savefig('/Users/mariabelenalberti/OneDrive - Universidad Torcuato Di Tella/Tesis/plots/2_average_model_pro/RMSLE_1_comfortable_tou')\n",
    "\n",
    "plt.show()"
   ]
  },
  {
   "cell_type": "code",
   "execution_count": null,
   "metadata": {},
   "outputs": [],
   "source": []
  },
  {
   "cell_type": "code",
   "execution_count": null,
   "metadata": {},
   "outputs": [],
   "source": []
  }
 ],
 "metadata": {
  "kernelspec": {
   "display_name": "Python 3",
   "language": "python",
   "name": "python3"
  },
  "language_info": {
   "codemirror_mode": {
    "name": "ipython",
    "version": 3
   },
   "file_extension": ".py",
   "mimetype": "text/x-python",
   "name": "python",
   "nbconvert_exporter": "python",
   "pygments_lexer": "ipython3",
   "version": "3.7.3"
  },
  "toc": {
   "base_numbering": 1,
   "nav_menu": {},
   "number_sections": true,
   "sideBar": true,
   "skip_h1_title": false,
   "title_cell": "Table of Contents",
   "title_sidebar": "Contents",
   "toc_cell": false,
   "toc_position": {},
   "toc_section_display": true,
   "toc_window_display": false
  }
 },
 "nbformat": 4,
 "nbformat_minor": 2
}
