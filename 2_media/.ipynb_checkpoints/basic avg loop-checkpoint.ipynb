{
 "cells": [
  {
   "cell_type": "code",
   "execution_count": 1,
   "metadata": {},
   "outputs": [],
   "source": [
    "import pandas as pd\n",
    "import matplotlib.pyplot as plt\n",
    "import numpy as np\n",
    "from pandas import read_csv\n",
    "import math\n",
    "import glob"
   ]
  },
  {
   "cell_type": "code",
   "execution_count": 2,
   "metadata": {},
   "outputs": [],
   "source": [
    "def sMAPE(a, b):\n",
    "    a = np.reshape(a, (-1,))\n",
    "    b = np.reshape(b, (-1,))\n",
    "    return np.mean(100*2.0 * np.abs(a - b) / (np.abs(a) + np.abs(b))).item()"
   ]
  },
  {
   "cell_type": "code",
   "execution_count": 3,
   "metadata": {},
   "outputs": [],
   "source": [
    "def rmsle(y, y_pred):     \n",
    "    assert len(y) == len(y_pred)\n",
    "    terms_to_sum = [(math.log(y_pred[i] + 1) - math.log(y[i] + 1)) ** 2.0 for i,pred in enumerate(y_pred)]\n",
    "    return (sum(terms_to_sum) * (1.0/len(y))) ** 0.5"
   ]
  },
  {
   "cell_type": "code",
   "execution_count": 6,
   "metadata": {},
   "outputs": [],
   "source": [
    "def basic_avg(df):\n",
    "    \n",
    "    df['tstp'] = pd.to_datetime(df['tstp'],format = '%d/%m/%Y %H:%M')\n",
    "    \n",
    "    #Separate into train and test\n",
    "    print('separating into train and test')\n",
    "    train = df[:33600]\n",
    "    test = df[33600:]\n",
    "    y_test = test['energy(kWh/hh)'].to_list()\n",
    "               \n",
    "    # groupby (in our case this is the prediction)\n",
    "    print('Predicting')\n",
    "    prediction_hh = []\n",
    "    mean = train[\"energy(kWh/hh)\"].mean()\n",
    "    prediction_hh.append(mean)\n",
    "    #Since our test is 4 weeks long, our prediction has to be 4 weeks long\n",
    "    y_pred = prediction_hh*1488   \n",
    "        \n",
    "    #Metrics\n",
    "    print('Calculating metrics')\n",
    "    mape_i = sMAPE(y_test,y_pred)\n",
    "    rmsle_i = rmsle(y_test,y_pred)\n",
    "    \n",
    "    return mape_i, rmsle_i\n",
    "    "
   ]
  },
  {
   "cell_type": "code",
   "execution_count": 84,
   "metadata": {},
   "outputs": [
    {
     "name": "stdout",
     "output_type": "stream",
     "text": [
      "separating into train and test\n",
      "Predicting\n",
      "Calculating metrics\n",
      "filename number 1\n",
      "separating into train and test\n",
      "Predicting\n",
      "Calculating metrics\n",
      "filename number 2\n",
      "separating into train and test\n",
      "Predicting\n",
      "Calculating metrics\n",
      "filename number 3\n",
      "separating into train and test\n",
      "Predicting\n",
      "Calculating metrics\n",
      "filename number 4\n",
      "separating into train and test\n",
      "Predicting\n",
      "Calculating metrics\n",
      "filename number 5\n",
      "separating into train and test\n",
      "Predicting\n",
      "Calculating metrics\n",
      "filename number 6\n",
      "separating into train and test\n",
      "Predicting\n",
      "Calculating metrics\n",
      "filename number 7\n",
      "separating into train and test\n",
      "Predicting\n",
      "Calculating metrics\n",
      "filename number 8\n",
      "separating into train and test\n",
      "Predicting\n",
      "Calculating metrics\n",
      "filename number 9\n",
      "separating into train and test\n",
      "Predicting\n",
      "Calculating metrics\n",
      "filename number 10\n",
      "separating into train and test\n",
      "Predicting\n",
      "Calculating metrics\n",
      "filename number 11\n",
      "separating into train and test\n",
      "Predicting\n",
      "Calculating metrics\n",
      "filename number 12\n",
      "separating into train and test\n",
      "Predicting\n",
      "Calculating metrics\n",
      "filename number 13\n",
      "separating into train and test\n",
      "Predicting\n",
      "Calculating metrics\n",
      "filename number 14\n"
     ]
    }
   ],
   "source": [
    "# Load all the blocks and concatenate them into one database\n",
    "path = '/Users/mariabelenalberti/OneDrive - Universidad Torcuato Di Tella/Tesis/code_datasets/1_data_frames/univariate/comfortable_tou' # use your path\n",
    "all_files = glob.glob(path + \"/*.csv\")\n",
    "\n",
    "i = 0\n",
    "mape_t = []\n",
    "rmsle_t = []\n",
    "for filename in all_files:\n",
    "    df = pd.read_csv(filename, index_col=None, header=0)\n",
    "    mape_i,rmsle_i = basic_avg(df)\n",
    "    mape_t.append(mape_i)\n",
    "    rmsle_t.append(rmsle_i)\n",
    "    i = i + 1\n",
    "    print('filename number ' + str(i))"
   ]
  },
  {
   "cell_type": "code",
   "execution_count": 85,
   "metadata": {},
   "outputs": [
    {
     "data": {
      "image/png": "[encoded data removed]",
      "text/plain": [
       "<Figure size 504x504 with 1 Axes>"
      ]
     },
     "metadata": {
      "needs_background": "light"
     },
     "output_type": "display_data"
    }
   ],
   "source": [
    "plt.figure(figsize = (7,7))\n",
    "plt.scatter(range(len(mape_t)),mape_t)\n",
    "plt.plot(range(len(mape_t)),[min(mape_t)]*len(mape_t),color = 'red')\n",
    "plt.yticks([min(mape_t),20,40,60,80,100,120,140],[str(round(min(mape_t)))+' (Min)','20','40','60','80','100','120','140'])\n",
    "plt.title('Scatter plot with MAPE results',fontsize = 12)\n",
    "plt.xlabel('Households')\n",
    "plt.ylabel('MAPE')\n",
    "plt.savefig('/Users/mariabelenalberti/OneDrive - Universidad Torcuato Di Tella/Tesis/plots/1_average_model/MAPE_comfortable_tou')\n",
    "plt.show()"
   ]
  },
  {
   "cell_type": "code",
   "execution_count": 86,
   "metadata": {},
   "outputs": [
    {
     "data": {
      "image/png": "[encoded data removed]",
      "text/plain": [
       "<Figure size 504x504 with 1 Axes>"
      ]
     },
     "metadata": {
      "needs_background": "light"
     },
     "output_type": "display_data"
    }
   ],
   "source": [
    "plt.figure(figsize = (7,7))\n",
    "plt.hist(mape_t)\n",
    "plt.axvline(x=min(mape_t), color='red', linestyle='dashed', linewidth=2)\n",
    "plt.axvline(x=np.average(mape_t), color='black', linestyle='dashed', linewidth=2)\n",
    "plt.title(\"MAPE results' histogram\",fontsize = 12)\n",
    "plt.xlabel('MAPE')\n",
    "plt.savefig('/Users/mariabelenalberti/OneDrive - Universidad Torcuato Di Tella/Tesis/plots/1_average_model/MAPE_1_comfortable_tou')\n",
    "plt.show()"
   ]
  },
  {
   "cell_type": "code",
   "execution_count": 87,
   "metadata": {},
   "outputs": [
    {
     "data": {
      "image/png": "[encoded data removed]",
      "text/plain": [
       "<Figure size 504x504 with 1 Axes>"
      ]
     },
     "metadata": {
      "needs_background": "light"
     },
     "output_type": "display_data"
    }
   ],
   "source": [
    "plt.figure(figsize = (7,7))\n",
    "plt.scatter(range(len(rmsle_t)),rmsle_t)\n",
    "plt.plot(range(len(rmsle_t)),[min(rmsle_t)]*len(rmsle_t),color = 'red')\n",
    "plt.plot(range(len(rmsle_t)),[max(rmsle_t)]*len(rmsle_t),color = 'black')\n",
    "plt.yticks([min(rmsle_t),max(rmsle_t),0.5],[str(min(rmsle_t))+' (Min)',str(max(rmsle_t))+' (Max)','0.5'])\n",
    "plt.title('Scatter plot with RMSLE results',fontsize = 12)\n",
    "plt.xlabel('Households')\n",
    "plt.ylabel('RMSLE')\n",
    "plt.savefig('/Users/mariabelenalberti/OneDrive - Universidad Torcuato Di Tella/Tesis/plots/1_average_model/RMSLE_comfortable_tou')\n",
    "plt.show()"
   ]
  },
  {
   "cell_type": "code",
   "execution_count": 88,
   "metadata": {},
   "outputs": [
    {
     "data": {
      "image/png": "[encoded data removed]",
      "text/plain": [
       "<Figure size 504x504 with 1 Axes>"
      ]
     },
     "metadata": {
      "needs_background": "light"
     },
     "output_type": "display_data"
    }
   ],
   "source": [
    "plt.figure(figsize = (7,7))\n",
    "plt.hist(rmsle_t)\n",
    "plt.axvline(x=min(rmsle_t), color='red', linestyle='dashed', linewidth=2)\n",
    "plt.axvline(x=np.average(rmsle_t), color='black', linestyle='dashed', linewidth=2)\n",
    "plt.title(\"RMSLE results' histogram\",fontsize = 12)\n",
    "plt.xlabel('RMSLE')\n",
    "plt.savefig('/Users/mariabelenalberti/OneDrive - Universidad Torcuato Di Tella/Tesis/plots/1_average_model/RMSLE_1_comfortable_tou')\n",
    "plt.show()"
   ]
  },
  {
   "cell_type": "code",
   "execution_count": null,
   "metadata": {},
   "outputs": [],
   "source": []
  }
 ],
 "metadata": {
  "kernelspec": {
   "display_name": "Python 3",
   "language": "python",
   "name": "python3"
  },
  "language_info": {
   "codemirror_mode": {
    "name": "ipython",
    "version": 3
   },
   "file_extension": ".py",
   "mimetype": "text/x-python",
   "name": "python",
   "nbconvert_exporter": "python",
   "pygments_lexer": "ipython3",
   "version": "3.7.3"
  },
  "toc": {
   "base_numbering": 1,
   "nav_menu": {},
   "number_sections": true,
   "sideBar": true,
   "skip_h1_title": false,
   "title_cell": "Table of Contents",
   "title_sidebar": "Contents",
   "toc_cell": false,
   "toc_position": {},
   "toc_section_display": true,
   "toc_window_display": false
  }
 },
 "nbformat": 4,
 "nbformat_minor": 2
}
