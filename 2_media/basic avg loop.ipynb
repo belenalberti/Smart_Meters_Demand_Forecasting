{
 "cells": [
  {
   "cell_type": "code",
   "execution_count": 9,
   "metadata": {},
   "outputs": [],
   "source": [
    "import pandas as pd\n",
    "import matplotlib.pyplot as plt\n",
    "import numpy as np\n",
    "from pandas import read_csv\n",
    "import math\n",
    "from math import sqrt\n",
    "from sklearn.metrics import mean_squared_error\n",
    "import glob"
   ]
  },
  {
   "cell_type": "code",
   "execution_count": 10,
   "metadata": {},
   "outputs": [],
   "source": [
    "def rmsle(y, y_pred):     \n",
    "    assert len(y) == len(y_pred)\n",
    "    terms_to_sum = [(math.log(y_pred[i] + 1) - math.log(y[i] + 1)) ** 2.0 for i,pred in enumerate(y_pred)]\n",
    "    return (sum(terms_to_sum) * (1.0/len(y))) ** 0.5"
   ]
  },
  {
   "cell_type": "code",
   "execution_count": 13,
   "metadata": {},
   "outputs": [],
   "source": [
    "def basic_avg(df):\n",
    "    \n",
    "    df['tstp'] = pd.to_datetime(df['tstp'],format = '%d/%m/%Y %H:%M')\n",
    "    \n",
    "    #Separate into train and test\n",
    "    print('separating into train and test')\n",
    "    train = df[:33600]\n",
    "    test = df[33600:]\n",
    "    y_test = test['energy(kWh/hh)'].to_list()\n",
    "               \n",
    "    # groupby (in our case this is the prediction)\n",
    "    print('Predicting')\n",
    "    prediction_hh = []\n",
    "    mean = train[\"energy(kWh/hh)\"].mean()\n",
    "    prediction_hh.append(mean)\n",
    "    #Since our test is 4 weeks long, our prediction has to be 4 weeks long\n",
    "    y_pred = prediction_hh*1488   \n",
    "        \n",
    "    #Metrics\n",
    "    print('Calculating metric')\n",
    "    rmsle_i = rmsle(y_test,y_pred)\n",
    "    rmse_i = sqrt(mean_squared_error(y_test, y_pred))\n",
    "    \n",
    "    return rmsle_i,rmse_i\n",
    "    "
   ]
  },
  {
   "cell_type": "code",
   "execution_count": 28,
   "metadata": {},
   "outputs": [
    {
     "name": "stdout",
     "output_type": "stream",
     "text": [
      "separating into train and test\n",
      "Predicting\n",
      "Calculating metric\n",
      "filename number 1 of 14\n",
      "separating into train and test\n",
      "Predicting\n",
      "Calculating metric\n",
      "filename number 2 of 14\n",
      "separating into train and test\n",
      "Predicting\n",
      "Calculating metric\n",
      "filename number 3 of 14\n",
      "separating into train and test\n",
      "Predicting\n",
      "Calculating metric\n",
      "filename number 4 of 14\n",
      "separating into train and test\n",
      "Predicting\n",
      "Calculating metric\n",
      "filename number 5 of 14\n",
      "separating into train and test\n",
      "Predicting\n",
      "Calculating metric\n",
      "filename number 6 of 14\n",
      "separating into train and test\n",
      "Predicting\n",
      "Calculating metric\n",
      "filename number 7 of 14\n",
      "separating into train and test\n",
      "Predicting\n",
      "Calculating metric\n",
      "filename number 8 of 14\n",
      "separating into train and test\n",
      "Predicting\n",
      "Calculating metric\n",
      "filename number 9 of 14\n",
      "separating into train and test\n",
      "Predicting\n",
      "Calculating metric\n",
      "filename number 10 of 14\n",
      "separating into train and test\n",
      "Predicting\n",
      "Calculating metric\n",
      "filename number 11 of 14\n",
      "separating into train and test\n",
      "Predicting\n",
      "Calculating metric\n",
      "filename number 12 of 14\n",
      "separating into train and test\n",
      "Predicting\n",
      "Calculating metric\n",
      "filename number 13 of 14\n",
      "separating into train and test\n",
      "Predicting\n",
      "Calculating metric\n",
      "filename number 14 of 14\n"
     ]
    }
   ],
   "source": [
    "# Load all the blocks and concatenate them into one database\n",
    "path = '/Users/mariabelenalberti/OneDrive - Universidad Torcuato Di Tella/Tesis/code_datasets/1_data_frames/univariate/comfortable_tou' # use your path\n",
    "all_files = glob.glob(path + \"/*.csv\")\n",
    "\n",
    "i = 0\n",
    "rmsle_t = []\n",
    "rmse_t = []\n",
    "for filename in all_files:\n",
    "    df = pd.read_csv(filename, index_col=None, header=0)\n",
    "    rmsle_i, rmse_i = basic_avg(df)\n",
    "    rmsle_t.append(round(rmsle_i,3))\n",
    "    rmse_t.append(round(rmse_i,3))\n",
    "    i = i + 1\n",
    "    print('filename number ' + str(i) + ' of ' + str(len(all_files)))"
   ]
  },
  {
   "cell_type": "code",
   "execution_count": 29,
   "metadata": {},
   "outputs": [
    {
     "name": "stdout",
     "output_type": "stream",
     "text": [
      "RMSLE\n",
      "Min\n",
      "0.079\n",
      "Avg\n",
      "0.14114285714285715\n",
      "Max\n",
      "0.254\n",
      "RMSE\n",
      "Min\n",
      "0.101\n",
      "Avg\n",
      "0.20235714285714287\n",
      "Max\n",
      "0.394\n"
     ]
    }
   ],
   "source": [
    "print('RMSLE')\n",
    "print('Min')\n",
    "print(min(rmsle_t))\n",
    "print('Avg')\n",
    "print(np.average(rmsle_t))\n",
    "print('Max')\n",
    "print(max(rmsle_t))\n",
    "\n",
    "print('RMSE')\n",
    "print('Min')\n",
    "print(min(rmse_t))\n",
    "print('Avg')\n",
    "print(np.average(rmse_t))\n",
    "print('Max')\n",
    "print(max(rmse_t))\n"
   ]
  },
  {
   "cell_type": "code",
   "execution_count": 56,
   "metadata": {},
   "outputs": [
    {
     "data": {
      "image/png": "[encoded data removed]",
      "text/plain": [
       "<Figure size 720x360 with 2 Axes>"
      ]
     },
     "metadata": {
      "needs_background": "light"
     },
     "output_type": "display_data"
    }
   ],
   "source": [
    "plt.figure(figsize = (10,5))\n",
    "plt.subplot(121)\n",
    "plt.scatter(range(len(rmsle_t)),rmsle_t,color = 'yellow',alpha = 0.5)\n",
    "plt.plot(range(len(rmsle_t)),[min(rmsle_t)]*len(rmsle_t),color = 'grey',linestyle = '--')\n",
    "plt.plot(range(len(rmsle_t)),[round(np.average(rmsle_t),3)]*len(rmsle_t),color = 'grey',linestyle = ':')\n",
    "plt.plot(range(len(rmsle_t)),[max(rmsle_t)]*len(rmsle_t),color = 'grey',linestyle = '-.')\n",
    "plt.yticks([min(rmsle_t),round(np.average(rmsle_t),3),max(rmsle_t)],[str(min(rmsle_t)) + ' (Min)',\n",
    "                                                            str(round(np.average(rmsle_t),3)) + ' (Avg)',\n",
    "                                                                         str(max(rmsle_t))+' (Max)'])\n",
    "plt.title('RMSLE scatter plot',fontsize = 12)\n",
    "plt.xlabel('Households')\n",
    "plt.ylabel('RMSLE')\n",
    "\n",
    "plt.subplot(122)\n",
    "plt.hist(rmsle_t,color = 'yellow',alpha = 0.5)\n",
    "plt.axvline(x=min(rmsle_t), color='grey', linestyle='--', linewidth=2)\n",
    "plt.axvline(x=round(np.average(rmsle_t),3), color='grey', linestyle=':', linewidth=2)\n",
    "plt.axvline(x=max(rmsle_t), color='grey', linestyle='-.', linewidth=2)\n",
    "\n",
    "plt.title(\"RMSLE histogram\",fontsize = 12)\n",
    "plt.xlabel('RMSLE')\n",
    "plt.savefig('/Users/mariabelenalberti/OneDrive - Universidad Torcuato Di Tella/Tesis/plots/1_average_model_basic/RMSLE_comfortable_tou')\n",
    "\n",
    "plt.show();"
   ]
  },
  {
   "cell_type": "code",
   "execution_count": null,
   "metadata": {},
   "outputs": [],
   "source": []
  }
 ],
 "metadata": {
  "kernelspec": {
   "display_name": "Python 3",
   "language": "python",
   "name": "python3"
  },
  "language_info": {
   "codemirror_mode": {
    "name": "ipython",
    "version": 3
   },
   "file_extension": ".py",
   "mimetype": "text/x-python",
   "name": "python",
   "nbconvert_exporter": "python",
   "pygments_lexer": "ipython3",
   "version": "3.7.3"
  },
  "toc": {
   "base_numbering": 1,
   "nav_menu": {},
   "number_sections": true,
   "sideBar": true,
   "skip_h1_title": false,
   "title_cell": "Table of Contents",
   "title_sidebar": "Contents",
   "toc_cell": false,
   "toc_position": {},
   "toc_section_display": true,
   "toc_window_display": false
  }
 },
 "nbformat": 4,
 "nbformat_minor": 2
}
